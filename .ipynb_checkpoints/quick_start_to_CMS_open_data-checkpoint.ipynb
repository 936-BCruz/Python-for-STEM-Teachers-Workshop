{
  "nbformat": 4,
  "nbformat_minor": 0,
  "metadata": {
    "kernelspec": {
      "display_name": "Python 3",
      "language": "python",
      "name": "python3"
    },
    "language_info": {
      "codemirror_mode": {
        "name": "ipython",
        "version": 3
      },
      "file_extension": ".py",
      "mimetype": "text/x-python",
      "name": "python",
      "nbconvert_exporter": "python",
      "pygments_lexer": "ipython3",
      "version": "3.5.3"
    },
    "colab": {
      "name": "quick-start-to-CMS-open-data.ipynb",
      "provenance": [],
      "collapsed_sections": [],
      "include_colab_link": true
    }
  },
  "cells": [
    {
      "cell_type": "markdown",
      "metadata": {
        "id": "view-in-github",
        "colab_type": "text"
      },
      "source": [
        "<a href=\"https://colab.research.google.com/github/GuillermoFidalgo/Python-for-STEM-Teachers-Workshop/blob/master/quick_start_to_CMS_open_data.ipynb\" target=\"_parent\"><img src=\"https://colab.research.google.com/assets/colab-badge.svg\" alt=\"Open In Colab\"/></a>"
      ]
    },
    {
      "cell_type": "markdown",
      "metadata": {
        "id": "8sqe9jkSvSBB",
        "colab_type": "text"
      },
      "source": [
        "# Quick start to CMS Open Data"
      ]
    },
    {
      "cell_type": "markdown",
      "metadata": {
        "id": "QtffD8H0vSBO",
        "colab_type": "text"
      },
      "source": [
        "This is a jupyter notebook, where you can have text \"cells\" (like this text here) and code \"cells\" i.e. boxes where you can write python code to be executed (like the one below). No need to install anything (if you run this on Google Colab) or find compilers, it is all done for you in background.\n",
        "\n",
        "For the exercise with CMS open data, we use python as programming language: it is easy to get started, just type, for example, 1 + 1 in the cell below and click on \"Runtime\" tab above."
      ]
    },
    {
      "cell_type": "code",
      "metadata": {
        "id": "ofGoWKE6vSBW",
        "colab_type": "code",
        "outputId": "bc9998d1-6339-4cfc-9620-faf7c37f5177",
        "colab": {
          "base_uri": "https://localhost:8080/",
          "height": 35
        }
      },
      "source": [
        "1 + 1"
      ],
      "execution_count": 0,
      "outputs": [
        {
          "output_type": "execute_result",
          "data": {
            "text/plain": [
              "2"
            ]
          },
          "metadata": {
            "tags": []
          },
          "execution_count": 1
        }
      ]
    },
    {
      "cell_type": "markdown",
      "metadata": {
        "id": "p-I1Qsb8vSB0",
        "colab_type": "text"
      },
      "source": [
        "Now try something more advanced, for example sqrt(4)"
      ]
    },
    {
      "cell_type": "code",
      "metadata": {
        "id": "qtd1r9HHvSB7",
        "colab_type": "code",
        "outputId": "98dc720a-de92-4644-b303-9b05ba0dd3fe",
        "colab": {
          "base_uri": "https://localhost:8080/",
          "height": 167
        }
      },
      "source": [
        "sqrt(4)"
      ],
      "execution_count": 0,
      "outputs": [
        {
          "output_type": "error",
          "ename": "NameError",
          "evalue": "ignored",
          "traceback": [
            "\u001b[0;31m---------------------------------------------------------------------------\u001b[0m",
            "\u001b[0;31mNameError\u001b[0m                                 Traceback (most recent call last)",
            "\u001b[0;32m<ipython-input-2-317e033d29d5>\u001b[0m in \u001b[0;36m<module>\u001b[0;34m()\u001b[0m\n\u001b[0;32m----> 1\u001b[0;31m \u001b[0msqrt\u001b[0m\u001b[0;34m(\u001b[0m\u001b[0;36m4\u001b[0m\u001b[0;34m)\u001b[0m\u001b[0;34m\u001b[0m\u001b[0;34m\u001b[0m\u001b[0m\n\u001b[0m",
            "\u001b[0;31mNameError\u001b[0m: name 'sqrt' is not defined"
          ]
        }
      ]
    },
    {
      "cell_type": "markdown",
      "metadata": {
        "id": "QLNJ-RSmvSCK",
        "colab_type": "text"
      },
      "source": [
        "That failed: basic python can do some operations but for anything more complex, we need additional software packages or \"modules\".\n",
        "\n",
        "That's what we will import here (select the cell below and run it by clicking on the Run icon):"
      ]
    },
    {
      "cell_type": "code",
      "metadata": {
        "id": "gXkhBNjJvSCO",
        "colab_type": "code",
        "colab": {}
      },
      "source": [
        "import pandas as pd \n",
        "#pandas is for data structures and data analysis tools\n",
        "import numpy as np\n",
        "#numpy is for scientific computing\n",
        "import matplotlib.pyplot as plt\n",
        "#matplotlib is for plotting"
      ],
      "execution_count": 0,
      "outputs": []
    },
    {
      "cell_type": "markdown",
      "metadata": {
        "id": "vDWO6WmavSCW",
        "colab_type": "text"
      },
      "source": [
        "Do not worry about the two runtime warnings! Now, you want to try whether sqrt(4) works now? No, it does not... you will have to tell jupyter that you want to take the function from numpy (which for brevity was named np above). So try np.sqrt(4)... "
      ]
    },
    {
      "cell_type": "code",
      "metadata": {
        "id": "0xicEKrMvSCY",
        "colab_type": "code",
        "outputId": "42f92cec-6ee6-4923-f5e9-aa74a21f4915",
        "colab": {
          "base_uri": "https://localhost:8080/",
          "height": 35
        }
      },
      "source": [
        "np.sqrt(4)"
      ],
      "execution_count": 0,
      "outputs": [
        {
          "output_type": "execute_result",
          "data": {
            "text/plain": [
              "2.0"
            ]
          },
          "metadata": {
            "tags": []
          },
          "execution_count": 4
        }
      ]
    },
    {
      "cell_type": "markdown",
      "metadata": {
        "id": "csknuSCwvSCi",
        "colab_type": "text"
      },
      "source": [
        "Note that you can modify this page at any time, it does no harm. You can add cells (Insert) of any type from Code (default) to Text.\n",
        "\n",
        "OK, let's get started with the data. We'll read the data from the CERN Open data portal. We call it \"data\" but you can use any other name."
      ]
    },
    {
      "cell_type": "code",
      "metadata": {
        "id": "kdB2d-rEvSCk",
        "colab_type": "code",
        "colab": {}
      },
      "source": [
        "# we use read_csv function from pandas to read the data into a \"data frame\"\n",
        "data = pd.read_csv('http://cern.ch/opendata/record/545/files/Dimuon_DoubleMu.csv')"
      ],
      "execution_count": 0,
      "outputs": []
    },
    {
      "cell_type": "markdown",
      "metadata": {
        "id": "haf_PgUDvSCu",
        "colab_type": "text"
      },
      "source": [
        "We'll have a look what we got in these data:"
      ]
    },
    {
      "cell_type": "code",
      "metadata": {
        "id": "fbvyWF3EvSCw",
        "colab_type": "code",
        "outputId": "4674aff7-5293-4970-8085-47987ea2da20",
        "colab": {
          "base_uri": "https://localhost:8080/",
          "height": 203
        }
      },
      "source": [
        "data.head()"
      ],
      "execution_count": 0,
      "outputs": [
        {
          "output_type": "execute_result",
          "data": {
            "text/html": [
              "<div>\n",
              "<style scoped>\n",
              "    .dataframe tbody tr th:only-of-type {\n",
              "        vertical-align: middle;\n",
              "    }\n",
              "\n",
              "    .dataframe tbody tr th {\n",
              "        vertical-align: top;\n",
              "    }\n",
              "\n",
              "    .dataframe thead th {\n",
              "        text-align: right;\n",
              "    }\n",
              "</style>\n",
              "<table border=\"1\" class=\"dataframe\">\n",
              "  <thead>\n",
              "    <tr style=\"text-align: right;\">\n",
              "      <th></th>\n",
              "      <th>Run</th>\n",
              "      <th>Event</th>\n",
              "      <th>type1</th>\n",
              "      <th>E1</th>\n",
              "      <th>px1</th>\n",
              "      <th>py1</th>\n",
              "      <th>pz1</th>\n",
              "      <th>pt1</th>\n",
              "      <th>eta1</th>\n",
              "      <th>phi1</th>\n",
              "      <th>Q1</th>\n",
              "      <th>type2</th>\n",
              "      <th>E2</th>\n",
              "      <th>px2</th>\n",
              "      <th>py2</th>\n",
              "      <th>pz2</th>\n",
              "      <th>pt2</th>\n",
              "      <th>eta2</th>\n",
              "      <th>phi2</th>\n",
              "      <th>Q2</th>\n",
              "      <th>M</th>\n",
              "    </tr>\n",
              "  </thead>\n",
              "  <tbody>\n",
              "    <tr>\n",
              "      <th>0</th>\n",
              "      <td>165617</td>\n",
              "      <td>74601703</td>\n",
              "      <td>G</td>\n",
              "      <td>9.6987</td>\n",
              "      <td>-9.5104</td>\n",
              "      <td>0.3662</td>\n",
              "      <td>1.8633</td>\n",
              "      <td>9.5175</td>\n",
              "      <td>0.1945</td>\n",
              "      <td>3.1031</td>\n",
              "      <td>-1</td>\n",
              "      <td>G</td>\n",
              "      <td>9.7633</td>\n",
              "      <td>7.3277</td>\n",
              "      <td>-1.1524</td>\n",
              "      <td>6.3473</td>\n",
              "      <td>7.4178</td>\n",
              "      <td>0.7756</td>\n",
              "      <td>-0.1560</td>\n",
              "      <td>1</td>\n",
              "      <td>17.4922</td>\n",
              "    </tr>\n",
              "    <tr>\n",
              "      <th>1</th>\n",
              "      <td>165617</td>\n",
              "      <td>75100943</td>\n",
              "      <td>G</td>\n",
              "      <td>6.2039</td>\n",
              "      <td>-4.2666</td>\n",
              "      <td>0.4565</td>\n",
              "      <td>-4.4793</td>\n",
              "      <td>4.2910</td>\n",
              "      <td>-0.9121</td>\n",
              "      <td>3.0350</td>\n",
              "      <td>-1</td>\n",
              "      <td>G</td>\n",
              "      <td>9.6690</td>\n",
              "      <td>7.2740</td>\n",
              "      <td>-2.8211</td>\n",
              "      <td>-5.7104</td>\n",
              "      <td>7.8019</td>\n",
              "      <td>-0.6786</td>\n",
              "      <td>-0.3700</td>\n",
              "      <td>1</td>\n",
              "      <td>11.5534</td>\n",
              "    </tr>\n",
              "    <tr>\n",
              "      <th>2</th>\n",
              "      <td>165617</td>\n",
              "      <td>75587682</td>\n",
              "      <td>G</td>\n",
              "      <td>19.2892</td>\n",
              "      <td>-4.2121</td>\n",
              "      <td>-0.6516</td>\n",
              "      <td>18.8121</td>\n",
              "      <td>4.2622</td>\n",
              "      <td>2.1905</td>\n",
              "      <td>-2.9881</td>\n",
              "      <td>-1</td>\n",
              "      <td>G</td>\n",
              "      <td>9.8244</td>\n",
              "      <td>4.3439</td>\n",
              "      <td>-0.4735</td>\n",
              "      <td>8.7985</td>\n",
              "      <td>4.3697</td>\n",
              "      <td>1.4497</td>\n",
              "      <td>-0.1086</td>\n",
              "      <td>1</td>\n",
              "      <td>9.1636</td>\n",
              "    </tr>\n",
              "    <tr>\n",
              "      <th>3</th>\n",
              "      <td>165617</td>\n",
              "      <td>75660978</td>\n",
              "      <td>G</td>\n",
              "      <td>7.0427</td>\n",
              "      <td>-6.3268</td>\n",
              "      <td>-0.2685</td>\n",
              "      <td>3.0802</td>\n",
              "      <td>6.3325</td>\n",
              "      <td>0.4690</td>\n",
              "      <td>-3.0992</td>\n",
              "      <td>-1</td>\n",
              "      <td>G</td>\n",
              "      <td>5.5857</td>\n",
              "      <td>4.4748</td>\n",
              "      <td>0.8489</td>\n",
              "      <td>-3.2319</td>\n",
              "      <td>4.5546</td>\n",
              "      <td>-0.6605</td>\n",
              "      <td>0.1875</td>\n",
              "      <td>1</td>\n",
              "      <td>12.4774</td>\n",
              "    </tr>\n",
              "    <tr>\n",
              "      <th>4</th>\n",
              "      <td>165617</td>\n",
              "      <td>75947690</td>\n",
              "      <td>G</td>\n",
              "      <td>7.2751</td>\n",
              "      <td>0.1030</td>\n",
              "      <td>-5.5331</td>\n",
              "      <td>-4.7212</td>\n",
              "      <td>5.5340</td>\n",
              "      <td>-0.7736</td>\n",
              "      <td>-1.5522</td>\n",
              "      <td>-1</td>\n",
              "      <td>G</td>\n",
              "      <td>7.3181</td>\n",
              "      <td>-0.3988</td>\n",
              "      <td>6.9408</td>\n",
              "      <td>2.2825</td>\n",
              "      <td>6.9523</td>\n",
              "      <td>0.3227</td>\n",
              "      <td>1.6282</td>\n",
              "      <td>1</td>\n",
              "      <td>14.3159</td>\n",
              "    </tr>\n",
              "  </tbody>\n",
              "</table>\n",
              "</div>"
            ],
            "text/plain": [
              "      Run     Event type1       E1     px1  ...     pt2    eta2    phi2  Q2        M\n",
              "0  165617  74601703     G   9.6987 -9.5104  ...  7.4178  0.7756 -0.1560   1  17.4922\n",
              "1  165617  75100943     G   6.2039 -4.2666  ...  7.8019 -0.6786 -0.3700   1  11.5534\n",
              "2  165617  75587682     G  19.2892 -4.2121  ...  4.3697  1.4497 -0.1086   1   9.1636\n",
              "3  165617  75660978     G   7.0427 -6.3268  ...  4.5546 -0.6605  0.1875   1  12.4774\n",
              "4  165617  75947690     G   7.2751  0.1030  ...  6.9523  0.3227  1.6282   1  14.3159\n",
              "\n",
              "[5 rows x 21 columns]"
            ]
          },
          "metadata": {
            "tags": []
          },
          "execution_count": 6
        }
      ]
    },
    {
      "cell_type": "markdown",
      "metadata": {
        "id": "IAM7vH--vSC0",
        "colab_type": "text"
      },
      "source": [
        "This is a dataset from http://opendata.cern.ch/record/545 on CERN Open Data Portal. It is a csv (comma separated values) file which can be easily used in many different frameworks. You can find other files of this type with [this search](http://opendata.cern.ch/search?page=1&size=20&q=&type=Dataset&experiment=CMS&subtype=Derived&file_type=csv).\n",
        "\n",
        "What has been written in this dataset are the values (charge, direction, energy, momentum) of two muons from a CMS primary dataset http://opendata.cern.ch/record/17. All other particles have been omitted. If you're interested, the code and instructions for producing this kind of simplified datasets are in http://opendata.cern.ch/record/552\n",
        "\n",
        "Now, if you brave enough you can compute the invariant mass for the two muons. If you are in a hurry, just use the value M, which has been computed for you already :-)"
      ]
    },
    {
      "cell_type": "code",
      "metadata": {
        "id": "DZ3hQHJMvSC2",
        "colab_type": "code",
        "colab": {}
      },
      "source": [
        "invariant_mass = data['M']"
      ],
      "execution_count": 0,
      "outputs": []
    },
    {
      "cell_type": "markdown",
      "metadata": {
        "id": "b5PiplJPvSC8",
        "colab_type": "text"
      },
      "source": [
        "You can type the name of your new variable to see what went in there:"
      ]
    },
    {
      "cell_type": "code",
      "metadata": {
        "id": "qMr9JH5avSC9",
        "colab_type": "code",
        "outputId": "5e6ea598-a855-47e8-8226-6ec162241416",
        "colab": {
          "base_uri": "https://localhost:8080/",
          "height": 228
        }
      },
      "source": [
        "invariant_mass"
      ],
      "execution_count": 0,
      "outputs": [
        {
          "output_type": "execute_result",
          "data": {
            "text/plain": [
              "0        17.4922\n",
              "1        11.5534\n",
              "2         9.1636\n",
              "3        12.4774\n",
              "4        14.3159\n",
              "          ...   \n",
              "99995    11.2077\n",
              "99996    14.5819\n",
              "99997    29.8425\n",
              "99998    20.2068\n",
              "99999     9.3741\n",
              "Name: M, Length: 100000, dtype: float64"
            ]
          },
          "metadata": {
            "tags": []
          },
          "execution_count": 8
        }
      ]
    },
    {
      "cell_type": "markdown",
      "metadata": {
        "id": "Gy179RvBvSDD",
        "colab_type": "text"
      },
      "source": [
        "Now let's make a histogram"
      ]
    },
    {
      "cell_type": "code",
      "metadata": {
        "id": "MTOef28CvSDE",
        "colab_type": "code",
        "outputId": "4df13c57-f6f3-4834-95cb-ed933e958cd6",
        "colab": {
          "base_uri": "https://localhost:8080/",
          "height": 425
        }
      },
      "source": [
        "# Plot the histogram with the function hist() of the matplotlib.pyplot module:\n",
        "# (http://matplotlib.org/api/pyplot_api.html?highlight=matplotlib.pyplot.hist#matplotlib.pyplot.hist).\n",
        "# 'Bins' determines the number of the bins used.\n",
        "\n",
        "plt.figure(dpi=100)\n",
        "plt.hist(invariant_mass, bins=500)\n",
        "\n",
        "# Name the axises and give the title.\n",
        "plt.xlabel('Invariant mass [GeV]')\n",
        "plt.ylabel('Number of events')\n",
        "plt.title('The histogram of the invariant masses of two muons \\n') # \\n creates a new line for making the title look better\n",
        "\n",
        "# Show the plot.\n",
        "plt.show()"
      ],
      "execution_count": 0,
      "outputs": [
        {
          "output_type": "display_data",
          "data": {
            "image/png": "[encoded data removed]",
            "text/plain": [
              "<Figure size 600x400 with 1 Axes>"
            ]
          },
          "metadata": {
            "tags": []
          }
        }
      ]
    },
    {
      "cell_type": "markdown",
      "metadata": {
        "id": "0Bs4rTPfvSDJ",
        "colab_type": "text"
      },
      "source": [
        "You can check whether log scale looks better. Just edit the cell above, add plt.yscale('log') before plt.show() and run it again."
      ]
    },
    {
      "cell_type": "markdown",
      "metadata": {
        "id": "eFyAGO8OvSDK",
        "colab_type": "text"
      },
      "source": [
        "Now zoom to see whether you can find some familiar particles in the dimuon spectrun. We can do that by setting the range of the histogram with option range=[min,max]."
      ]
    },
    {
      "cell_type": "code",
      "metadata": {
        "id": "sAjeRvJGvSDM",
        "colab_type": "code",
        "outputId": "f022a345-9a95-49be-b81e-438373bc08bd",
        "colab": {
          "base_uri": "https://localhost:8080/",
          "height": 269
        }
      },
      "source": [
        "plt.hist(invariant_mass, bins=200, range=[8,12])\n",
        "plt.show()"
      ],
      "execution_count": 0,
      "outputs": [
        {
          "output_type": "display_data",
          "data": {
            "image/png": "[encoded data removed]",
            "text/plain": [
              "<Figure size 432x288 with 1 Axes>"
            ]
          },
          "metadata": {
            "tags": []
          }
        }
      ]
    },
    {
      "cell_type": "markdown",
      "metadata": {
        "id": "RwycUxZRvSDT",
        "colab_type": "text"
      },
      "source": [
        "Have a look at the very low invariant mass range as well (change the range limits in the cell above and run it again). You will be surprised to see how well some low mass particles are visible in our data!\n",
        "\n",
        "We have compiled [a list of particles decaying into two muons](https://github.com/cms-opendata-education/cms-opendata-education/blob/master/Particle%20List%20with%20quark%20composition.pdf) (extracted for easier reading for educational purposes from C. Patrignani et al. (Particle Data Group), Chin. Phys. C, 40, 100001 (2016) and 2017 update.). In a teaching situation, you can ask students to identify these particles in the plot. \n",
        "\n",
        "Note that binder does not save your changes. To save your work, download it from File -> Download as -> Notebook. This saves a local copy to your computer (and has no effect on the original notebook)."
      ]
    },
    {
      "cell_type": "markdown",
      "metadata": {
        "id": "1oig_dOuvSDV",
        "colab_type": "text"
      },
      "source": [
        "### Some additional material\n",
        "\n",
        "If you want to compute yourself the invariant mass from energy and momentum of the two muons, know that you can access the values out of our dataset by data.E1 and data.px1 etc. Remember that before every complex mathematical function you must define that it comes from the numpy package, which we imported and which we defined as np (e.g. np.sqrt(your_value)).\n",
        "\n",
        "As an extra challenge, note that it happens that one value of the newly computed invariant mass squared goes below 0 (sorry, this is real data) so we will have to exclude that from our set of values before taking the square root... not that nice but a good occasion to show how you can very efficiently set a selection criteria in a dataset with \"pandas\" "
      ]
    },
    {
      "cell_type": "code",
      "metadata": {
        "id": "xciQnw4MvSDW",
        "colab_type": "code",
        "colab": {}
      },
      "source": [
        "mass_squared = (data.E1 + data.E2)**2 - ((data.px1 + data.px2)**2 +(data.py1 + data.py2)**2  +(data.pz1 + data.pz2)**2)\n",
        "mass_squared_pos = mass_squared[(mass_squared >0)]"
      ],
      "execution_count": 0,
      "outputs": []
    },
    {
      "cell_type": "markdown",
      "metadata": {
        "id": "S8mE8n7tvSDa",
        "colab_type": "text"
      },
      "source": [
        "Now plot the invariant mass again to compare it with the histograms above. Did we get it right?"
      ]
    },
    {
      "cell_type": "code",
      "metadata": {
        "id": "Y8shJrlzvSDb",
        "colab_type": "code",
        "colab": {}
      },
      "source": [
        "plt.hist(np.sqrt(mass_squared_pos), bins=200, range=[8,12])\n",
        "plt.show()"
      ],
      "execution_count": 0,
      "outputs": []
    },
    {
      "cell_type": "markdown",
      "metadata": {
        "id": "mRi7Z15tvSDi",
        "colab_type": "text"
      },
      "source": [
        "For more examples, have a look in https://github.com/cms-opendata-education. You are free to copy and modify these notebooks, and suggest new ones to be added to our collection. This material will also be available through CERN Open Data Portal."
      ]
    },
    {
      "cell_type": "code",
      "metadata": {
        "id": "WDF0BMsGvSDj",
        "colab_type": "code",
        "colab": {}
      },
      "source": [
        ""
      ],
      "execution_count": 0,
      "outputs": []
    }
  ]
}