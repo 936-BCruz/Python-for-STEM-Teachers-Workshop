{
  "nbformat": 4,
  "nbformat_minor": 0,
  "metadata": {
    "kernelspec": {
      "display_name": "Python 3",
      "language": "python",
      "name": "python3"
    },
    "language_info": {
      "codemirror_mode": {
        "name": "ipython",
        "version": 3
      },
      "file_extension": ".py",
      "mimetype": "text/x-python",
      "name": "python",
      "nbconvert_exporter": "python",
      "pygments_lexer": "ipython3",
      "version": "3.6.5"
    },
    "colab": {
      "name": "Calculate-invariant-mass.ipynb",
      "provenance": [],
      "collapsed_sections": [],
      "include_colab_link": true
    }
  },
  "cells": [
    {
      "cell_type": "markdown",
      "metadata": {
        "id": "view-in-github",
        "colab_type": "text"
      },
      "source": [
        "<a href=\"https://colab.research.google.com/github/GuillermoFidalgo/Python-for-STEM-Teachers-Workshop/blob/master/Calculate_invariant_mass.ipynb\" target=\"_parent\"><img src=\"https://colab.research.google.com/assets/colab-badge.svg\" alt=\"Open In Colab\"/></a>"
      ]
    },
    {
      "cell_type": "markdown",
      "metadata": {
        "id": "8bN1-2XQ2oU5",
        "colab_type": "text"
      },
      "source": [
        "# Calculating the invariant mass"
      ]
    },
    {
      "cell_type": "markdown",
      "metadata": {
        "id": "-Pf4C3lu2oU-",
        "colab_type": "text"
      },
      "source": [
        "In this example the calculation of the __invariant mass__ with the CMS open data is learned. The invariant mass is an important concept for particle physicists to find out new particles.\n",
        "\n",
        "The following CSV files include already calculated values for invariant masses:\n",
        "    - dielectron.csv\n",
        "    - DoubleMuRun2011A.csv\n",
        "    - Jpsimumu_Run2011A.csv\n",
        "    - Ymumu_Run2011A.csv\n",
        "    \n",
        "For example with the files _Zmumu_\\__Run2011A.csv_ and _Zee_\\__Run2011A.csv_ it is easy to calculate the values of the invariant masses. Let's start the calculation by importing the needed Python modules and getting the data. In this example we will use the file _Zmumu_\\__Run2011A.csv_ which includes collision events selected from the primary dataset [1] with the specific selection criteria [2].\n",
        "\n",
        "<br>\n",
        "<br>\n",
        "[1]  CMS collaboration (2016). DoubleMu primary dataset in AOD format from RunA of 2011 (/DoubleMu/Run2011A-12Oct2013-v1/AOD). CERN Open Data Portal. DOI: [10.7483/OPENDATA.CMS.RZ34.QR6N](http://doi.org/10.7483/OPENDATA.CMS.RZ34.QR6N).\n",
        "<br>\n",
        "[2] Thomas McCauley (2016). Zmumu. Jupyter Notebook file. https://github.com/tpmccauley/cmsopendata-jupyter/blob/hst-0.1/Zmumu.ipynb."
      ]
    },
    {
      "cell_type": "markdown",
      "metadata": {
        "id": "zzw8Wg9z2oVC",
        "colab_type": "text"
      },
      "source": [
        "### Getting the data"
      ]
    },
    {
      "cell_type": "code",
      "metadata": {
        "id": "WoFI53DC2oVG",
        "colab_type": "code",
        "colab": {}
      },
      "source": [
        "# Import the needed modules. Pandas is for the data-analysis and numpy for scientific calculation.\n",
        "# Name these to \"pd\" and \"np\".\n",
        "import pandas as pd\n",
        "import numpy as np\n",
        "import matplotlib.pyplot as plt\n",
        "\n",
        "# Create a new DataFrame structure from the file \"Zmumu_Run2011A.csv\". Name it as \"dataset\".\n",
        "dataset = pd.read_csv('Zmumu_Run2011A.csv')"
      ],
      "execution_count": 0,
      "outputs": []
    },
    {
      "cell_type": "markdown",
      "metadata": {
        "id": "4uAP1IHW2oVS",
        "colab_type": "text"
      },
      "source": [
        "We can check the content that we saved to the variable _dataset_ by printing the 5 first rows with the following code:"
      ]
    },
    {
      "cell_type": "code",
      "metadata": {
        "id": "d4h3rRXM2oVV",
        "colab_type": "code",
        "outputId": "d91e3e77-e4d1-40be-81cf-499f23fb9cff",
        "colab": {
          "base_uri": "https://localhost:8080/",
          "height": 204
        }
      },
      "source": [
        "dataset.head()"
      ],
      "execution_count": 0,
      "outputs": [
        {
          "output_type": "execute_result",
          "data": {
            "text/html": [
              "<div>\n",
              "<style scoped>\n",
              "    .dataframe tbody tr th:only-of-type {\n",
              "        vertical-align: middle;\n",
              "    }\n",
              "\n",
              "    .dataframe tbody tr th {\n",
              "        vertical-align: top;\n",
              "    }\n",
              "\n",
              "    .dataframe thead th {\n",
              "        text-align: right;\n",
              "    }\n",
              "</style>\n",
              "<table border=\"1\" class=\"dataframe\">\n",
              "  <thead>\n",
              "    <tr style=\"text-align: right;\">\n",
              "      <th></th>\n",
              "      <th>Run</th>\n",
              "      <th>Event</th>\n",
              "      <th>pt1</th>\n",
              "      <th>eta1</th>\n",
              "      <th>phi1</th>\n",
              "      <th>Q1</th>\n",
              "      <th>dxy1</th>\n",
              "      <th>iso1</th>\n",
              "      <th>pt2</th>\n",
              "      <th>eta2</th>\n",
              "      <th>phi2</th>\n",
              "      <th>Q2</th>\n",
              "      <th>dxy2</th>\n",
              "      <th>iso2</th>\n",
              "    </tr>\n",
              "  </thead>\n",
              "  <tbody>\n",
              "    <tr>\n",
              "      <th>0</th>\n",
              "      <td>165617</td>\n",
              "      <td>74969122</td>\n",
              "      <td>54.7055</td>\n",
              "      <td>-0.432396</td>\n",
              "      <td>2.574210</td>\n",
              "      <td>1</td>\n",
              "      <td>-0.074544</td>\n",
              "      <td>0.499921</td>\n",
              "      <td>34.2464</td>\n",
              "      <td>-0.988480</td>\n",
              "      <td>-0.498704</td>\n",
              "      <td>-1</td>\n",
              "      <td>0.071222</td>\n",
              "      <td>3.42214</td>\n",
              "    </tr>\n",
              "    <tr>\n",
              "      <th>1</th>\n",
              "      <td>165617</td>\n",
              "      <td>75138253</td>\n",
              "      <td>24.5872</td>\n",
              "      <td>-2.052200</td>\n",
              "      <td>2.866570</td>\n",
              "      <td>-1</td>\n",
              "      <td>-0.055437</td>\n",
              "      <td>0.000000</td>\n",
              "      <td>28.5389</td>\n",
              "      <td>0.385163</td>\n",
              "      <td>-1.991170</td>\n",
              "      <td>1</td>\n",
              "      <td>0.051477</td>\n",
              "      <td>0.00000</td>\n",
              "    </tr>\n",
              "    <tr>\n",
              "      <th>2</th>\n",
              "      <td>165617</td>\n",
              "      <td>75887636</td>\n",
              "      <td>31.7386</td>\n",
              "      <td>-2.259450</td>\n",
              "      <td>-1.332290</td>\n",
              "      <td>-1</td>\n",
              "      <td>0.087917</td>\n",
              "      <td>0.000000</td>\n",
              "      <td>30.2344</td>\n",
              "      <td>-0.468419</td>\n",
              "      <td>1.883310</td>\n",
              "      <td>1</td>\n",
              "      <td>-0.087639</td>\n",
              "      <td>0.00000</td>\n",
              "    </tr>\n",
              "    <tr>\n",
              "      <th>3</th>\n",
              "      <td>165617</td>\n",
              "      <td>75779415</td>\n",
              "      <td>39.7394</td>\n",
              "      <td>-0.712338</td>\n",
              "      <td>-0.312266</td>\n",
              "      <td>1</td>\n",
              "      <td>0.058481</td>\n",
              "      <td>0.000000</td>\n",
              "      <td>48.2790</td>\n",
              "      <td>-0.195625</td>\n",
              "      <td>2.970320</td>\n",
              "      <td>-1</td>\n",
              "      <td>-0.049201</td>\n",
              "      <td>0.00000</td>\n",
              "    </tr>\n",
              "    <tr>\n",
              "      <th>4</th>\n",
              "      <td>165617</td>\n",
              "      <td>75098104</td>\n",
              "      <td>41.2998</td>\n",
              "      <td>-0.157055</td>\n",
              "      <td>-3.040770</td>\n",
              "      <td>1</td>\n",
              "      <td>-0.030463</td>\n",
              "      <td>1.228040</td>\n",
              "      <td>43.4508</td>\n",
              "      <td>0.590958</td>\n",
              "      <td>-0.042756</td>\n",
              "      <td>-1</td>\n",
              "      <td>0.044175</td>\n",
              "      <td>0.00000</td>\n",
              "    </tr>\n",
              "  </tbody>\n",
              "</table>\n",
              "</div>"
            ],
            "text/plain": [
              "      Run     Event      pt1      eta1  ...      phi2  Q2      dxy2     iso2\n",
              "0  165617  74969122  54.7055 -0.432396  ... -0.498704  -1  0.071222  3.42214\n",
              "1  165617  75138253  24.5872 -2.052200  ... -1.991170   1  0.051477  0.00000\n",
              "2  165617  75887636  31.7386 -2.259450  ...  1.883310   1 -0.087639  0.00000\n",
              "3  165617  75779415  39.7394 -0.712338  ...  2.970320  -1 -0.049201  0.00000\n",
              "4  165617  75098104  41.2998 -0.157055  ... -0.042756  -1  0.044175  0.00000\n",
              "\n",
              "[5 rows x 14 columns]"
            ]
          },
          "metadata": {
            "tags": []
          },
          "execution_count": 3
        }
      ]
    },
    {
      "cell_type": "markdown",
      "metadata": {
        "id": "wBz1VCY82oVh",
        "colab_type": "text"
      },
      "source": [
        "### Performing the calculation"
      ]
    },
    {
      "cell_type": "markdown",
      "metadata": {
        "id": "T7d8vKqH2oVk",
        "colab_type": "text"
      },
      "source": [
        "Let's use the following expression for the invariant mass $M$ in the calculation:\n",
        "\n",
        "$$M = \\sqrt{2p_{T1}p_{T2}(\\cosh(\\eta_1-\\eta_2)-\\cos(\\phi_1-\\phi_2))}.$$\n",
        "\n",
        "In the expression $p_T$ is the component of the momentum which is perpendicular to the beam axis, $\\eta$ is the pseudorapidity (angle) and $\\phi$ the azimuthal angle.\n",
        "\n",
        "In the calculation below we will use the _numpy_ module which was named as _np_ in the first code cell. With _numpy_ it is possible to use mathematical commands like _sqrt_ and _cosh_ by calling first the name of the module (_np_) and then the command separated by a dot. So for example the square root could be called by writing _np.sqrt( )_.\n",
        "\n",
        "The _pt1_, _pt2_, _eta1_, _eta2_, _phi1_ and _phi2_ refer to the columns of the data. In the code it has to be told from where the values will be taken. So for example if you want to get the column _pt1_, you have to write _dataset.pt1_ in the code.\n",
        "\n",
        "Now we are ready to calculate the values of the invariant masses for the different events. _Numpy_ will automatically calculate the values for all of the events when we give the calculation in the following form. So the equation given is calculated for all of the rows."
      ]
    },
    {
      "cell_type": "code",
      "metadata": {
        "id": "glWFORLY2oVp",
        "colab_type": "code",
        "colab": {}
      },
      "source": [
        "invariant_mass = np.sqrt(2*dataset.pt1*dataset.pt2*(np.cosh(dataset.eta1-dataset.eta2) - np.cos(dataset.phi1-dataset.phi2)))"
      ],
      "execution_count": 0,
      "outputs": []
    },
    {
      "cell_type": "markdown",
      "metadata": {
        "id": "ip2G7ce02oVx",
        "colab_type": "text"
      },
      "source": [
        "After the calculation we can check which values were saved in the variable _invariant_\\__mass_ by printing the content of the variable:"
      ]
    },
    {
      "cell_type": "code",
      "metadata": {
        "id": "UszNQcos2oV0",
        "colab_type": "code",
        "outputId": "b422a859-6f43-4406-cd5f-f080197dcfdf",
        "colab": {
          "base_uri": "https://localhost:8080/",
          "height": 221
        }
      },
      "source": [
        "print(invariant_mass)"
      ],
      "execution_count": 0,
      "outputs": [
        {
          "output_type": "stream",
          "text": [
            "0        89.885744\n",
            "1        88.810987\n",
            "2        88.472502\n",
            "3        90.332620\n",
            "4        90.514507\n",
            "           ...    \n",
            "10578    90.610799\n",
            "10579    89.744873\n",
            "10580    90.714366\n",
            "10581    91.945212\n",
            "10582    87.838121\n",
            "Length: 10583, dtype: float64\n"
          ],
          "name": "stdout"
        }
      ]
    },
    {
      "cell_type": "markdown",
      "metadata": {
        "id": "aSwCMnaZ2oV9",
        "colab_type": "text"
      },
      "source": [
        "If you wish to add calculated values as a new column to your data set see an example [here](https://github.com/cms-opendata-education/cms-jupyter-materials-english/blob/master/Introduction-to-jupyter/Add-column-to-dataframe.ipynb)."
      ]
    },
    {
      "cell_type": "code",
      "metadata": {
        "id": "Ujrpcvff4vUn",
        "colab_type": "code",
        "outputId": "f376d818-328f-41cd-da4c-546de7a5cb81",
        "colab": {
          "base_uri": "https://localhost:8080/",
          "height": 310
        }
      },
      "source": [
        "# Plot the histogram with the function hist() of the matplotlib.pyplot module:\n",
        "# (http://matplotlib.org/api/pyplot_api.html?highlight=matplotlib.pyplot.hist#matplotlib.pyplot.hist).\n",
        "# 'Bins' determines the number of the bins used.\n",
        "plt.hist(invariant_mass, bins=500)\n",
        "\n",
        "# Name the axises and give the title.\n",
        "plt.xlabel('Invariant mass [GeV]')\n",
        "plt.ylabel('Number of events')\n",
        "plt.title('The histogram of the invariant masses of two muons \\n') # \\n creates a new line for making the title look better\n",
        "\n",
        "# Show the plot.\n",
        "plt.show()"
      ],
      "execution_count": 0,
      "outputs": [
        {
          "output_type": "display_data",
          "data": {
            "image/png": "[encoded data removed]",
            "text/plain": [
              "<Figure size 432x288 with 1 Axes>"
            ]
          },
          "metadata": {
            "tags": []
          }
        }
      ]
    }
  ]
}