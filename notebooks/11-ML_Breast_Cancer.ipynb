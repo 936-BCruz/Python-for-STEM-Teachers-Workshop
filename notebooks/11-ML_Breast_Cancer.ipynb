{
  "cells": [
    {
      "cell_type": "markdown",
      "metadata": {
        "id": "view-in-github",
        "colab_type": "text"
      },
      "source": [
        "<a href=\"https://colab.research.google.com/github/936-BCruz/Python-for-STEM-Teachers-Workshop/blob/master/notebooks/11-ML_Breast_Cancer.ipynb\" target=\"_parent\"><img src=\"https://colab.research.google.com/assets/colab-badge.svg\" alt=\"Open In Colab\"/></a>"
      ]
    },
    {
      "cell_type": "code",
      "execution_count": null,
      "id": "2c3d3ff4-c3f0-4120-9794-5fd8e4d4590a",
      "metadata": {
        "id": "2c3d3ff4-c3f0-4120-9794-5fd8e4d4590a"
      },
      "outputs": [],
      "source": [
        "import numpy as np                \n",
        "import matplotlib.pyplot as plt   # for plotting\n",
        "import pandas as pd               # to manage the data"
      ]
    },
    {
      "cell_type": "markdown",
      "source": [
        "The dataset we are going to use comes from the University of Winsconsin, where they describe characteristics of the cell nuclei from a breast mass. We would like to identify if the cell suggest breast cancer development or not. Let's download it and take a look of its content...\n",
        "[https://archive.ics.uci.edu/ml/datasets/breast+cancer+wisconsin+(diagnostic)]"
      ],
      "metadata": {
        "id": "5eb7uv6FRa5K"
      },
      "id": "5eb7uv6FRa5K"
    },
    {
      "cell_type": "code",
      "execution_count": null,
      "id": "9c7a2efb-c2b2-4403-b1e6-269f396dd558",
      "metadata": {
        "id": "9c7a2efb-c2b2-4403-b1e6-269f396dd558",
        "colab": {
          "base_uri": "https://localhost:8080/",
          "height": 424
        },
        "outputId": "b5094654-d06c-4145-d588-0f9883b93b80"
      },
      "outputs": [
        {
          "output_type": "execute_result",
          "data": {
            "text/plain": [
              "           0  1      2      3       4       5        6        7        8   \\\n",
              "0      842302  M  17.99  10.38  122.80  1001.0  0.11840  0.27760  0.30010   \n",
              "1      842517  M  20.57  17.77  132.90  1326.0  0.08474  0.07864  0.08690   \n",
              "2    84300903  M  19.69  21.25  130.00  1203.0  0.10960  0.15990  0.19740   \n",
              "3    84348301  M  11.42  20.38   77.58   386.1  0.14250  0.28390  0.24140   \n",
              "4    84358402  M  20.29  14.34  135.10  1297.0  0.10030  0.13280  0.19800   \n",
              "..        ... ..    ...    ...     ...     ...      ...      ...      ...   \n",
              "564    926424  M  21.56  22.39  142.00  1479.0  0.11100  0.11590  0.24390   \n",
              "565    926682  M  20.13  28.25  131.20  1261.0  0.09780  0.10340  0.14400   \n",
              "566    926954  M  16.60  28.08  108.30   858.1  0.08455  0.10230  0.09251   \n",
              "567    927241  M  20.60  29.33  140.10  1265.0  0.11780  0.27700  0.35140   \n",
              "568     92751  B   7.76  24.54   47.92   181.0  0.05263  0.04362  0.00000   \n",
              "\n",
              "          9   ...      22     23      24      25       26       27      28  \\\n",
              "0    0.14710  ...  25.380  17.33  184.60  2019.0  0.16220  0.66560  0.7119   \n",
              "1    0.07017  ...  24.990  23.41  158.80  1956.0  0.12380  0.18660  0.2416   \n",
              "2    0.12790  ...  23.570  25.53  152.50  1709.0  0.14440  0.42450  0.4504   \n",
              "3    0.10520  ...  14.910  26.50   98.87   567.7  0.20980  0.86630  0.6869   \n",
              "4    0.10430  ...  22.540  16.67  152.20  1575.0  0.13740  0.20500  0.4000   \n",
              "..       ...  ...     ...    ...     ...     ...      ...      ...     ...   \n",
              "564  0.13890  ...  25.450  26.40  166.10  2027.0  0.14100  0.21130  0.4107   \n",
              "565  0.09791  ...  23.690  38.25  155.00  1731.0  0.11660  0.19220  0.3215   \n",
              "566  0.05302  ...  18.980  34.12  126.70  1124.0  0.11390  0.30940  0.3403   \n",
              "567  0.15200  ...  25.740  39.42  184.60  1821.0  0.16500  0.86810  0.9387   \n",
              "568  0.00000  ...   9.456  30.37   59.16   268.6  0.08996  0.06444  0.0000   \n",
              "\n",
              "         29      30       31  \n",
              "0    0.2654  0.4601  0.11890  \n",
              "1    0.1860  0.2750  0.08902  \n",
              "2    0.2430  0.3613  0.08758  \n",
              "3    0.2575  0.6638  0.17300  \n",
              "4    0.1625  0.2364  0.07678  \n",
              "..      ...     ...      ...  \n",
              "564  0.2216  0.2060  0.07115  \n",
              "565  0.1628  0.2572  0.06637  \n",
              "566  0.1418  0.2218  0.07820  \n",
              "567  0.2650  0.4087  0.12400  \n",
              "568  0.0000  0.2871  0.07039  \n",
              "\n",
              "[569 rows x 32 columns]"
            ],
            "text/html": [
              "\n",
              "  <div id=\"df-ae1e6ef7-bba8-4012-b7d0-64a2bd9586f2\">\n",
              "    <div class=\"colab-df-container\">\n",
              "      <div>\n",
              "<style scoped>\n",
              "    .dataframe tbody tr th:only-of-type {\n",
              "        vertical-align: middle;\n",
              "    }\n",
              "\n",
              "    .dataframe tbody tr th {\n",
              "        vertical-align: top;\n",
              "    }\n",
              "\n",
              "    .dataframe thead th {\n",
              "        text-align: right;\n",
              "    }\n",
              "</style>\n",
              "<table border=\"1\" class=\"dataframe\">\n",
              "  <thead>\n",
              "    <tr style=\"text-align: right;\">\n",
              "      <th></th>\n",
              "      <th>0</th>\n",
              "      <th>1</th>\n",
              "      <th>2</th>\n",
              "      <th>3</th>\n",
              "      <th>4</th>\n",
              "      <th>5</th>\n",
              "      <th>6</th>\n",
              "      <th>7</th>\n",
              "      <th>8</th>\n",
              "      <th>9</th>\n",
              "      <th>...</th>\n",
              "      <th>22</th>\n",
              "      <th>23</th>\n",
              "      <th>24</th>\n",
              "      <th>25</th>\n",
              "      <th>26</th>\n",
              "      <th>27</th>\n",
              "      <th>28</th>\n",
              "      <th>29</th>\n",
              "      <th>30</th>\n",
              "      <th>31</th>\n",
              "    </tr>\n",
              "  </thead>\n",
              "  <tbody>\n",
              "    <tr>\n",
              "      <th>0</th>\n",
              "      <td>842302</td>\n",
              "      <td>M</td>\n",
              "      <td>17.99</td>\n",
              "      <td>10.38</td>\n",
              "      <td>122.80</td>\n",
              "      <td>1001.0</td>\n",
              "      <td>0.11840</td>\n",
              "      <td>0.27760</td>\n",
              "      <td>0.30010</td>\n",
              "      <td>0.14710</td>\n",
              "      <td>...</td>\n",
              "      <td>25.380</td>\n",
              "      <td>17.33</td>\n",
              "      <td>184.60</td>\n",
              "      <td>2019.0</td>\n",
              "      <td>0.16220</td>\n",
              "      <td>0.66560</td>\n",
              "      <td>0.7119</td>\n",
              "      <td>0.2654</td>\n",
              "      <td>0.4601</td>\n",
              "      <td>0.11890</td>\n",
              "    </tr>\n",
              "    <tr>\n",
              "      <th>1</th>\n",
              "      <td>842517</td>\n",
              "      <td>M</td>\n",
              "      <td>20.57</td>\n",
              "      <td>17.77</td>\n",
              "      <td>132.90</td>\n",
              "      <td>1326.0</td>\n",
              "      <td>0.08474</td>\n",
              "      <td>0.07864</td>\n",
              "      <td>0.08690</td>\n",
              "      <td>0.07017</td>\n",
              "      <td>...</td>\n",
              "      <td>24.990</td>\n",
              "      <td>23.41</td>\n",
              "      <td>158.80</td>\n",
              "      <td>1956.0</td>\n",
              "      <td>0.12380</td>\n",
              "      <td>0.18660</td>\n",
              "      <td>0.2416</td>\n",
              "      <td>0.1860</td>\n",
              "      <td>0.2750</td>\n",
              "      <td>0.08902</td>\n",
              "    </tr>\n",
              "    <tr>\n",
              "      <th>2</th>\n",
              "      <td>84300903</td>\n",
              "      <td>M</td>\n",
              "      <td>19.69</td>\n",
              "      <td>21.25</td>\n",
              "      <td>130.00</td>\n",
              "      <td>1203.0</td>\n",
              "      <td>0.10960</td>\n",
              "      <td>0.15990</td>\n",
              "      <td>0.19740</td>\n",
              "      <td>0.12790</td>\n",
              "      <td>...</td>\n",
              "      <td>23.570</td>\n",
              "      <td>25.53</td>\n",
              "      <td>152.50</td>\n",
              "      <td>1709.0</td>\n",
              "      <td>0.14440</td>\n",
              "      <td>0.42450</td>\n",
              "      <td>0.4504</td>\n",
              "      <td>0.2430</td>\n",
              "      <td>0.3613</td>\n",
              "      <td>0.08758</td>\n",
              "    </tr>\n",
              "    <tr>\n",
              "      <th>3</th>\n",
              "      <td>84348301</td>\n",
              "      <td>M</td>\n",
              "      <td>11.42</td>\n",
              "      <td>20.38</td>\n",
              "      <td>77.58</td>\n",
              "      <td>386.1</td>\n",
              "      <td>0.14250</td>\n",
              "      <td>0.28390</td>\n",
              "      <td>0.24140</td>\n",
              "      <td>0.10520</td>\n",
              "      <td>...</td>\n",
              "      <td>14.910</td>\n",
              "      <td>26.50</td>\n",
              "      <td>98.87</td>\n",
              "      <td>567.7</td>\n",
              "      <td>0.20980</td>\n",
              "      <td>0.86630</td>\n",
              "      <td>0.6869</td>\n",
              "      <td>0.2575</td>\n",
              "      <td>0.6638</td>\n",
              "      <td>0.17300</td>\n",
              "    </tr>\n",
              "    <tr>\n",
              "      <th>4</th>\n",
              "      <td>84358402</td>\n",
              "      <td>M</td>\n",
              "      <td>20.29</td>\n",
              "      <td>14.34</td>\n",
              "      <td>135.10</td>\n",
              "      <td>1297.0</td>\n",
              "      <td>0.10030</td>\n",
              "      <td>0.13280</td>\n",
              "      <td>0.19800</td>\n",
              "      <td>0.10430</td>\n",
              "      <td>...</td>\n",
              "      <td>22.540</td>\n",
              "      <td>16.67</td>\n",
              "      <td>152.20</td>\n",
              "      <td>1575.0</td>\n",
              "      <td>0.13740</td>\n",
              "      <td>0.20500</td>\n",
              "      <td>0.4000</td>\n",
              "      <td>0.1625</td>\n",
              "      <td>0.2364</td>\n",
              "      <td>0.07678</td>\n",
              "    </tr>\n",
              "    <tr>\n",
              "      <th>...</th>\n",
              "      <td>...</td>\n",
              "      <td>...</td>\n",
              "      <td>...</td>\n",
              "      <td>...</td>\n",
              "      <td>...</td>\n",
              "      <td>...</td>\n",
              "      <td>...</td>\n",
              "      <td>...</td>\n",
              "      <td>...</td>\n",
              "      <td>...</td>\n",
              "      <td>...</td>\n",
              "      <td>...</td>\n",
              "      <td>...</td>\n",
              "      <td>...</td>\n",
              "      <td>...</td>\n",
              "      <td>...</td>\n",
              "      <td>...</td>\n",
              "      <td>...</td>\n",
              "      <td>...</td>\n",
              "      <td>...</td>\n",
              "      <td>...</td>\n",
              "    </tr>\n",
              "    <tr>\n",
              "      <th>564</th>\n",
              "      <td>926424</td>\n",
              "      <td>M</td>\n",
              "      <td>21.56</td>\n",
              "      <td>22.39</td>\n",
              "      <td>142.00</td>\n",
              "      <td>1479.0</td>\n",
              "      <td>0.11100</td>\n",
              "      <td>0.11590</td>\n",
              "      <td>0.24390</td>\n",
              "      <td>0.13890</td>\n",
              "      <td>...</td>\n",
              "      <td>25.450</td>\n",
              "      <td>26.40</td>\n",
              "      <td>166.10</td>\n",
              "      <td>2027.0</td>\n",
              "      <td>0.14100</td>\n",
              "      <td>0.21130</td>\n",
              "      <td>0.4107</td>\n",
              "      <td>0.2216</td>\n",
              "      <td>0.2060</td>\n",
              "      <td>0.07115</td>\n",
              "    </tr>\n",
              "    <tr>\n",
              "      <th>565</th>\n",
              "      <td>926682</td>\n",
              "      <td>M</td>\n",
              "      <td>20.13</td>\n",
              "      <td>28.25</td>\n",
              "      <td>131.20</td>\n",
              "      <td>1261.0</td>\n",
              "      <td>0.09780</td>\n",
              "      <td>0.10340</td>\n",
              "      <td>0.14400</td>\n",
              "      <td>0.09791</td>\n",
              "      <td>...</td>\n",
              "      <td>23.690</td>\n",
              "      <td>38.25</td>\n",
              "      <td>155.00</td>\n",
              "      <td>1731.0</td>\n",
              "      <td>0.11660</td>\n",
              "      <td>0.19220</td>\n",
              "      <td>0.3215</td>\n",
              "      <td>0.1628</td>\n",
              "      <td>0.2572</td>\n",
              "      <td>0.06637</td>\n",
              "    </tr>\n",
              "    <tr>\n",
              "      <th>566</th>\n",
              "      <td>926954</td>\n",
              "      <td>M</td>\n",
              "      <td>16.60</td>\n",
              "      <td>28.08</td>\n",
              "      <td>108.30</td>\n",
              "      <td>858.1</td>\n",
              "      <td>0.08455</td>\n",
              "      <td>0.10230</td>\n",
              "      <td>0.09251</td>\n",
              "      <td>0.05302</td>\n",
              "      <td>...</td>\n",
              "      <td>18.980</td>\n",
              "      <td>34.12</td>\n",
              "      <td>126.70</td>\n",
              "      <td>1124.0</td>\n",
              "      <td>0.11390</td>\n",
              "      <td>0.30940</td>\n",
              "      <td>0.3403</td>\n",
              "      <td>0.1418</td>\n",
              "      <td>0.2218</td>\n",
              "      <td>0.07820</td>\n",
              "    </tr>\n",
              "    <tr>\n",
              "      <th>567</th>\n",
              "      <td>927241</td>\n",
              "      <td>M</td>\n",
              "      <td>20.60</td>\n",
              "      <td>29.33</td>\n",
              "      <td>140.10</td>\n",
              "      <td>1265.0</td>\n",
              "      <td>0.11780</td>\n",
              "      <td>0.27700</td>\n",
              "      <td>0.35140</td>\n",
              "      <td>0.15200</td>\n",
              "      <td>...</td>\n",
              "      <td>25.740</td>\n",
              "      <td>39.42</td>\n",
              "      <td>184.60</td>\n",
              "      <td>1821.0</td>\n",
              "      <td>0.16500</td>\n",
              "      <td>0.86810</td>\n",
              "      <td>0.9387</td>\n",
              "      <td>0.2650</td>\n",
              "      <td>0.4087</td>\n",
              "      <td>0.12400</td>\n",
              "    </tr>\n",
              "    <tr>\n",
              "      <th>568</th>\n",
              "      <td>92751</td>\n",
              "      <td>B</td>\n",
              "      <td>7.76</td>\n",
              "      <td>24.54</td>\n",
              "      <td>47.92</td>\n",
              "      <td>181.0</td>\n",
              "      <td>0.05263</td>\n",
              "      <td>0.04362</td>\n",
              "      <td>0.00000</td>\n",
              "      <td>0.00000</td>\n",
              "      <td>...</td>\n",
              "      <td>9.456</td>\n",
              "      <td>30.37</td>\n",
              "      <td>59.16</td>\n",
              "      <td>268.6</td>\n",
              "      <td>0.08996</td>\n",
              "      <td>0.06444</td>\n",
              "      <td>0.0000</td>\n",
              "      <td>0.0000</td>\n",
              "      <td>0.2871</td>\n",
              "      <td>0.07039</td>\n",
              "    </tr>\n",
              "  </tbody>\n",
              "</table>\n",
              "<p>569 rows × 32 columns</p>\n",
              "</div>\n",
              "      <button class=\"colab-df-convert\" onclick=\"convertToInteractive('df-ae1e6ef7-bba8-4012-b7d0-64a2bd9586f2')\"\n",
              "              title=\"Convert this dataframe to an interactive table.\"\n",
              "              style=\"display:none;\">\n",
              "        \n",
              "  <svg xmlns=\"http://www.w3.org/2000/svg\" height=\"24px\"viewBox=\"0 0 24 24\"\n",
              "       width=\"24px\">\n",
              "    <path d=\"M0 0h24v24H0V0z\" fill=\"none\"/>\n",
              "    <path d=\"M18.56 5.44l.94 2.06.94-2.06 2.06-.94-2.06-.94-.94-2.06-.94 2.06-2.06.94zm-11 1L8.5 8.5l.94-2.06 2.06-.94-2.06-.94L8.5 2.5l-.94 2.06-2.06.94zm10 10l.94 2.06.94-2.06 2.06-.94-2.06-.94-.94-2.06-.94 2.06-2.06.94z\"/><path d=\"M17.41 7.96l-1.37-1.37c-.4-.4-.92-.59-1.43-.59-.52 0-1.04.2-1.43.59L10.3 9.45l-7.72 7.72c-.78.78-.78 2.05 0 2.83L4 21.41c.39.39.9.59 1.41.59.51 0 1.02-.2 1.41-.59l7.78-7.78 2.81-2.81c.8-.78.8-2.07 0-2.86zM5.41 20L4 18.59l7.72-7.72 1.47 1.35L5.41 20z\"/>\n",
              "  </svg>\n",
              "      </button>\n",
              "      \n",
              "  <style>\n",
              "    .colab-df-container {\n",
              "      display:flex;\n",
              "      flex-wrap:wrap;\n",
              "      gap: 12px;\n",
              "    }\n",
              "\n",
              "    .colab-df-convert {\n",
              "      background-color: #E8F0FE;\n",
              "      border: none;\n",
              "      border-radius: 50%;\n",
              "      cursor: pointer;\n",
              "      display: none;\n",
              "      fill: #1967D2;\n",
              "      height: 32px;\n",
              "      padding: 0 0 0 0;\n",
              "      width: 32px;\n",
              "    }\n",
              "\n",
              "    .colab-df-convert:hover {\n",
              "      background-color: #E2EBFA;\n",
              "      box-shadow: 0px 1px 2px rgba(60, 64, 67, 0.3), 0px 1px 3px 1px rgba(60, 64, 67, 0.15);\n",
              "      fill: #174EA6;\n",
              "    }\n",
              "\n",
              "    [theme=dark] .colab-df-convert {\n",
              "      background-color: #3B4455;\n",
              "      fill: #D2E3FC;\n",
              "    }\n",
              "\n",
              "    [theme=dark] .colab-df-convert:hover {\n",
              "      background-color: #434B5C;\n",
              "      box-shadow: 0px 1px 3px 1px rgba(0, 0, 0, 0.15);\n",
              "      filter: drop-shadow(0px 1px 2px rgba(0, 0, 0, 0.3));\n",
              "      fill: #FFFFFF;\n",
              "    }\n",
              "  </style>\n",
              "\n",
              "      <script>\n",
              "        const buttonEl =\n",
              "          document.querySelector('#df-ae1e6ef7-bba8-4012-b7d0-64a2bd9586f2 button.colab-df-convert');\n",
              "        buttonEl.style.display =\n",
              "          google.colab.kernel.accessAllowed ? 'block' : 'none';\n",
              "\n",
              "        async function convertToInteractive(key) {\n",
              "          const element = document.querySelector('#df-ae1e6ef7-bba8-4012-b7d0-64a2bd9586f2');\n",
              "          const dataTable =\n",
              "            await google.colab.kernel.invokeFunction('convertToInteractive',\n",
              "                                                     [key], {});\n",
              "          if (!dataTable) return;\n",
              "\n",
              "          const docLinkHtml = 'Like what you see? Visit the ' +\n",
              "            '<a target=\"_blank\" href=https://colab.research.google.com/notebooks/data_table.ipynb>data table notebook</a>'\n",
              "            + ' to learn more about interactive tables.';\n",
              "          element.innerHTML = '';\n",
              "          dataTable['output_type'] = 'display_data';\n",
              "          await google.colab.output.renderOutput(dataTable, element);\n",
              "          const docLink = document.createElement('div');\n",
              "          docLink.innerHTML = docLinkHtml;\n",
              "          element.appendChild(docLink);\n",
              "        }\n",
              "      </script>\n",
              "    </div>\n",
              "  </div>\n",
              "  "
            ]
          },
          "metadata": {},
          "execution_count": 2
        }
      ],
      "source": [
        "path = 'https://raw.githubusercontent.com/GuillermoFidalgo/Python-for-STEM-Teachers-Workshop/master/data/wdbc.data'\n",
        "\n",
        "# creating the dataframe\n",
        "df = pd.read_csv(path,header=None) \n",
        "\n",
        "# dataframe print\n",
        "df"
      ]
    },
    {
      "cell_type": "markdown",
      "source": [
        "We can see some values but have no idea of what these columns represent. From the link of where we downloaded the data, we can see the first two columns are the ID number and the Diagnosis of the cells. The rest of the columns are *radius, texture, perimeter, area, smoothness, compactness, concavity, concave points, symmetry, and fractal dimension*. And, these attributes are repeated for 3 cell nuclei "
      ],
      "metadata": {
        "id": "_EG5uYW_ohIy"
      },
      "id": "_EG5uYW_ohIy"
    },
    {
      "cell_type": "code",
      "source": [
        "# attributes of interest from the dataframe\n",
        "att=[\"radius\",\"texture\",\"perimeter\",\n",
        "              \"area\",\"smoothness\",\"compactness\",\"concavity\",\n",
        "              \"concave points\",\"symmetry\",\"fractal dimension\"]\n",
        "# (knowing the data has 3 of the same attributes) getting the 2 and 3 of each attribute of interest\n",
        "att2 = [i+\"2\" for i in att]\n",
        "att3 = [i+'3' for i in att]\n",
        "\n",
        "# combining the ID number and Diagnosis along the attributes? \n",
        "df.columns = np.concatenate([['ID number','Diagnosis'],att,att2,att3])\n",
        "\n",
        "#printing the dataframe again\n",
        "df"
      ],
      "metadata": {
        "colab": {
          "base_uri": "https://localhost:8080/",
          "height": 505
        },
        "id": "LE9SPCcf2Moa",
        "outputId": "eb7b152b-6ff7-45e4-d586-297684c18a68"
      },
      "id": "LE9SPCcf2Moa",
      "execution_count": null,
      "outputs": [
        {
          "output_type": "execute_result",
          "data": {
            "text/plain": [
              "     ID number Diagnosis  radius  texture  perimeter    area  smoothness  \\\n",
              "0       842302         M   17.99    10.38     122.80  1001.0     0.11840   \n",
              "1       842517         M   20.57    17.77     132.90  1326.0     0.08474   \n",
              "2     84300903         M   19.69    21.25     130.00  1203.0     0.10960   \n",
              "3     84348301         M   11.42    20.38      77.58   386.1     0.14250   \n",
              "4     84358402         M   20.29    14.34     135.10  1297.0     0.10030   \n",
              "..         ...       ...     ...      ...        ...     ...         ...   \n",
              "564     926424         M   21.56    22.39     142.00  1479.0     0.11100   \n",
              "565     926682         M   20.13    28.25     131.20  1261.0     0.09780   \n",
              "566     926954         M   16.60    28.08     108.30   858.1     0.08455   \n",
              "567     927241         M   20.60    29.33     140.10  1265.0     0.11780   \n",
              "568      92751         B    7.76    24.54      47.92   181.0     0.05263   \n",
              "\n",
              "     compactness  concavity  concave points  ...  radius3  texture3  \\\n",
              "0        0.27760    0.30010         0.14710  ...   25.380     17.33   \n",
              "1        0.07864    0.08690         0.07017  ...   24.990     23.41   \n",
              "2        0.15990    0.19740         0.12790  ...   23.570     25.53   \n",
              "3        0.28390    0.24140         0.10520  ...   14.910     26.50   \n",
              "4        0.13280    0.19800         0.10430  ...   22.540     16.67   \n",
              "..           ...        ...             ...  ...      ...       ...   \n",
              "564      0.11590    0.24390         0.13890  ...   25.450     26.40   \n",
              "565      0.10340    0.14400         0.09791  ...   23.690     38.25   \n",
              "566      0.10230    0.09251         0.05302  ...   18.980     34.12   \n",
              "567      0.27700    0.35140         0.15200  ...   25.740     39.42   \n",
              "568      0.04362    0.00000         0.00000  ...    9.456     30.37   \n",
              "\n",
              "     perimeter3   area3  smoothness3  compactness3  concavity3  \\\n",
              "0        184.60  2019.0      0.16220       0.66560      0.7119   \n",
              "1        158.80  1956.0      0.12380       0.18660      0.2416   \n",
              "2        152.50  1709.0      0.14440       0.42450      0.4504   \n",
              "3         98.87   567.7      0.20980       0.86630      0.6869   \n",
              "4        152.20  1575.0      0.13740       0.20500      0.4000   \n",
              "..          ...     ...          ...           ...         ...   \n",
              "564      166.10  2027.0      0.14100       0.21130      0.4107   \n",
              "565      155.00  1731.0      0.11660       0.19220      0.3215   \n",
              "566      126.70  1124.0      0.11390       0.30940      0.3403   \n",
              "567      184.60  1821.0      0.16500       0.86810      0.9387   \n",
              "568       59.16   268.6      0.08996       0.06444      0.0000   \n",
              "\n",
              "     concave points3  symmetry3  fractal dimension3  \n",
              "0             0.2654     0.4601             0.11890  \n",
              "1             0.1860     0.2750             0.08902  \n",
              "2             0.2430     0.3613             0.08758  \n",
              "3             0.2575     0.6638             0.17300  \n",
              "4             0.1625     0.2364             0.07678  \n",
              "..               ...        ...                 ...  \n",
              "564           0.2216     0.2060             0.07115  \n",
              "565           0.1628     0.2572             0.06637  \n",
              "566           0.1418     0.2218             0.07820  \n",
              "567           0.2650     0.4087             0.12400  \n",
              "568           0.0000     0.2871             0.07039  \n",
              "\n",
              "[569 rows x 32 columns]"
            ],
            "text/html": [
              "\n",
              "  <div id=\"df-7fa6308d-ce91-4cdc-85df-9448ddf4ddc9\">\n",
              "    <div class=\"colab-df-container\">\n",
              "      <div>\n",
              "<style scoped>\n",
              "    .dataframe tbody tr th:only-of-type {\n",
              "        vertical-align: middle;\n",
              "    }\n",
              "\n",
              "    .dataframe tbody tr th {\n",
              "        vertical-align: top;\n",
              "    }\n",
              "\n",
              "    .dataframe thead th {\n",
              "        text-align: right;\n",
              "    }\n",
              "</style>\n",
              "<table border=\"1\" class=\"dataframe\">\n",
              "  <thead>\n",
              "    <tr style=\"text-align: right;\">\n",
              "      <th></th>\n",
              "      <th>ID number</th>\n",
              "      <th>Diagnosis</th>\n",
              "      <th>radius</th>\n",
              "      <th>texture</th>\n",
              "      <th>perimeter</th>\n",
              "      <th>area</th>\n",
              "      <th>smoothness</th>\n",
              "      <th>compactness</th>\n",
              "      <th>concavity</th>\n",
              "      <th>concave points</th>\n",
              "      <th>...</th>\n",
              "      <th>radius3</th>\n",
              "      <th>texture3</th>\n",
              "      <th>perimeter3</th>\n",
              "      <th>area3</th>\n",
              "      <th>smoothness3</th>\n",
              "      <th>compactness3</th>\n",
              "      <th>concavity3</th>\n",
              "      <th>concave points3</th>\n",
              "      <th>symmetry3</th>\n",
              "      <th>fractal dimension3</th>\n",
              "    </tr>\n",
              "  </thead>\n",
              "  <tbody>\n",
              "    <tr>\n",
              "      <th>0</th>\n",
              "      <td>842302</td>\n",
              "      <td>M</td>\n",
              "      <td>17.99</td>\n",
              "      <td>10.38</td>\n",
              "      <td>122.80</td>\n",
              "      <td>1001.0</td>\n",
              "      <td>0.11840</td>\n",
              "      <td>0.27760</td>\n",
              "      <td>0.30010</td>\n",
              "      <td>0.14710</td>\n",
              "      <td>...</td>\n",
              "      <td>25.380</td>\n",
              "      <td>17.33</td>\n",
              "      <td>184.60</td>\n",
              "      <td>2019.0</td>\n",
              "      <td>0.16220</td>\n",
              "      <td>0.66560</td>\n",
              "      <td>0.7119</td>\n",
              "      <td>0.2654</td>\n",
              "      <td>0.4601</td>\n",
              "      <td>0.11890</td>\n",
              "    </tr>\n",
              "    <tr>\n",
              "      <th>1</th>\n",
              "      <td>842517</td>\n",
              "      <td>M</td>\n",
              "      <td>20.57</td>\n",
              "      <td>17.77</td>\n",
              "      <td>132.90</td>\n",
              "      <td>1326.0</td>\n",
              "      <td>0.08474</td>\n",
              "      <td>0.07864</td>\n",
              "      <td>0.08690</td>\n",
              "      <td>0.07017</td>\n",
              "      <td>...</td>\n",
              "      <td>24.990</td>\n",
              "      <td>23.41</td>\n",
              "      <td>158.80</td>\n",
              "      <td>1956.0</td>\n",
              "      <td>0.12380</td>\n",
              "      <td>0.18660</td>\n",
              "      <td>0.2416</td>\n",
              "      <td>0.1860</td>\n",
              "      <td>0.2750</td>\n",
              "      <td>0.08902</td>\n",
              "    </tr>\n",
              "    <tr>\n",
              "      <th>2</th>\n",
              "      <td>84300903</td>\n",
              "      <td>M</td>\n",
              "      <td>19.69</td>\n",
              "      <td>21.25</td>\n",
              "      <td>130.00</td>\n",
              "      <td>1203.0</td>\n",
              "      <td>0.10960</td>\n",
              "      <td>0.15990</td>\n",
              "      <td>0.19740</td>\n",
              "      <td>0.12790</td>\n",
              "      <td>...</td>\n",
              "      <td>23.570</td>\n",
              "      <td>25.53</td>\n",
              "      <td>152.50</td>\n",
              "      <td>1709.0</td>\n",
              "      <td>0.14440</td>\n",
              "      <td>0.42450</td>\n",
              "      <td>0.4504</td>\n",
              "      <td>0.2430</td>\n",
              "      <td>0.3613</td>\n",
              "      <td>0.08758</td>\n",
              "    </tr>\n",
              "    <tr>\n",
              "      <th>3</th>\n",
              "      <td>84348301</td>\n",
              "      <td>M</td>\n",
              "      <td>11.42</td>\n",
              "      <td>20.38</td>\n",
              "      <td>77.58</td>\n",
              "      <td>386.1</td>\n",
              "      <td>0.14250</td>\n",
              "      <td>0.28390</td>\n",
              "      <td>0.24140</td>\n",
              "      <td>0.10520</td>\n",
              "      <td>...</td>\n",
              "      <td>14.910</td>\n",
              "      <td>26.50</td>\n",
              "      <td>98.87</td>\n",
              "      <td>567.7</td>\n",
              "      <td>0.20980</td>\n",
              "      <td>0.86630</td>\n",
              "      <td>0.6869</td>\n",
              "      <td>0.2575</td>\n",
              "      <td>0.6638</td>\n",
              "      <td>0.17300</td>\n",
              "    </tr>\n",
              "    <tr>\n",
              "      <th>4</th>\n",
              "      <td>84358402</td>\n",
              "      <td>M</td>\n",
              "      <td>20.29</td>\n",
              "      <td>14.34</td>\n",
              "      <td>135.10</td>\n",
              "      <td>1297.0</td>\n",
              "      <td>0.10030</td>\n",
              "      <td>0.13280</td>\n",
              "      <td>0.19800</td>\n",
              "      <td>0.10430</td>\n",
              "      <td>...</td>\n",
              "      <td>22.540</td>\n",
              "      <td>16.67</td>\n",
              "      <td>152.20</td>\n",
              "      <td>1575.0</td>\n",
              "      <td>0.13740</td>\n",
              "      <td>0.20500</td>\n",
              "      <td>0.4000</td>\n",
              "      <td>0.1625</td>\n",
              "      <td>0.2364</td>\n",
              "      <td>0.07678</td>\n",
              "    </tr>\n",
              "    <tr>\n",
              "      <th>...</th>\n",
              "      <td>...</td>\n",
              "      <td>...</td>\n",
              "      <td>...</td>\n",
              "      <td>...</td>\n",
              "      <td>...</td>\n",
              "      <td>...</td>\n",
              "      <td>...</td>\n",
              "      <td>...</td>\n",
              "      <td>...</td>\n",
              "      <td>...</td>\n",
              "      <td>...</td>\n",
              "      <td>...</td>\n",
              "      <td>...</td>\n",
              "      <td>...</td>\n",
              "      <td>...</td>\n",
              "      <td>...</td>\n",
              "      <td>...</td>\n",
              "      <td>...</td>\n",
              "      <td>...</td>\n",
              "      <td>...</td>\n",
              "      <td>...</td>\n",
              "    </tr>\n",
              "    <tr>\n",
              "      <th>564</th>\n",
              "      <td>926424</td>\n",
              "      <td>M</td>\n",
              "      <td>21.56</td>\n",
              "      <td>22.39</td>\n",
              "      <td>142.00</td>\n",
              "      <td>1479.0</td>\n",
              "      <td>0.11100</td>\n",
              "      <td>0.11590</td>\n",
              "      <td>0.24390</td>\n",
              "      <td>0.13890</td>\n",
              "      <td>...</td>\n",
              "      <td>25.450</td>\n",
              "      <td>26.40</td>\n",
              "      <td>166.10</td>\n",
              "      <td>2027.0</td>\n",
              "      <td>0.14100</td>\n",
              "      <td>0.21130</td>\n",
              "      <td>0.4107</td>\n",
              "      <td>0.2216</td>\n",
              "      <td>0.2060</td>\n",
              "      <td>0.07115</td>\n",
              "    </tr>\n",
              "    <tr>\n",
              "      <th>565</th>\n",
              "      <td>926682</td>\n",
              "      <td>M</td>\n",
              "      <td>20.13</td>\n",
              "      <td>28.25</td>\n",
              "      <td>131.20</td>\n",
              "      <td>1261.0</td>\n",
              "      <td>0.09780</td>\n",
              "      <td>0.10340</td>\n",
              "      <td>0.14400</td>\n",
              "      <td>0.09791</td>\n",
              "      <td>...</td>\n",
              "      <td>23.690</td>\n",
              "      <td>38.25</td>\n",
              "      <td>155.00</td>\n",
              "      <td>1731.0</td>\n",
              "      <td>0.11660</td>\n",
              "      <td>0.19220</td>\n",
              "      <td>0.3215</td>\n",
              "      <td>0.1628</td>\n",
              "      <td>0.2572</td>\n",
              "      <td>0.06637</td>\n",
              "    </tr>\n",
              "    <tr>\n",
              "      <th>566</th>\n",
              "      <td>926954</td>\n",
              "      <td>M</td>\n",
              "      <td>16.60</td>\n",
              "      <td>28.08</td>\n",
              "      <td>108.30</td>\n",
              "      <td>858.1</td>\n",
              "      <td>0.08455</td>\n",
              "      <td>0.10230</td>\n",
              "      <td>0.09251</td>\n",
              "      <td>0.05302</td>\n",
              "      <td>...</td>\n",
              "      <td>18.980</td>\n",
              "      <td>34.12</td>\n",
              "      <td>126.70</td>\n",
              "      <td>1124.0</td>\n",
              "      <td>0.11390</td>\n",
              "      <td>0.30940</td>\n",
              "      <td>0.3403</td>\n",
              "      <td>0.1418</td>\n",
              "      <td>0.2218</td>\n",
              "      <td>0.07820</td>\n",
              "    </tr>\n",
              "    <tr>\n",
              "      <th>567</th>\n",
              "      <td>927241</td>\n",
              "      <td>M</td>\n",
              "      <td>20.60</td>\n",
              "      <td>29.33</td>\n",
              "      <td>140.10</td>\n",
              "      <td>1265.0</td>\n",
              "      <td>0.11780</td>\n",
              "      <td>0.27700</td>\n",
              "      <td>0.35140</td>\n",
              "      <td>0.15200</td>\n",
              "      <td>...</td>\n",
              "      <td>25.740</td>\n",
              "      <td>39.42</td>\n",
              "      <td>184.60</td>\n",
              "      <td>1821.0</td>\n",
              "      <td>0.16500</td>\n",
              "      <td>0.86810</td>\n",
              "      <td>0.9387</td>\n",
              "      <td>0.2650</td>\n",
              "      <td>0.4087</td>\n",
              "      <td>0.12400</td>\n",
              "    </tr>\n",
              "    <tr>\n",
              "      <th>568</th>\n",
              "      <td>92751</td>\n",
              "      <td>B</td>\n",
              "      <td>7.76</td>\n",
              "      <td>24.54</td>\n",
              "      <td>47.92</td>\n",
              "      <td>181.0</td>\n",
              "      <td>0.05263</td>\n",
              "      <td>0.04362</td>\n",
              "      <td>0.00000</td>\n",
              "      <td>0.00000</td>\n",
              "      <td>...</td>\n",
              "      <td>9.456</td>\n",
              "      <td>30.37</td>\n",
              "      <td>59.16</td>\n",
              "      <td>268.6</td>\n",
              "      <td>0.08996</td>\n",
              "      <td>0.06444</td>\n",
              "      <td>0.0000</td>\n",
              "      <td>0.0000</td>\n",
              "      <td>0.2871</td>\n",
              "      <td>0.07039</td>\n",
              "    </tr>\n",
              "  </tbody>\n",
              "</table>\n",
              "<p>569 rows × 32 columns</p>\n",
              "</div>\n",
              "      <button class=\"colab-df-convert\" onclick=\"convertToInteractive('df-7fa6308d-ce91-4cdc-85df-9448ddf4ddc9')\"\n",
              "              title=\"Convert this dataframe to an interactive table.\"\n",
              "              style=\"display:none;\">\n",
              "        \n",
              "  <svg xmlns=\"http://www.w3.org/2000/svg\" height=\"24px\"viewBox=\"0 0 24 24\"\n",
              "       width=\"24px\">\n",
              "    <path d=\"M0 0h24v24H0V0z\" fill=\"none\"/>\n",
              "    <path d=\"M18.56 5.44l.94 2.06.94-2.06 2.06-.94-2.06-.94-.94-2.06-.94 2.06-2.06.94zm-11 1L8.5 8.5l.94-2.06 2.06-.94-2.06-.94L8.5 2.5l-.94 2.06-2.06.94zm10 10l.94 2.06.94-2.06 2.06-.94-2.06-.94-.94-2.06-.94 2.06-2.06.94z\"/><path d=\"M17.41 7.96l-1.37-1.37c-.4-.4-.92-.59-1.43-.59-.52 0-1.04.2-1.43.59L10.3 9.45l-7.72 7.72c-.78.78-.78 2.05 0 2.83L4 21.41c.39.39.9.59 1.41.59.51 0 1.02-.2 1.41-.59l7.78-7.78 2.81-2.81c.8-.78.8-2.07 0-2.86zM5.41 20L4 18.59l7.72-7.72 1.47 1.35L5.41 20z\"/>\n",
              "  </svg>\n",
              "      </button>\n",
              "      \n",
              "  <style>\n",
              "    .colab-df-container {\n",
              "      display:flex;\n",
              "      flex-wrap:wrap;\n",
              "      gap: 12px;\n",
              "    }\n",
              "\n",
              "    .colab-df-convert {\n",
              "      background-color: #E8F0FE;\n",
              "      border: none;\n",
              "      border-radius: 50%;\n",
              "      cursor: pointer;\n",
              "      display: none;\n",
              "      fill: #1967D2;\n",
              "      height: 32px;\n",
              "      padding: 0 0 0 0;\n",
              "      width: 32px;\n",
              "    }\n",
              "\n",
              "    .colab-df-convert:hover {\n",
              "      background-color: #E2EBFA;\n",
              "      box-shadow: 0px 1px 2px rgba(60, 64, 67, 0.3), 0px 1px 3px 1px rgba(60, 64, 67, 0.15);\n",
              "      fill: #174EA6;\n",
              "    }\n",
              "\n",
              "    [theme=dark] .colab-df-convert {\n",
              "      background-color: #3B4455;\n",
              "      fill: #D2E3FC;\n",
              "    }\n",
              "\n",
              "    [theme=dark] .colab-df-convert:hover {\n",
              "      background-color: #434B5C;\n",
              "      box-shadow: 0px 1px 3px 1px rgba(0, 0, 0, 0.15);\n",
              "      filter: drop-shadow(0px 1px 2px rgba(0, 0, 0, 0.3));\n",
              "      fill: #FFFFFF;\n",
              "    }\n",
              "  </style>\n",
              "\n",
              "      <script>\n",
              "        const buttonEl =\n",
              "          document.querySelector('#df-7fa6308d-ce91-4cdc-85df-9448ddf4ddc9 button.colab-df-convert');\n",
              "        buttonEl.style.display =\n",
              "          google.colab.kernel.accessAllowed ? 'block' : 'none';\n",
              "\n",
              "        async function convertToInteractive(key) {\n",
              "          const element = document.querySelector('#df-7fa6308d-ce91-4cdc-85df-9448ddf4ddc9');\n",
              "          const dataTable =\n",
              "            await google.colab.kernel.invokeFunction('convertToInteractive',\n",
              "                                                     [key], {});\n",
              "          if (!dataTable) return;\n",
              "\n",
              "          const docLinkHtml = 'Like what you see? Visit the ' +\n",
              "            '<a target=\"_blank\" href=https://colab.research.google.com/notebooks/data_table.ipynb>data table notebook</a>'\n",
              "            + ' to learn more about interactive tables.';\n",
              "          element.innerHTML = '';\n",
              "          dataTable['output_type'] = 'display_data';\n",
              "          await google.colab.output.renderOutput(dataTable, element);\n",
              "          const docLink = document.createElement('div');\n",
              "          docLink.innerHTML = docLinkHtml;\n",
              "          element.appendChild(docLink);\n",
              "        }\n",
              "      </script>\n",
              "    </div>\n",
              "  </div>\n",
              "  "
            ]
          },
          "metadata": {},
          "execution_count": 3
        }
      ]
    },
    {
      "cell_type": "code",
      "execution_count": null,
      "id": "bd8a6a02-ae86-4e70-8fe4-4860f253db06",
      "metadata": {
        "scrolled": true,
        "tags": [],
        "id": "bd8a6a02-ae86-4e70-8fe4-4860f253db06",
        "colab": {
          "base_uri": "https://localhost:8080/"
        },
        "outputId": "4283b907-2eea-46e7-fdcb-a6a9f2f67338"
      },
      "outputs": [
        {
          "output_type": "stream",
          "name": "stdout",
          "text": [
            "<class 'pandas.core.frame.DataFrame'>\n",
            "RangeIndex: 569 entries, 0 to 568\n",
            "Data columns (total 32 columns):\n",
            " #   Column              Non-Null Count  Dtype  \n",
            "---  ------              --------------  -----  \n",
            " 0   ID number           569 non-null    int64  \n",
            " 1   Diagnosis           569 non-null    object \n",
            " 2   radius              569 non-null    float64\n",
            " 3   texture             569 non-null    float64\n",
            " 4   perimeter           569 non-null    float64\n",
            " 5   area                569 non-null    float64\n",
            " 6   smoothness          569 non-null    float64\n",
            " 7   compactness         569 non-null    float64\n",
            " 8   concavity           569 non-null    float64\n",
            " 9   concave points      569 non-null    float64\n",
            " 10  symmetry            569 non-null    float64\n",
            " 11  fractal dimension   569 non-null    float64\n",
            " 12  radius2             569 non-null    float64\n",
            " 13  texture2            569 non-null    float64\n",
            " 14  perimeter2          569 non-null    float64\n",
            " 15  area2               569 non-null    float64\n",
            " 16  smoothness2         569 non-null    float64\n",
            " 17  compactness2        569 non-null    float64\n",
            " 18  concavity2          569 non-null    float64\n",
            " 19  concave points2     569 non-null    float64\n",
            " 20  symmetry2           569 non-null    float64\n",
            " 21  fractal dimension2  569 non-null    float64\n",
            " 22  radius3             569 non-null    float64\n",
            " 23  texture3            569 non-null    float64\n",
            " 24  perimeter3          569 non-null    float64\n",
            " 25  area3               569 non-null    float64\n",
            " 26  smoothness3         569 non-null    float64\n",
            " 27  compactness3        569 non-null    float64\n",
            " 28  concavity3          569 non-null    float64\n",
            " 29  concave points3     569 non-null    float64\n",
            " 30  symmetry3           569 non-null    float64\n",
            " 31  fractal dimension3  569 non-null    float64\n",
            "dtypes: float64(30), int64(1), object(1)\n",
            "memory usage: 142.4+ KB\n"
          ]
        }
      ],
      "source": [
        "# information about the dataframe: entries, types,\n",
        "df.info()"
      ]
    },
    {
      "cell_type": "markdown",
      "source": [
        "We basically don't need the ID number, so we'll eliminate it from the dataframe and keep what we belief are the most relevant attributes."
      ],
      "metadata": {
        "id": "yAXwEPH90y_T"
      },
      "id": "yAXwEPH90y_T"
    },
    {
      "cell_type": "code",
      "execution_count": null,
      "id": "18e27078-2a67-49a6-a972-2aef94b0d56b",
      "metadata": {
        "id": "18e27078-2a67-49a6-a972-2aef94b0d56b",
        "colab": {
          "base_uri": "https://localhost:8080/",
          "height": 363
        },
        "outputId": "146b44cc-d9c1-4af6-e227-d6f02e396b35"
      },
      "outputs": [
        {
          "output_type": "execute_result",
          "data": {
            "text/plain": [
              "                     radius   texture  perimeter      area  smoothness  \\\n",
              "radius             1.000000  0.323782   0.997855  0.987357    0.170581   \n",
              "texture            0.323782  1.000000   0.329533  0.321086   -0.023389   \n",
              "perimeter          0.997855  0.329533   1.000000  0.986507    0.207278   \n",
              "area               0.987357  0.321086   0.986507  1.000000    0.177028   \n",
              "smoothness         0.170581 -0.023389   0.207278  0.177028    1.000000   \n",
              "compactness        0.506124  0.236702   0.556936  0.498502    0.659123   \n",
              "concavity          0.676764  0.302418   0.716136  0.685983    0.521984   \n",
              "concave points     0.822529  0.293464   0.850977  0.823269    0.553695   \n",
              "symmetry           0.147741  0.071401   0.183027  0.151293    0.557775   \n",
              "fractal dimension -0.311631 -0.076437  -0.261477 -0.283110    0.584792   \n",
              "\n",
              "                   compactness  concavity  concave points  symmetry  \\\n",
              "radius                0.506124   0.676764        0.822529  0.147741   \n",
              "texture               0.236702   0.302418        0.293464  0.071401   \n",
              "perimeter             0.556936   0.716136        0.850977  0.183027   \n",
              "area                  0.498502   0.685983        0.823269  0.151293   \n",
              "smoothness            0.659123   0.521984        0.553695  0.557775   \n",
              "compactness           1.000000   0.883121        0.831135  0.602641   \n",
              "concavity             0.883121   1.000000        0.921391  0.500667   \n",
              "concave points        0.831135   0.921391        1.000000  0.462497   \n",
              "symmetry              0.602641   0.500667        0.462497  1.000000   \n",
              "fractal dimension     0.565369   0.336783        0.166917  0.479921   \n",
              "\n",
              "                   fractal dimension  \n",
              "radius                     -0.311631  \n",
              "texture                    -0.076437  \n",
              "perimeter                  -0.261477  \n",
              "area                       -0.283110  \n",
              "smoothness                  0.584792  \n",
              "compactness                 0.565369  \n",
              "concavity                   0.336783  \n",
              "concave points              0.166917  \n",
              "symmetry                    0.479921  \n",
              "fractal dimension           1.000000  "
            ],
            "text/html": [
              "\n",
              "  <div id=\"df-7292d125-2268-496f-bb10-258c0f32d1db\">\n",
              "    <div class=\"colab-df-container\">\n",
              "      <div>\n",
              "<style scoped>\n",
              "    .dataframe tbody tr th:only-of-type {\n",
              "        vertical-align: middle;\n",
              "    }\n",
              "\n",
              "    .dataframe tbody tr th {\n",
              "        vertical-align: top;\n",
              "    }\n",
              "\n",
              "    .dataframe thead th {\n",
              "        text-align: right;\n",
              "    }\n",
              "</style>\n",
              "<table border=\"1\" class=\"dataframe\">\n",
              "  <thead>\n",
              "    <tr style=\"text-align: right;\">\n",
              "      <th></th>\n",
              "      <th>radius</th>\n",
              "      <th>texture</th>\n",
              "      <th>perimeter</th>\n",
              "      <th>area</th>\n",
              "      <th>smoothness</th>\n",
              "      <th>compactness</th>\n",
              "      <th>concavity</th>\n",
              "      <th>concave points</th>\n",
              "      <th>symmetry</th>\n",
              "      <th>fractal dimension</th>\n",
              "    </tr>\n",
              "  </thead>\n",
              "  <tbody>\n",
              "    <tr>\n",
              "      <th>radius</th>\n",
              "      <td>1.000000</td>\n",
              "      <td>0.323782</td>\n",
              "      <td>0.997855</td>\n",
              "      <td>0.987357</td>\n",
              "      <td>0.170581</td>\n",
              "      <td>0.506124</td>\n",
              "      <td>0.676764</td>\n",
              "      <td>0.822529</td>\n",
              "      <td>0.147741</td>\n",
              "      <td>-0.311631</td>\n",
              "    </tr>\n",
              "    <tr>\n",
              "      <th>texture</th>\n",
              "      <td>0.323782</td>\n",
              "      <td>1.000000</td>\n",
              "      <td>0.329533</td>\n",
              "      <td>0.321086</td>\n",
              "      <td>-0.023389</td>\n",
              "      <td>0.236702</td>\n",
              "      <td>0.302418</td>\n",
              "      <td>0.293464</td>\n",
              "      <td>0.071401</td>\n",
              "      <td>-0.076437</td>\n",
              "    </tr>\n",
              "    <tr>\n",
              "      <th>perimeter</th>\n",
              "      <td>0.997855</td>\n",
              "      <td>0.329533</td>\n",
              "      <td>1.000000</td>\n",
              "      <td>0.986507</td>\n",
              "      <td>0.207278</td>\n",
              "      <td>0.556936</td>\n",
              "      <td>0.716136</td>\n",
              "      <td>0.850977</td>\n",
              "      <td>0.183027</td>\n",
              "      <td>-0.261477</td>\n",
              "    </tr>\n",
              "    <tr>\n",
              "      <th>area</th>\n",
              "      <td>0.987357</td>\n",
              "      <td>0.321086</td>\n",
              "      <td>0.986507</td>\n",
              "      <td>1.000000</td>\n",
              "      <td>0.177028</td>\n",
              "      <td>0.498502</td>\n",
              "      <td>0.685983</td>\n",
              "      <td>0.823269</td>\n",
              "      <td>0.151293</td>\n",
              "      <td>-0.283110</td>\n",
              "    </tr>\n",
              "    <tr>\n",
              "      <th>smoothness</th>\n",
              "      <td>0.170581</td>\n",
              "      <td>-0.023389</td>\n",
              "      <td>0.207278</td>\n",
              "      <td>0.177028</td>\n",
              "      <td>1.000000</td>\n",
              "      <td>0.659123</td>\n",
              "      <td>0.521984</td>\n",
              "      <td>0.553695</td>\n",
              "      <td>0.557775</td>\n",
              "      <td>0.584792</td>\n",
              "    </tr>\n",
              "    <tr>\n",
              "      <th>compactness</th>\n",
              "      <td>0.506124</td>\n",
              "      <td>0.236702</td>\n",
              "      <td>0.556936</td>\n",
              "      <td>0.498502</td>\n",
              "      <td>0.659123</td>\n",
              "      <td>1.000000</td>\n",
              "      <td>0.883121</td>\n",
              "      <td>0.831135</td>\n",
              "      <td>0.602641</td>\n",
              "      <td>0.565369</td>\n",
              "    </tr>\n",
              "    <tr>\n",
              "      <th>concavity</th>\n",
              "      <td>0.676764</td>\n",
              "      <td>0.302418</td>\n",
              "      <td>0.716136</td>\n",
              "      <td>0.685983</td>\n",
              "      <td>0.521984</td>\n",
              "      <td>0.883121</td>\n",
              "      <td>1.000000</td>\n",
              "      <td>0.921391</td>\n",
              "      <td>0.500667</td>\n",
              "      <td>0.336783</td>\n",
              "    </tr>\n",
              "    <tr>\n",
              "      <th>concave points</th>\n",
              "      <td>0.822529</td>\n",
              "      <td>0.293464</td>\n",
              "      <td>0.850977</td>\n",
              "      <td>0.823269</td>\n",
              "      <td>0.553695</td>\n",
              "      <td>0.831135</td>\n",
              "      <td>0.921391</td>\n",
              "      <td>1.000000</td>\n",
              "      <td>0.462497</td>\n",
              "      <td>0.166917</td>\n",
              "    </tr>\n",
              "    <tr>\n",
              "      <th>symmetry</th>\n",
              "      <td>0.147741</td>\n",
              "      <td>0.071401</td>\n",
              "      <td>0.183027</td>\n",
              "      <td>0.151293</td>\n",
              "      <td>0.557775</td>\n",
              "      <td>0.602641</td>\n",
              "      <td>0.500667</td>\n",
              "      <td>0.462497</td>\n",
              "      <td>1.000000</td>\n",
              "      <td>0.479921</td>\n",
              "    </tr>\n",
              "    <tr>\n",
              "      <th>fractal dimension</th>\n",
              "      <td>-0.311631</td>\n",
              "      <td>-0.076437</td>\n",
              "      <td>-0.261477</td>\n",
              "      <td>-0.283110</td>\n",
              "      <td>0.584792</td>\n",
              "      <td>0.565369</td>\n",
              "      <td>0.336783</td>\n",
              "      <td>0.166917</td>\n",
              "      <td>0.479921</td>\n",
              "      <td>1.000000</td>\n",
              "    </tr>\n",
              "  </tbody>\n",
              "</table>\n",
              "</div>\n",
              "      <button class=\"colab-df-convert\" onclick=\"convertToInteractive('df-7292d125-2268-496f-bb10-258c0f32d1db')\"\n",
              "              title=\"Convert this dataframe to an interactive table.\"\n",
              "              style=\"display:none;\">\n",
              "        \n",
              "  <svg xmlns=\"http://www.w3.org/2000/svg\" height=\"24px\"viewBox=\"0 0 24 24\"\n",
              "       width=\"24px\">\n",
              "    <path d=\"M0 0h24v24H0V0z\" fill=\"none\"/>\n",
              "    <path d=\"M18.56 5.44l.94 2.06.94-2.06 2.06-.94-2.06-.94-.94-2.06-.94 2.06-2.06.94zm-11 1L8.5 8.5l.94-2.06 2.06-.94-2.06-.94L8.5 2.5l-.94 2.06-2.06.94zm10 10l.94 2.06.94-2.06 2.06-.94-2.06-.94-.94-2.06-.94 2.06-2.06.94z\"/><path d=\"M17.41 7.96l-1.37-1.37c-.4-.4-.92-.59-1.43-.59-.52 0-1.04.2-1.43.59L10.3 9.45l-7.72 7.72c-.78.78-.78 2.05 0 2.83L4 21.41c.39.39.9.59 1.41.59.51 0 1.02-.2 1.41-.59l7.78-7.78 2.81-2.81c.8-.78.8-2.07 0-2.86zM5.41 20L4 18.59l7.72-7.72 1.47 1.35L5.41 20z\"/>\n",
              "  </svg>\n",
              "      </button>\n",
              "      \n",
              "  <style>\n",
              "    .colab-df-container {\n",
              "      display:flex;\n",
              "      flex-wrap:wrap;\n",
              "      gap: 12px;\n",
              "    }\n",
              "\n",
              "    .colab-df-convert {\n",
              "      background-color: #E8F0FE;\n",
              "      border: none;\n",
              "      border-radius: 50%;\n",
              "      cursor: pointer;\n",
              "      display: none;\n",
              "      fill: #1967D2;\n",
              "      height: 32px;\n",
              "      padding: 0 0 0 0;\n",
              "      width: 32px;\n",
              "    }\n",
              "\n",
              "    .colab-df-convert:hover {\n",
              "      background-color: #E2EBFA;\n",
              "      box-shadow: 0px 1px 2px rgba(60, 64, 67, 0.3), 0px 1px 3px 1px rgba(60, 64, 67, 0.15);\n",
              "      fill: #174EA6;\n",
              "    }\n",
              "\n",
              "    [theme=dark] .colab-df-convert {\n",
              "      background-color: #3B4455;\n",
              "      fill: #D2E3FC;\n",
              "    }\n",
              "\n",
              "    [theme=dark] .colab-df-convert:hover {\n",
              "      background-color: #434B5C;\n",
              "      box-shadow: 0px 1px 3px 1px rgba(0, 0, 0, 0.15);\n",
              "      filter: drop-shadow(0px 1px 2px rgba(0, 0, 0, 0.3));\n",
              "      fill: #FFFFFF;\n",
              "    }\n",
              "  </style>\n",
              "\n",
              "      <script>\n",
              "        const buttonEl =\n",
              "          document.querySelector('#df-7292d125-2268-496f-bb10-258c0f32d1db button.colab-df-convert');\n",
              "        buttonEl.style.display =\n",
              "          google.colab.kernel.accessAllowed ? 'block' : 'none';\n",
              "\n",
              "        async function convertToInteractive(key) {\n",
              "          const element = document.querySelector('#df-7292d125-2268-496f-bb10-258c0f32d1db');\n",
              "          const dataTable =\n",
              "            await google.colab.kernel.invokeFunction('convertToInteractive',\n",
              "                                                     [key], {});\n",
              "          if (!dataTable) return;\n",
              "\n",
              "          const docLinkHtml = 'Like what you see? Visit the ' +\n",
              "            '<a target=\"_blank\" href=https://colab.research.google.com/notebooks/data_table.ipynb>data table notebook</a>'\n",
              "            + ' to learn more about interactive tables.';\n",
              "          element.innerHTML = '';\n",
              "          dataTable['output_type'] = 'display_data';\n",
              "          await google.colab.output.renderOutput(dataTable, element);\n",
              "          const docLink = document.createElement('div');\n",
              "          docLink.innerHTML = docLinkHtml;\n",
              "          element.appendChild(docLink);\n",
              "        }\n",
              "      </script>\n",
              "    </div>\n",
              "  </div>\n",
              "  "
            ]
          },
          "metadata": {},
          "execution_count": 5
        }
      ],
      "source": [
        "# drop the ID number columns \n",
        "df = df.drop(columns= \"ID number\")\n",
        "\n",
        "# print the correlation matrix of the remaining columns attributes\n",
        "df.iloc[:,:11].corr()"
      ]
    },
    {
      "cell_type": "markdown",
      "source": [
        "Corrleation will tell us how the data relate to each other. Another way to look at these relationships is by plotting the correlation matrix"
      ],
      "metadata": {
        "id": "TRItinKQU3SS"
      },
      "id": "TRItinKQU3SS"
    },
    {
      "cell_type": "code",
      "execution_count": null,
      "id": "4ada9c60-454d-47c1-8808-0c8e02f92699",
      "metadata": {
        "id": "4ada9c60-454d-47c1-8808-0c8e02f92699",
        "colab": {
          "base_uri": "https://localhost:8080/",
          "height": 575
        },
        "outputId": "27178488-d44e-4ed1-e815-413b436c3a51"
      },
      "outputs": [
        {
          "output_type": "display_data",
          "data": {
            "text/plain": [
              "<Figure size 720x480 with 2 Axes>"
            ],
            "image/png": "[encoded data removed]"
          },
          "metadata": {
            "needs_background": "light"
          }
        }
      ],
      "source": [
        "plt.figure(dpi=120)\n",
        "# making a plot from the previous correlation matrix\n",
        "plt.matshow(df.iloc[:,:11].corr(),fignum=1,cmap='coolwarm')\n",
        "plt.xticks(ticks=range(len(att)), labels=att, rotation=90)     # attributes on the x-ticks\n",
        "plt.yticks(ticks=range(len(att)), labels=att)                  # attributes on the y-ticks\n",
        "plt.colorbar()   # add a color bar on the side of the main plot \n",
        "plt.show()"
      ]
    },
    {
      "cell_type": "markdown",
      "source": [
        "The \"hotter\" (red) an element is, the more correlated it is to that attribute. Blue tells us that there's little to no correlation, where a negative value tells us it's anti-correlated. This analysis allows us to chose which attributes are best to study. For example, we can see how the radius is very correlated to the perimeter and area. "
      ],
      "metadata": {
        "id": "yv08lgQVzEdt"
      },
      "id": "yv08lgQVzEdt"
    },
    {
      "cell_type": "code",
      "execution_count": null,
      "id": "2e4368f2-d623-40c6-ac5b-f5fca1e0affc",
      "metadata": {
        "scrolled": true,
        "tags": [],
        "id": "2e4368f2-d623-40c6-ac5b-f5fca1e0affc",
        "colab": {
          "base_uri": "https://localhost:8080/",
          "height": 1000
        },
        "outputId": "43f9391e-7606-4ab3-d838-ae4599c752a6"
      },
      "outputs": [
        {
          "output_type": "display_data",
          "data": {
            "text/plain": [
              "<Figure size 1440x1440 with 30 Axes>"
            ],
            "image/png": "[encoded data removed]"
          },
          "metadata": {
            "needs_background": "light"
          }
        }
      ],
      "source": [
        "# making a histogram all the attributes data (without ID number)\n",
        "df.hist(figsize=(20,20),bins=20,histtype='step')\n",
        "plt.show()"
      ]
    },
    {
      "cell_type": "markdown",
      "source": [
        "## Machine Learning model setup..."
      ],
      "metadata": {
        "id": "H-0owdlNXsxR"
      },
      "id": "H-0owdlNXsxR"
    },
    {
      "cell_type": "code",
      "execution_count": null,
      "id": "8090b1c5-86e2-4c55-aac3-3347dcc83b4b",
      "metadata": {
        "id": "8090b1c5-86e2-4c55-aac3-3347dcc83b4b"
      },
      "outputs": [],
      "source": [
        "# useful libraries for machine learning\n",
        "\n",
        "from sklearn.preprocessing import StandardScaler,normalize             # to change raw feature vectors into a representation more suitable for \"downstream estimators\" \n",
        "from sklearn.model_selection import cross_val_score,train_test_split   # to select a model to analyze data and use it to measure new data\n"
      ]
    },
    {
      "cell_type": "code",
      "execution_count": null,
      "id": "c532c7b0-99a7-42ae-961e-1a4a39381646",
      "metadata": {
        "id": "c532c7b0-99a7-42ae-961e-1a4a39381646",
        "colab": {
          "base_uri": "https://localhost:8080/"
        },
        "outputId": "299aa578-1e13-4778-a8b0-548a82255bba"
      },
      "outputs": [
        {
          "output_type": "stream",
          "name": "stderr",
          "text": [
            "/usr/local/lib/python3.7/dist-packages/ipykernel_launcher.py:8: SettingWithCopyWarning: \n",
            "A value is trying to be set on a copy of a slice from a DataFrame\n",
            "\n",
            "See the caveats in the documentation: https://pandas.pydata.org/pandas-docs/stable/user_guide/indexing.html#returning-a-view-versus-a-copy\n",
            "  \n",
            "/usr/local/lib/python3.7/dist-packages/ipykernel_launcher.py:9: SettingWithCopyWarning: \n",
            "A value is trying to be set on a copy of a slice from a DataFrame\n",
            "\n",
            "See the caveats in the documentation: https://pandas.pydata.org/pandas-docs/stable/user_guide/indexing.html#returning-a-view-versus-a-copy\n",
            "  if __name__ == '__main__':\n"
          ]
        }
      ],
      "source": [
        "X = df.iloc[:,1:]   # assign all the columns except ID number as the X data\n",
        "scaler = StandardScaler()                          # Standardize features by removing the mean and scaling to unit variance.\n",
        "X = np.asarray(X).astype('float32')                # re-assign X as an array of it\n",
        "X = scaler.fit_transform(X)                        # fit X and apply scalar transformation\n",
        "\n",
        "\n",
        "y = df.Diagnosis  \n",
        "y [y == \"M\"] = 1.0   # malignant\n",
        "y[y =='B'] = 0.0     # benign \n",
        "## The previous two commands are re-writting any M as 1.0, and B as 0.0\n",
        "## this will allow us to classify the data more easily, compared if we had to so with strings\n",
        "y = np.asarray(y).astype('float32')     # make an array of the y df.Diagnosis\n"
      ]
    },
    {
      "cell_type": "code",
      "source": [
        "y"
      ],
      "metadata": {
        "colab": {
          "base_uri": "https://localhost:8080/"
        },
        "id": "C4yw4sgMAQ6H",
        "outputId": "5d58926c-c6ce-4bf8-f9d2-b9173e9798f2"
      },
      "id": "C4yw4sgMAQ6H",
      "execution_count": null,
      "outputs": [
        {
          "output_type": "execute_result",
          "data": {
            "text/plain": [
              "array([1., 1., 1., 1., 1., 1., 1., 1., 1., 1., 1., 1., 1., 1., 1., 1., 1.,\n",
              "       1., 1., 0., 0., 0., 1., 1., 1., 1., 1., 1., 1., 1., 1., 1., 1., 1.,\n",
              "       1., 1., 1., 0., 1., 1., 1., 1., 1., 1., 1., 1., 0., 1., 0., 0., 0.,\n",
              "       0., 0., 1., 1., 0., 1., 1., 0., 0., 0., 0., 1., 0., 1., 1., 0., 0.,\n",
              "       0., 0., 1., 0., 1., 1., 0., 1., 0., 1., 1., 0., 0., 0., 1., 1., 0.,\n",
              "       1., 1., 1., 0., 0., 0., 1., 0., 0., 1., 1., 0., 0., 0., 1., 1., 0.,\n",
              "       0., 0., 0., 1., 0., 0., 1., 0., 0., 0., 0., 0., 0., 0., 0., 1., 1.,\n",
              "       1., 0., 1., 1., 0., 0., 0., 1., 1., 0., 1., 0., 1., 1., 0., 1., 1.,\n",
              "       0., 0., 1., 0., 0., 1., 0., 0., 0., 0., 1., 0., 0., 0., 0., 0., 0.,\n",
              "       0., 0., 0., 1., 0., 0., 0., 0., 1., 1., 0., 1., 0., 0., 1., 1., 0.,\n",
              "       0., 1., 1., 0., 0., 0., 0., 1., 0., 0., 1., 1., 1., 0., 1., 0., 1.,\n",
              "       0., 0., 0., 1., 0., 0., 1., 1., 0., 1., 1., 1., 1., 0., 1., 1., 1.,\n",
              "       0., 1., 0., 1., 0., 0., 1., 0., 1., 1., 1., 1., 0., 0., 1., 1., 0.,\n",
              "       0., 0., 1., 0., 0., 0., 0., 0., 1., 1., 0., 0., 1., 0., 0., 1., 1.,\n",
              "       0., 1., 0., 0., 0., 0., 1., 0., 0., 0., 0., 0., 1., 0., 1., 1., 1.,\n",
              "       1., 1., 1., 1., 1., 1., 1., 1., 1., 1., 1., 0., 0., 0., 0., 0., 0.,\n",
              "       1., 0., 1., 0., 0., 1., 0., 0., 1., 0., 1., 1., 0., 0., 0., 0., 0.,\n",
              "       0., 0., 0., 0., 0., 0., 0., 0., 1., 0., 0., 1., 0., 1., 0., 0., 0.,\n",
              "       0., 0., 0., 0., 0., 0., 0., 0., 0., 0., 0., 1., 0., 0., 0., 1., 0.,\n",
              "       1., 0., 0., 0., 0., 1., 1., 1., 0., 0., 0., 0., 1., 0., 1., 0., 1.,\n",
              "       0., 0., 0., 1., 0., 0., 0., 0., 0., 0., 0., 1., 1., 1., 0., 0., 0.,\n",
              "       0., 0., 0., 0., 0., 0., 0., 0., 1., 1., 0., 1., 1., 1., 0., 1., 1.,\n",
              "       0., 0., 0., 0., 0., 1., 0., 0., 0., 0., 0., 1., 0., 0., 0., 1., 0.,\n",
              "       0., 1., 1., 0., 0., 0., 0., 0., 0., 1., 0., 0., 0., 0., 0., 0., 0.,\n",
              "       1., 0., 0., 0., 0., 0., 1., 0., 0., 1., 0., 0., 0., 0., 0., 0., 0.,\n",
              "       0., 0., 0., 0., 0., 1., 0., 1., 1., 0., 1., 0., 0., 0., 0., 0., 1.,\n",
              "       0., 0., 1., 0., 1., 0., 0., 1., 0., 1., 0., 0., 0., 0., 0., 0., 0.,\n",
              "       0., 1., 1., 0., 0., 0., 0., 0., 0., 1., 0., 0., 0., 0., 0., 0., 0.,\n",
              "       0., 0., 0., 1., 0., 0., 0., 0., 0., 0., 0., 1., 0., 1., 0., 0., 1.,\n",
              "       0., 0., 0., 0., 0., 1., 1., 0., 1., 0., 1., 0., 0., 0., 0., 0., 1.,\n",
              "       0., 0., 1., 0., 1., 0., 1., 1., 0., 0., 0., 1., 0., 0., 0., 0., 0.,\n",
              "       0., 0., 0., 0., 0., 0., 1., 0., 1., 1., 0., 0., 0., 0., 0., 0., 0.,\n",
              "       0., 0., 0., 0., 0., 0., 0., 0., 0., 0., 0., 0., 0., 0., 0., 0., 0.,\n",
              "       0., 1., 1., 1., 1., 1., 1., 0.], dtype=float32)"
            ]
          },
          "metadata": {},
          "execution_count": 10
        }
      ]
    },
    {
      "cell_type": "markdown",
      "source": [
        "## Machine Learning Model Training"
      ],
      "metadata": {
        "id": "7tDskDCcNXiP"
      },
      "id": "7tDskDCcNXiP"
    },
    {
      "cell_type": "code",
      "source": [
        "## If you want to get a consistent result from the training, we need to specify a random seed\n",
        "## Comment all of this out or don't run this block to get different results from the following training\n",
        "\n",
        "# Set a seed value\n",
        "seed_value= 12321 \n",
        "# 1. Set `PYTHONHASHSEED` environment variable at a fixed value\n",
        "import os\n",
        "os.environ['PYTHONHASHSEED']=str(seed_value)\n",
        "# 2. Set `python` built-in pseudo-random generator at a fixed value\n",
        "import random\n",
        "random.seed(seed_value)\n",
        "# 3. Set `numpy` pseudo-random generator at a fixed value\n",
        "import numpy as np\n",
        "np.random.seed(seed_value)\n",
        "# 4. Set `tensorflow` pseudo-random generator at a fixed value\n",
        "import tensorflow as tf\n",
        "tf.random.set_seed(seed_value)\n"
      ],
      "metadata": {
        "id": "LM9va4ad1Xoz"
      },
      "id": "LM9va4ad1Xoz",
      "execution_count": null,
      "outputs": []
    },
    {
      "cell_type": "code",
      "execution_count": null,
      "id": "7a62656f-73a0-4484-916f-d93d93ab59be",
      "metadata": {
        "id": "7a62656f-73a0-4484-916f-d93d93ab59be"
      },
      "outputs": [],
      "source": [
        "# randomly split X and y into a \"train\" and \"test\" arrays\n",
        "Xtrain,Xtest,ytrain,ytest = train_test_split(X,y)"
      ]
    },
    {
      "cell_type": "code",
      "execution_count": null,
      "id": "7492b795-f6d8-4e26-9ac1-6a26401fc1f7",
      "metadata": {
        "id": "7492b795-f6d8-4e26-9ac1-6a26401fc1f7"
      },
      "outputs": [],
      "source": [
        "# useful libraries for deep learning model \n",
        "import keras\n",
        "from keras.activations import relu                     # activation function\n",
        "from keras.models import Sequential,save_model,Model   # model utilities\n",
        "from keras.layers import Dense,Flatten,Input           # utilities for neural networks\n",
        "from keras.utils.vis_utils import plot_model           # to plot Keras models"
      ]
    },
    {
      "cell_type": "markdown",
      "source": [
        "### Chosing the Machine Learning model... \n",
        "\n",
        "Here we are using the Keras' Sequential model, which is useful for a plain stack of layers with a single input tensor; here we also have an example of a neural network. Each layer is also known as a \"neuron\", and the connection of all of them in the model is known as the neural network. \n",
        "\n",
        "![](https://www.researchgate.net/profile/Rahul-Jayawardana/publication/350567223/figure/fig2/AS:1007855343792135@1617302847605/Fig-2-A-sequential-neural-model-Keras-Sequential-Api-nd-Activation-Functions-The.jpg) \n",
        "\n",
        "Each layer uses an activation function on the input to then output the data in a predictable form. Two activation functions we are using are 'relu' and 'sigmoid'. The Rectified Linear Unit (ReLU) is a linear function that directly outputs the input if it is positive; otherwise, it outputs zero. \n",
        "\n",
        "An example of a non-linear activation function is the sigmoid activation function. These have the befinit of learning more complex structures from data. This activation function transforms the input into a number between 0.0 and 1.0. "
      ],
      "metadata": {
        "id": "ZXgBclb0Zd2N"
      },
      "id": "ZXgBclb0Zd2N"
    },
    {
      "cell_type": "code",
      "execution_count": null,
      "id": "2105fe0b-dceb-42a8-b1e3-ea5d6a272f79",
      "metadata": {
        "id": "2105fe0b-dceb-42a8-b1e3-ea5d6a272f79"
      },
      "outputs": [],
      "source": [
        "model = Sequential([                       # using the Sequential model\n",
        "    Input(shape=Xtrain.shape[1]),          # Instantiate a Keras tensor with the shape of the second element of Xtrain\n",
        "    Dense(32,activation= 'relu'),          # start the NN with 32 layers, and a relu activation function\n",
        "    Dense(10,activation='relu'),           # continue the NN with 10 layers ...\n",
        "    Dense(1,activation='sigmoid')]         # end the NN with one layer and a sigmoid activation function\n",
        "    )\n",
        "model.compile(optimizer='adam', loss='mse',metrics=\"accuracy\")  # configures the model for training"
      ]
    },
    {
      "cell_type": "markdown",
      "source": [
        "An oprimizer adpats the model's algorithm to produce the results. Unlike the stohastic gradient descent, the Adam optimizer updates the learning rate of a layer's parameter (weights) based on the data.  \n",
        "\n",
        "The loss function quantifies how \"good\" the network is in order for the model to do better. The mean-square-error (MSE) calculates the average of the squared-error of the data. In our case, it calculates the error of the predicted value (y_pred) produced from the model, from the true value (y_true) the output should have. \n",
        "\n",
        "The metric is what is used to judge the performance of the model. In this case, we use the accuracy of how y_pred matches y_true."
      ],
      "metadata": {
        "id": "douMEo29MyOV"
      },
      "id": "douMEo29MyOV"
    },
    {
      "cell_type": "markdown",
      "source": [
        "Here is a visual example of what an optimizer does...\n",
        "\n",
        "![](https://camo.githubusercontent.com/cccdc200cc2a3052ad9562f6f58ebd429d634fb1190a84b20db931e8ad4ffb8f/68747470733a2f2f692e737461636b2e696d6775722e636f6d2f316f6274562e676966)\n",
        "\n",
        "It will basically look for the minimum \n",
        "\n",
        "![](https://mpopov.com/images/adam-animated.gif)"
      ],
      "metadata": {
        "id": "9tS13_K1vVra"
      },
      "id": "9tS13_K1vVra"
    },
    {
      "cell_type": "markdown",
      "source": [
        "For a stohastic gradient descent (the simple version of the Adam optimizer), it also looks for the minimum, but you would need to specify the learning rate parameter in the layers. At first, you'll need to play around to find the right value. If you overshoot it, the optimizer goes back-and-forth on the minimum\n",
        "\n",
        "![](https://keep.google.com/u/0/media/v2/1STEtOvV3QUc6ff8e0yo4xoWAWYBoptoO5162t2yIPUcnWDKm2hsizNgK3Lq5wg/1GOCjqTg0bQooM6K4xME9HiVmqAhu_J-yZACIk-uRZ8aSxlshtE_pyYgdlO8rch4?sz=512&accept=image%2Fgif%2Cimage%2Fjpeg%2Cimage%2Fjpg%2Cimage%2Fpng%2Cimage%2Fwebp)\n",
        "\n",
        "Choosing a good value will produce a more smooth descent to the minimum\n",
        "\n",
        "![](https://keep.google.com/u/0/media/v2/17bUodH55Yvq-Zk-PoWzsn4zVA_aEXKZqBZ-oV94vmRaXU9Y1vjLGCEpXzCgNLh4/179I1fzbIqMoaVO0BcdoRUc_WYUFIp1XrDeqwQ_GjwynJ3A-md2PWKy_IGmDRFg?accept=image%2Fgif%2Cimage%2Fjpeg%2Cimage%2Fjpg%2Cimage%2Fpng%2Cimage%2Fwebp%2Caudio%2Faac&sz=384) \n"
      ],
      "metadata": {
        "id": "s0lY2rMryjnh"
      },
      "id": "s0lY2rMryjnh"
    },
    {
      "cell_type": "code",
      "execution_count": null,
      "id": "7c80ca4f-912f-459d-8c01-4d22143c5f45",
      "metadata": {
        "id": "7c80ca4f-912f-459d-8c01-4d22143c5f45",
        "colab": {
          "base_uri": "https://localhost:8080/"
        },
        "outputId": "ef4af3b5-7ddc-4068-9dd0-a2ab9d136664"
      },
      "outputs": [
        {
          "output_type": "stream",
          "name": "stdout",
          "text": [
            "Model: \"sequential\"\n",
            "_________________________________________________________________\n",
            " Layer (type)                Output Shape              Param #   \n",
            "=================================================================\n",
            " dense (Dense)               (None, 32)                992       \n",
            "                                                                 \n",
            " dense_1 (Dense)             (None, 10)                330       \n",
            "                                                                 \n",
            " dense_2 (Dense)             (None, 1)                 11        \n",
            "                                                                 \n",
            "=================================================================\n",
            "Total params: 1,333\n",
            "Trainable params: 1,333\n",
            "Non-trainable params: 0\n",
            "_________________________________________________________________\n"
          ]
        }
      ],
      "source": [
        "# To see the amount of parameters each layer had to deal with\n",
        "model.summary()"
      ]
    },
    {
      "cell_type": "code",
      "source": [
        "plot_model(model,show_layer_activations=True,show_shapes=True,)"
      ],
      "metadata": {
        "id": "8CyuoJ5gBB9z",
        "colab": {
          "base_uri": "https://localhost:8080/",
          "height": 422
        },
        "outputId": "8708fccd-6d3e-4dec-a513-ed0d70b1d586"
      },
      "id": "8CyuoJ5gBB9z",
      "execution_count": null,
      "outputs": [
        {
          "output_type": "execute_result",
          "data": {
            "text/plain": [
              "<IPython.core.display.Image object>"
            ],
            "image/png": "[encoded data removed]"
          },
          "metadata": {},
          "execution_count": 16
        }
      ]
    },
    {
      "cell_type": "code",
      "source": [
        "# Model training \n",
        "history = model.fit(Xtrain,ytrain,           # input and target data\n",
        "                    validation_split=0.2,    # uses a random 20% of the data before shuffling it for validation\n",
        "                    epochs=50                # training iterations on the dataset\n",
        ")"
      ],
      "metadata": {
        "id": "pwLVjcxiBB4I",
        "colab": {
          "base_uri": "https://localhost:8080/"
        },
        "outputId": "ad28953e-cafe-4167-d735-2b2883095d98"
      },
      "id": "pwLVjcxiBB4I",
      "execution_count": null,
      "outputs": [
        {
          "output_type": "stream",
          "name": "stdout",
          "text": [
            "Epoch 1/50\n",
            "11/11 [==============================] - 1s 37ms/step - loss: 0.2013 - accuracy: 0.6324 - val_loss: 0.1517 - val_accuracy: 0.7326\n",
            "Epoch 2/50\n",
            "11/11 [==============================] - 0s 4ms/step - loss: 0.1463 - accuracy: 0.8059 - val_loss: 0.1162 - val_accuracy: 0.8140\n",
            "Epoch 3/50\n",
            "11/11 [==============================] - 0s 6ms/step - loss: 0.1090 - accuracy: 0.8647 - val_loss: 0.0919 - val_accuracy: 0.9070\n",
            "Epoch 4/50\n",
            "11/11 [==============================] - 0s 6ms/step - loss: 0.0870 - accuracy: 0.8971 - val_loss: 0.0752 - val_accuracy: 0.9302\n",
            "Epoch 5/50\n",
            "11/11 [==============================] - 0s 6ms/step - loss: 0.0732 - accuracy: 0.9176 - val_loss: 0.0633 - val_accuracy: 0.9302\n",
            "Epoch 6/50\n",
            "11/11 [==============================] - 0s 4ms/step - loss: 0.0627 - accuracy: 0.9265 - val_loss: 0.0550 - val_accuracy: 0.9302\n",
            "Epoch 7/50\n",
            "11/11 [==============================] - 0s 5ms/step - loss: 0.0555 - accuracy: 0.9353 - val_loss: 0.0486 - val_accuracy: 0.9302\n",
            "Epoch 8/50\n",
            "11/11 [==============================] - 0s 5ms/step - loss: 0.0495 - accuracy: 0.9500 - val_loss: 0.0435 - val_accuracy: 0.9419\n",
            "Epoch 9/50\n",
            "11/11 [==============================] - 0s 5ms/step - loss: 0.0449 - accuracy: 0.9559 - val_loss: 0.0389 - val_accuracy: 0.9651\n",
            "Epoch 10/50\n",
            "11/11 [==============================] - 0s 6ms/step - loss: 0.0409 - accuracy: 0.9647 - val_loss: 0.0352 - val_accuracy: 0.9651\n",
            "Epoch 11/50\n",
            "11/11 [==============================] - 0s 4ms/step - loss: 0.0373 - accuracy: 0.9676 - val_loss: 0.0318 - val_accuracy: 0.9651\n",
            "Epoch 12/50\n",
            "11/11 [==============================] - 0s 4ms/step - loss: 0.0340 - accuracy: 0.9676 - val_loss: 0.0280 - val_accuracy: 0.9767\n",
            "Epoch 13/50\n",
            "11/11 [==============================] - 0s 6ms/step - loss: 0.0310 - accuracy: 0.9706 - val_loss: 0.0247 - val_accuracy: 1.0000\n",
            "Epoch 14/50\n",
            "11/11 [==============================] - 0s 5ms/step - loss: 0.0286 - accuracy: 0.9706 - val_loss: 0.0219 - val_accuracy: 1.0000\n",
            "Epoch 15/50\n",
            "11/11 [==============================] - 0s 6ms/step - loss: 0.0267 - accuracy: 0.9794 - val_loss: 0.0197 - val_accuracy: 1.0000\n",
            "Epoch 16/50\n",
            "11/11 [==============================] - 0s 6ms/step - loss: 0.0251 - accuracy: 0.9824 - val_loss: 0.0176 - val_accuracy: 1.0000\n",
            "Epoch 17/50\n",
            "11/11 [==============================] - 0s 5ms/step - loss: 0.0235 - accuracy: 0.9824 - val_loss: 0.0161 - val_accuracy: 1.0000\n",
            "Epoch 18/50\n",
            "11/11 [==============================] - 0s 4ms/step - loss: 0.0222 - accuracy: 0.9824 - val_loss: 0.0146 - val_accuracy: 1.0000\n",
            "Epoch 19/50\n",
            "11/11 [==============================] - 0s 6ms/step - loss: 0.0212 - accuracy: 0.9824 - val_loss: 0.0133 - val_accuracy: 1.0000\n",
            "Epoch 20/50\n",
            "11/11 [==============================] - 0s 6ms/step - loss: 0.0202 - accuracy: 0.9824 - val_loss: 0.0125 - val_accuracy: 1.0000\n",
            "Epoch 21/50\n",
            "11/11 [==============================] - 0s 5ms/step - loss: 0.0192 - accuracy: 0.9824 - val_loss: 0.0118 - val_accuracy: 1.0000\n",
            "Epoch 22/50\n",
            "11/11 [==============================] - 0s 4ms/step - loss: 0.0184 - accuracy: 0.9824 - val_loss: 0.0110 - val_accuracy: 1.0000\n",
            "Epoch 23/50\n",
            "11/11 [==============================] - 0s 6ms/step - loss: 0.0177 - accuracy: 0.9824 - val_loss: 0.0106 - val_accuracy: 1.0000\n",
            "Epoch 24/50\n",
            "11/11 [==============================] - 0s 6ms/step - loss: 0.0170 - accuracy: 0.9824 - val_loss: 0.0100 - val_accuracy: 1.0000\n",
            "Epoch 25/50\n",
            "11/11 [==============================] - 0s 6ms/step - loss: 0.0164 - accuracy: 0.9824 - val_loss: 0.0097 - val_accuracy: 1.0000\n",
            "Epoch 26/50\n",
            "11/11 [==============================] - 0s 5ms/step - loss: 0.0159 - accuracy: 0.9853 - val_loss: 0.0094 - val_accuracy: 1.0000\n",
            "Epoch 27/50\n",
            "11/11 [==============================] - 0s 6ms/step - loss: 0.0153 - accuracy: 0.9882 - val_loss: 0.0091 - val_accuracy: 1.0000\n",
            "Epoch 28/50\n",
            "11/11 [==============================] - 0s 6ms/step - loss: 0.0148 - accuracy: 0.9882 - val_loss: 0.0089 - val_accuracy: 0.9884\n",
            "Epoch 29/50\n",
            "11/11 [==============================] - 0s 4ms/step - loss: 0.0143 - accuracy: 0.9882 - val_loss: 0.0084 - val_accuracy: 1.0000\n",
            "Epoch 30/50\n",
            "11/11 [==============================] - 0s 5ms/step - loss: 0.0138 - accuracy: 0.9882 - val_loss: 0.0083 - val_accuracy: 0.9884\n",
            "Epoch 31/50\n",
            "11/11 [==============================] - 0s 6ms/step - loss: 0.0134 - accuracy: 0.9882 - val_loss: 0.0080 - val_accuracy: 0.9884\n",
            "Epoch 32/50\n",
            "11/11 [==============================] - 0s 6ms/step - loss: 0.0130 - accuracy: 0.9882 - val_loss: 0.0079 - val_accuracy: 0.9884\n",
            "Epoch 33/50\n",
            "11/11 [==============================] - 0s 6ms/step - loss: 0.0127 - accuracy: 0.9882 - val_loss: 0.0080 - val_accuracy: 0.9884\n",
            "Epoch 34/50\n",
            "11/11 [==============================] - 0s 6ms/step - loss: 0.0123 - accuracy: 0.9882 - val_loss: 0.0080 - val_accuracy: 0.9884\n",
            "Epoch 35/50\n",
            "11/11 [==============================] - 0s 6ms/step - loss: 0.0119 - accuracy: 0.9882 - val_loss: 0.0079 - val_accuracy: 0.9884\n",
            "Epoch 36/50\n",
            "11/11 [==============================] - 0s 6ms/step - loss: 0.0116 - accuracy: 0.9882 - val_loss: 0.0079 - val_accuracy: 0.9884\n",
            "Epoch 37/50\n",
            "11/11 [==============================] - 0s 6ms/step - loss: 0.0113 - accuracy: 0.9882 - val_loss: 0.0077 - val_accuracy: 0.9884\n",
            "Epoch 38/50\n",
            "11/11 [==============================] - 0s 6ms/step - loss: 0.0110 - accuracy: 0.9882 - val_loss: 0.0081 - val_accuracy: 0.9884\n",
            "Epoch 39/50\n",
            "11/11 [==============================] - 0s 4ms/step - loss: 0.0108 - accuracy: 0.9882 - val_loss: 0.0080 - val_accuracy: 0.9884\n",
            "Epoch 40/50\n",
            "11/11 [==============================] - 0s 5ms/step - loss: 0.0105 - accuracy: 0.9882 - val_loss: 0.0081 - val_accuracy: 0.9884\n",
            "Epoch 41/50\n",
            "11/11 [==============================] - 0s 5ms/step - loss: 0.0103 - accuracy: 0.9882 - val_loss: 0.0080 - val_accuracy: 0.9884\n",
            "Epoch 42/50\n",
            "11/11 [==============================] - 0s 4ms/step - loss: 0.0101 - accuracy: 0.9882 - val_loss: 0.0081 - val_accuracy: 0.9884\n",
            "Epoch 43/50\n",
            "11/11 [==============================] - 0s 5ms/step - loss: 0.0099 - accuracy: 0.9912 - val_loss: 0.0081 - val_accuracy: 0.9884\n",
            "Epoch 44/50\n",
            "11/11 [==============================] - 0s 5ms/step - loss: 0.0096 - accuracy: 0.9912 - val_loss: 0.0083 - val_accuracy: 0.9884\n",
            "Epoch 45/50\n",
            "11/11 [==============================] - 0s 5ms/step - loss: 0.0095 - accuracy: 0.9912 - val_loss: 0.0086 - val_accuracy: 0.9884\n",
            "Epoch 46/50\n",
            "11/11 [==============================] - 0s 5ms/step - loss: 0.0093 - accuracy: 0.9912 - val_loss: 0.0085 - val_accuracy: 0.9884\n",
            "Epoch 47/50\n",
            "11/11 [==============================] - 0s 6ms/step - loss: 0.0091 - accuracy: 0.9912 - val_loss: 0.0087 - val_accuracy: 0.9884\n",
            "Epoch 48/50\n",
            "11/11 [==============================] - 0s 4ms/step - loss: 0.0089 - accuracy: 0.9912 - val_loss: 0.0087 - val_accuracy: 0.9884\n",
            "Epoch 49/50\n",
            "11/11 [==============================] - 0s 7ms/step - loss: 0.0088 - accuracy: 0.9912 - val_loss: 0.0085 - val_accuracy: 0.9884\n",
            "Epoch 50/50\n",
            "11/11 [==============================] - 0s 6ms/step - loss: 0.0086 - accuracy: 0.9912 - val_loss: 0.0088 - val_accuracy: 0.9884\n"
          ]
        }
      ]
    },
    {
      "cell_type": "markdown",
      "source": [
        "The aim is to minimize the loss function value, which is telling us that we are getting a good prediction from the model. "
      ],
      "metadata": {
        "id": "Vy2mlTSjZrBL"
      },
      "id": "Vy2mlTSjZrBL"
    },
    {
      "cell_type": "code",
      "source": [
        "# plot the accuracy measurement and loss function\n",
        "plt.figure(dpi=120)\n",
        "plt.plot(history.history['accuracy'], label='Accuracy')\n",
        "plt.plot(history.history['loss'], label='Loss')\n",
        "plt.legend()\n",
        "plt.show()"
      ],
      "metadata": {
        "id": "-mYdwz-XKEkE",
        "colab": {
          "base_uri": "https://localhost:8080/",
          "height": 433
        },
        "outputId": "e027c32f-29c5-422e-f7be-4f62ef609588"
      },
      "id": "-mYdwz-XKEkE",
      "execution_count": null,
      "outputs": [
        {
          "output_type": "display_data",
          "data": {
            "text/plain": [
              "<Figure size 720x480 with 1 Axes>"
            ],
            "image/png": "[encoded data removed]"
          },
          "metadata": {
            "needs_background": "light"
          }
        }
      ]
    },
    {
      "cell_type": "code",
      "source": [
        "# evalutate the loss function and accuracy measurement of the test variables\n",
        "model.evaluate(Xtest,ytest)"
      ],
      "metadata": {
        "id": "ELyo5vWrBBt-",
        "colab": {
          "base_uri": "https://localhost:8080/"
        },
        "outputId": "12824e96-52e5-4ba7-f2c4-0163f11a5805"
      },
      "id": "ELyo5vWrBBt-",
      "execution_count": null,
      "outputs": [
        {
          "output_type": "stream",
          "name": "stdout",
          "text": [
            "5/5 [==============================] - 0s 4ms/step - loss: 0.0264 - accuracy: 0.9650\n"
          ]
        },
        {
          "output_type": "execute_result",
          "data": {
            "text/plain": [
              "[0.026420099660754204, 0.9650349617004395]"
            ]
          },
          "metadata": {},
          "execution_count": 19
        }
      ]
    },
    {
      "cell_type": "markdown",
      "source": [
        "We notice how the _test_ values are 0.0264 and 0.9650, for the loss function and accuracy respectively. On the final epoch, our model's training outputs these values as 0.0086 and 0.9912."
      ],
      "metadata": {
        "id": "ZNgl5ZUIPwvs"
      },
      "id": "ZNgl5ZUIPwvs"
    },
    {
      "cell_type": "code",
      "source": [
        "# generate the output prediction (probabilities) of the Xtest\n",
        "ypred=model.predict(Xtest)\n",
        "ypred.ravel()\n",
        "## ravel puts all the values as a single list (ypred by itself is a list of lists of single elements)"
      ],
      "metadata": {
        "id": "-AbkDsT4Igfv",
        "colab": {
          "base_uri": "https://localhost:8080/"
        },
        "outputId": "df533e4c-38d3-4358-adb5-5bb42d23d5f7"
      },
      "id": "-AbkDsT4Igfv",
      "execution_count": null,
      "outputs": [
        {
          "output_type": "execute_result",
          "data": {
            "text/plain": [
              "array([9.3281269e-04, 1.9158125e-03, 6.3526630e-03, 2.2790432e-03,\n",
              "       9.9999124e-01, 1.1456490e-02, 1.2549758e-04, 9.9343526e-01,\n",
              "       9.9983913e-01, 4.8895776e-03, 3.9781630e-03, 9.9995357e-01,\n",
              "       4.4798851e-04, 8.6156166e-01, 7.8331828e-03, 9.9966252e-01,\n",
              "       1.9911051e-02, 1.0000000e+00, 9.9999636e-01, 1.0000000e+00,\n",
              "       3.2120347e-03, 8.6438656e-04, 1.9367427e-02, 1.2194604e-02,\n",
              "       2.4969280e-02, 5.7954490e-02, 5.8556795e-03, 6.6570938e-03,\n",
              "       9.7533458e-01, 9.9997765e-01, 3.5307360e-01, 1.6535312e-02,\n",
              "       8.5436374e-02, 9.0605521e-01, 9.9999672e-01, 1.1607909e-01,\n",
              "       1.0072410e-02, 2.3419324e-01, 9.9935353e-01, 4.1606039e-02,\n",
              "       5.6742460e-01, 3.7458837e-03, 9.9999893e-01, 6.1585903e-02,\n",
              "       9.9999678e-01, 4.0626526e-04, 9.7325879e-01, 4.4532418e-03,\n",
              "       3.7496507e-02, 1.7782074e-01, 2.1238625e-03, 7.4547231e-03,\n",
              "       4.0825605e-03, 1.6642511e-03, 2.0830035e-03, 1.0000000e+00,\n",
              "       3.3578575e-03, 4.4589937e-03, 2.8482080e-04, 9.3877316e-04,\n",
              "       9.2647463e-02, 1.0225475e-03, 9.9824584e-01, 2.1479040e-02,\n",
              "       2.7449131e-02, 3.1125546e-04, 3.6278075e-01, 9.9999535e-01,\n",
              "       3.7708294e-01, 9.9662745e-01, 5.2613449e-01, 4.2171776e-03,\n",
              "       5.2464604e-03, 1.0000000e+00, 2.3931265e-03, 2.2592184e-01,\n",
              "       5.9651434e-03, 9.8743808e-01, 2.3677233e-01, 9.9999875e-01,\n",
              "       9.6484041e-01, 9.9609177e-05, 1.0000000e+00, 6.8873167e-04,\n",
              "       1.8838942e-03, 6.4574480e-03, 7.6645613e-04, 9.1413856e-03,\n",
              "       2.6701987e-03, 7.9637396e-01, 1.6274750e-03, 9.9999857e-01,\n",
              "       2.0737350e-03, 6.0147047e-04, 1.3639581e-01, 1.0000000e+00,\n",
              "       9.9999338e-01, 9.5640719e-03, 9.9994421e-01, 9.9635816e-01,\n",
              "       1.5513819e-01, 1.4706552e-03, 3.6967069e-02, 2.8357118e-02,\n",
              "       9.9997079e-01, 1.0000000e+00, 8.0026448e-01, 9.9952912e-01,\n",
              "       9.9992752e-01, 3.5394102e-02, 9.9996722e-01, 4.3491423e-03,\n",
              "       2.1119714e-03, 3.1093955e-03, 6.9135427e-04, 3.7041306e-04,\n",
              "       1.2210011e-03, 6.9598705e-02, 5.8433801e-02, 1.0271728e-02,\n",
              "       9.7699332e-01, 1.0000000e+00, 6.1084330e-03, 3.2571942e-02,\n",
              "       8.0540776e-04, 1.0590455e-01, 1.0137230e-02, 6.0628057e-03,\n",
              "       2.7736872e-02, 5.2388310e-03, 7.5441301e-03, 4.9088299e-03,\n",
              "       9.9602664e-01, 9.4623385e-05, 5.3973138e-02, 4.2386234e-02,\n",
              "       1.4232099e-03, 1.0466576e-03, 2.6214719e-03, 9.9995834e-01,\n",
              "       1.1653334e-02, 9.9990058e-01, 9.9948776e-01], dtype=float32)"
            ]
          },
          "metadata": {},
          "execution_count": 20
        }
      ]
    },
    {
      "cell_type": "code",
      "source": [
        "# plot histogram of ypred\n",
        "plt.figure(dpi=120)\n",
        "plt.hist(ypred)\n",
        "plt.show()"
      ],
      "metadata": {
        "id": "ZwUbBRG_OC0r",
        "colab": {
          "base_uri": "https://localhost:8080/",
          "height": 433
        },
        "outputId": "0cd6f912-4973-4b53-f462-4a17e30c10eb"
      },
      "id": "ZwUbBRG_OC0r",
      "execution_count": null,
      "outputs": [
        {
          "output_type": "display_data",
          "data": {
            "text/plain": [
              "<Figure size 720x480 with 1 Axes>"
            ],
            "image/png": "[encoded data removed]"
          },
          "metadata": {
            "needs_background": "light"
          }
        }
      ]
    },
    {
      "cell_type": "markdown",
      "source": [
        "This histogram is telling us how the ypred values are distributed between 0.0 and 1.0, where most (over 80 entries) are 0.0 (remember: benign), and we have a second peak at 1.0 (malignant) with over 40 entries."
      ],
      "metadata": {
        "id": "GKVNNa8bQpUg"
      },
      "id": "GKVNNa8bQpUg"
    },
    {
      "cell_type": "code",
      "source": [
        "# more utilities to study the model\n",
        "from sklearn.metrics import confusion_matrix,ConfusionMatrixDisplay,roc_auc_score,roc_curve,RocCurveDisplay\n",
        "\n",
        "## libraries to make the confusion matrix and plot it, and make the ROC curve and plot it"
      ],
      "metadata": {
        "id": "wHNDHYvOOMg-"
      },
      "id": "wHNDHYvOOMg-",
      "execution_count": null,
      "outputs": []
    },
    {
      "cell_type": "markdown",
      "source": [
        "# Confusion Matrix\n",
        "\n",
        "Confusion matrices are used to visualize and summarize the performance of a classification algorithm. Notice we have trying to classify wether the data is benign or malignant."
      ],
      "metadata": {
        "id": "HuQV29BQePWv"
      },
      "id": "HuQV29BQePWv"
    },
    {
      "cell_type": "code",
      "source": [
        "# create the confusion matrix of ytest to evaluate the accuracy of classification\n",
        "cm=confusion_matrix(ytest,np.round(ypred.ravel()))\n",
        "\n",
        "## np.round rounds the values of ypred\n"
      ],
      "metadata": {
        "id": "FqrjZXCxOjXx"
      },
      "id": "FqrjZXCxOjXx",
      "execution_count": null,
      "outputs": []
    },
    {
      "cell_type": "code",
      "source": [
        "# plot the confusion matrix\n",
        "fig=plt.figure(dpi=110)\n",
        "ax=plt.subplot(111)\n",
        "ConfusionMatrixDisplay(cm).plot(ax=ax,cmap='Blues')\n",
        "plt.show()"
      ],
      "metadata": {
        "id": "zgP4E9XDO0Ms",
        "colab": {
          "base_uri": "https://localhost:8080/",
          "height": 418
        },
        "outputId": "b9de318f-6618-4ab6-e46c-74dc38e79036"
      },
      "id": "zgP4E9XDO0Ms",
      "execution_count": null,
      "outputs": [
        {
          "output_type": "display_data",
          "data": {
            "text/plain": [
              "<Figure size 660x440 with 2 Axes>"
            ],
            "image/png": "[encoded data removed]"
          },
          "metadata": {
            "needs_background": "light"
          }
        }
      ]
    },
    {
      "cell_type": "markdown",
      "source": [
        "Here we see 94 benign entries that were classified correctly, while only 2 were incorrectly identified as malignant. On the other hand, 44 entries were classified correctly as malignant, while 3 were not."
      ],
      "metadata": {
        "id": "PYgGdeDoRbQi"
      },
      "id": "PYgGdeDoRbQi"
    },
    {
      "cell_type": "markdown",
      "source": [
        "# ROC curve\n",
        "\n",
        "A Receive Operating Characteristic (ROC) curve illustrates the diagnostic ability of a binary classifier system as its discrimination threshold is varied. It plots the true positive rate vs the false positive rate.\n",
        "\n",
        "The false posive rate is a calculation of when a class being predicted as positive, when it should have been false.\n",
        "$$\\rm False Positive Rate = \\frac{False Positives}{(False Positives + True Negatives)}$$\n",
        "\n",
        "where **TrueNegative** are the correctly classified *negative* data. \n",
        "\n",
        "True positive rate is the calculation of a positive class when that's the correct outcome. \n",
        "$$\\rm True Positive Rate = \\frac{True Positives}{(True Positives + False Negatives)}$$\n",
        "\n",
        "where **FalseNegatives** are the incorrectly classified *positive* data."
      ],
      "metadata": {
        "id": "Uq0TRxFLeNmJ"
      },
      "id": "Uq0TRxFLeNmJ"
    },
    {
      "cell_type": "code",
      "source": [
        "# Area Under the Curve\n",
        "auc = roc_auc_score(ytest,ypred)\n",
        "\n",
        "# False Positive Rate, True Positive Rate, Threshold\n",
        "fpr,tpr,thresh = roc_curve(ytest,ypred)"
      ],
      "metadata": {
        "id": "st1ry-z4Q8s6"
      },
      "id": "st1ry-z4Q8s6",
      "execution_count": null,
      "outputs": []
    },
    {
      "cell_type": "code",
      "source": [
        "RocCurveDisplay(fpr=fpr,tpr=tpr,roc_auc=auc).plot();"
      ],
      "metadata": {
        "id": "R2Y8mnHLSFLa",
        "colab": {
          "base_uri": "https://localhost:8080/",
          "height": 279
        },
        "outputId": "0406e6b9-7a2a-4a98-80c0-fd0237837913"
      },
      "id": "R2Y8mnHLSFLa",
      "execution_count": null,
      "outputs": [
        {
          "output_type": "display_data",
          "data": {
            "text/plain": [
              "<Figure size 432x288 with 1 Axes>"
            ],
            "image/png": "[encoded data removed]"
          },
          "metadata": {
            "needs_background": "light"
          }
        }
      ]
    },
    {
      "cell_type": "code",
      "source": [
        "auc"
      ],
      "metadata": {
        "id": "NuugYM-IShGk",
        "colab": {
          "base_uri": "https://localhost:8080/"
        },
        "outputId": "ed7e1c14-476b-4082-cafe-d553d73ef809"
      },
      "id": "NuugYM-IShGk",
      "execution_count": null,
      "outputs": [
        {
          "output_type": "execute_result",
          "data": {
            "text/plain": [
              "0.9929078014184398"
            ]
          },
          "metadata": {},
          "execution_count": 26
        }
      ]
    },
    {
      "cell_type": "markdown",
      "source": [
        "The AUC is telling us that if we diagnose a patient, we would correctly diagnose it 99% of the time.  \n",
        "\n",
        "This ROC curve tells us that we get 100% true positive classification if we allow a 20% false positive rate.  "
      ],
      "metadata": {
        "id": "c1g07HRn9uHp"
      },
      "id": "c1g07HRn9uHp"
    },
    {
      "cell_type": "markdown",
      "source": [
        "Just re-plotting the ROC curve in a different style..."
      ],
      "metadata": {
        "id": "p6srXWPQ7blU"
      },
      "id": "p6srXWPQ7blU"
    },
    {
      "cell_type": "code",
      "source": [
        "with plt.xkcd():\n",
        "    plt.figure(dpi=130)\n",
        "    plt.plot(fpr,tpr)\n",
        "    plt.legend(['AUC \\n$1 - ${:.3E}'.format(1-auc)])\n",
        "    plt.ylabel('True Postive Rate')\n",
        "    plt.xlabel('False Postive Rate')\n",
        "    plt.show()"
      ],
      "metadata": {
        "id": "P0AC_dhtTwHn",
        "colab": {
          "base_uri": "https://localhost:8080/",
          "height": 501
        },
        "outputId": "9a79551a-1c06-4b3f-ba9f-8dace1d13b3e"
      },
      "id": "P0AC_dhtTwHn",
      "execution_count": null,
      "outputs": [
        {
          "output_type": "display_data",
          "data": {
            "text/plain": [
              "<Figure size 780x520 with 1 Axes>"
            ],
            "image/png": "[encoded data removed]"
          },
          "metadata": {}
        }
      ]
    }
  ],
  "metadata": {
    "kernelspec": {
      "display_name": "Python 3 (ipykernel)",
      "language": "python",
      "name": "python3"
    },
    "language_info": {
      "codemirror_mode": {
        "name": "ipython",
        "version": 3
      },
      "file_extension": ".py",
      "mimetype": "text/x-python",
      "name": "python",
      "nbconvert_exporter": "python",
      "pygments_lexer": "ipython3",
      "version": "3.8.5"
    },
    "colab": {
      "name": "Copy of 11-ML Breast Cancer.ipynb",
      "provenance": [],
      "collapsed_sections": [],
      "include_colab_link": true
    }
  },
  "nbformat": 4,
  "nbformat_minor": 5
}