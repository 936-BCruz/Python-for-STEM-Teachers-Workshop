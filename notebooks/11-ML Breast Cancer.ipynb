{
  "cells": [
    {
      "cell_type": "markdown",
      "metadata": {
        "id": "view-in-github",
        "colab_type": "text"
      },
      "source": [
        "<a href=\"https://colab.research.google.com/github/GuillermoFidalgo/Python-for-STEM-Teachers-Workshop/blob/master/notebooks/11-ML%20Breast%20Cancer.ipynb\" target=\"_parent\"><img src=\"https://colab.research.google.com/assets/colab-badge.svg\" alt=\"Open In Colab\"/></a>"
      ]
    },
    {
      "cell_type": "code",
      "execution_count": null,
      "id": "2c3d3ff4-c3f0-4120-9794-5fd8e4d4590a",
      "metadata": {
        "id": "2c3d3ff4-c3f0-4120-9794-5fd8e4d4590a"
      },
      "outputs": [],
      "source": [
        "import numpy as np\n",
        "import matplotlib.pyplot as plt\n",
        "import pandas as pd"
      ]
    },
    {
      "cell_type": "code",
      "execution_count": null,
      "id": "9c7a2efb-c2b2-4403-b1e6-269f396dd558",
      "metadata": {
        "id": "9c7a2efb-c2b2-4403-b1e6-269f396dd558"
      },
      "outputs": [],
      "source": [
        "path = 'https://raw.githubusercontent.com/GuillermoFidalgo/Python-for-STEM-Teachers-Workshop/master/data/wdbc.data'\n",
        "\n",
        "df = pd.read_csv(path,header=None)\n",
        "\n",
        "att=[\"radius\",\"texture\",\"perimeter\",\n",
        "              \"area\",\"smoothness\",\"compactness\",\"concavity\",\n",
        "              \"concave points\",\"symmetry\",\"fractal dimension\"]\n",
        "att2 = [i+\"2\" for i in att]\n",
        "att3 = [i+'3' for i in att]\n",
        "\n",
        "df.columns = np.concatenate([['ID number','Diagnosis'],att,att2,att3])"
      ]
    },
    {
      "cell_type": "code",
      "execution_count": null,
      "id": "bd8a6a02-ae86-4e70-8fe4-4860f253db06",
      "metadata": {
        "scrolled": true,
        "tags": [],
        "id": "bd8a6a02-ae86-4e70-8fe4-4860f253db06"
      },
      "outputs": [],
      "source": [
        "df.info()"
      ]
    },
    {
      "cell_type": "code",
      "execution_count": null,
      "id": "a60f0f82-f2ec-4e55-845f-68dfb5f649d7",
      "metadata": {
        "id": "a60f0f82-f2ec-4e55-845f-68dfb5f649d7"
      },
      "outputs": [],
      "source": [
        "df"
      ]
    },
    {
      "cell_type": "code",
      "execution_count": null,
      "id": "18e27078-2a67-49a6-a972-2aef94b0d56b",
      "metadata": {
        "id": "18e27078-2a67-49a6-a972-2aef94b0d56b"
      },
      "outputs": [],
      "source": [
        "df.drop(columns= \"ID number\").iloc[:,:11].corr()"
      ]
    },
    {
      "cell_type": "code",
      "execution_count": null,
      "id": "4ada9c60-454d-47c1-8808-0c8e02f92699",
      "metadata": {
        "id": "4ada9c60-454d-47c1-8808-0c8e02f92699"
      },
      "outputs": [],
      "source": [
        "plt.figure(dpi=120)\n",
        "plt.matshow(df.drop(columns= \"ID number\").iloc[:,:11].corr(),fignum=1,cmap='coolwarm')\n",
        "plt.colorbar()\n",
        "plt.show()"
      ]
    },
    {
      "cell_type": "code",
      "execution_count": null,
      "id": "2e4368f2-d623-40c6-ac5b-f5fca1e0affc",
      "metadata": {
        "scrolled": true,
        "tags": [],
        "id": "2e4368f2-d623-40c6-ac5b-f5fca1e0affc"
      },
      "outputs": [],
      "source": [
        "df.drop(columns = \"ID number\").hist(figsize=(20,20),bins=20,histtype='step')\n",
        "plt.show()"
      ]
    },
    {
      "cell_type": "code",
      "execution_count": null,
      "id": "8090b1c5-86e2-4c55-aac3-3347dcc83b4b",
      "metadata": {
        "id": "8090b1c5-86e2-4c55-aac3-3347dcc83b4b"
      },
      "outputs": [],
      "source": [
        "from sklearn.preprocessing import StandardScaler,normalize\n",
        "from sklearn.model_selection import cross_val_score,train_test_split\n"
      ]
    },
    {
      "cell_type": "code",
      "execution_count": null,
      "id": "c532c7b0-99a7-42ae-961e-1a4a39381646",
      "metadata": {
        "id": "c532c7b0-99a7-42ae-961e-1a4a39381646"
      },
      "outputs": [],
      "source": [
        "X =df.drop(columns = ['ID number'] ).iloc[:,1:]\n",
        "scaler =StandardScaler()\n",
        "X = np.asarray(X).astype('float32')\n",
        "X = scaler.fit_transform(X)\n",
        "\n",
        "\n",
        "y = df.Diagnosis\n"
      ]
    },
    {
      "cell_type": "code",
      "source": [
        "y [y == \"M\"] = 1.0\n",
        "y[y =='B'] = 0.0\n",
        "y = np.asarray(y).astype('float32')"
      ],
      "metadata": {
        "id": "lNX01Su9DfXu"
      },
      "id": "lNX01Su9DfXu",
      "execution_count": null,
      "outputs": []
    },
    {
      "cell_type": "code",
      "execution_count": null,
      "id": "7a62656f-73a0-4484-916f-d93d93ab59be",
      "metadata": {
        "id": "7a62656f-73a0-4484-916f-d93d93ab59be"
      },
      "outputs": [],
      "source": [
        "Xtrain,Xtest,ytrain,ytest=train_test_split(X,y)"
      ]
    },
    {
      "cell_type": "code",
      "execution_count": null,
      "id": "7492b795-f6d8-4e26-9ac1-6a26401fc1f7",
      "metadata": {
        "id": "7492b795-f6d8-4e26-9ac1-6a26401fc1f7"
      },
      "outputs": [],
      "source": [
        "import keras\n",
        "from keras.activations import relu\n",
        "from keras.models import Sequential,save_model,Model\n",
        "from keras.layers import Dense,Flatten,Input\n",
        "from keras.utils.vis_utils import plot_model"
      ]
    },
    {
      "cell_type": "code",
      "execution_count": null,
      "id": "2105fe0b-dceb-42a8-b1e3-ea5d6a272f79",
      "metadata": {
        "id": "2105fe0b-dceb-42a8-b1e3-ea5d6a272f79"
      },
      "outputs": [],
      "source": [
        "model = Sequential([\n",
        "    Input(shape=Xtrain.shape[1]),\n",
        "    Dense(32,activation= 'relu'),\n",
        "    Dense(10,activation='relu'),\n",
        "    Dense(1,activation='sigmoid')]\n",
        "    )\n",
        "model.compile(optimizer='adam', loss='mse',metrics=\"accuracy\")"
      ]
    },
    {
      "cell_type": "code",
      "execution_count": null,
      "id": "7c80ca4f-912f-459d-8c01-4d22143c5f45",
      "metadata": {
        "id": "7c80ca4f-912f-459d-8c01-4d22143c5f45"
      },
      "outputs": [],
      "source": [
        "model.summary()"
      ]
    },
    {
      "cell_type": "code",
      "source": [
        "plot_model(model,show_layer_activations=True,show_shapes=True,)"
      ],
      "metadata": {
        "id": "8CyuoJ5gBB9z"
      },
      "id": "8CyuoJ5gBB9z",
      "execution_count": null,
      "outputs": []
    },
    {
      "cell_type": "code",
      "source": [
        "history = model.fit(Xtrain,ytrain,validation_split=0.2,\n",
        "    epochs=50\n",
        ")"
      ],
      "metadata": {
        "id": "pwLVjcxiBB4I"
      },
      "id": "pwLVjcxiBB4I",
      "execution_count": null,
      "outputs": []
    },
    {
      "cell_type": "code",
      "source": [
        "plt.plot(history.history['accuracy'])\n",
        "plt.plot(history.history['loss'])"
      ],
      "metadata": {
        "id": "-mYdwz-XKEkE"
      },
      "id": "-mYdwz-XKEkE",
      "execution_count": null,
      "outputs": []
    },
    {
      "cell_type": "code",
      "source": [
        "model.evaluate(Xtest,ytest)"
      ],
      "metadata": {
        "id": "ELyo5vWrBBt-"
      },
      "id": "ELyo5vWrBBt-",
      "execution_count": null,
      "outputs": []
    },
    {
      "cell_type": "code",
      "source": [
        "ypred=model.predict(Xtest)"
      ],
      "metadata": {
        "id": "-AbkDsT4Igfv"
      },
      "id": "-AbkDsT4Igfv",
      "execution_count": null,
      "outputs": []
    },
    {
      "cell_type": "code",
      "source": [
        "plt.hist(ypred)"
      ],
      "metadata": {
        "id": "ZwUbBRG_OC0r"
      },
      "id": "ZwUbBRG_OC0r",
      "execution_count": null,
      "outputs": []
    },
    {
      "cell_type": "code",
      "source": [
        "from sklearn.metrics import confusion_matrix,ConfusionMatrixDisplay,roc_auc_score,roc_curve,RocCurveDisplay"
      ],
      "metadata": {
        "id": "wHNDHYvOOMg-"
      },
      "id": "wHNDHYvOOMg-",
      "execution_count": null,
      "outputs": []
    },
    {
      "cell_type": "code",
      "source": [
        "cm=confusion_matrix(ytest,np.round(ypred.ravel()))"
      ],
      "metadata": {
        "id": "FqrjZXCxOjXx"
      },
      "id": "FqrjZXCxOjXx",
      "execution_count": null,
      "outputs": []
    },
    {
      "cell_type": "code",
      "source": [
        "fig=plt.figure(dpi=110)\n",
        "ax=plt.subplot(111)\n",
        "ConfusionMatrixDisplay(cm).plot(ax=ax,cmap='Blues')\n",
        "plt.show()"
      ],
      "metadata": {
        "id": "zgP4E9XDO0Ms"
      },
      "id": "zgP4E9XDO0Ms",
      "execution_count": null,
      "outputs": []
    },
    {
      "cell_type": "code",
      "source": [
        "auc=roc_auc_score(ytest,ypred)\n",
        "\n",
        "fpr,tpr,thresh=roc_curve(ytest,ypred)"
      ],
      "metadata": {
        "id": "st1ry-z4Q8s6"
      },
      "id": "st1ry-z4Q8s6",
      "execution_count": null,
      "outputs": []
    },
    {
      "cell_type": "code",
      "source": [
        "auc"
      ],
      "metadata": {
        "id": "NuugYM-IShGk"
      },
      "id": "NuugYM-IShGk",
      "execution_count": null,
      "outputs": []
    },
    {
      "cell_type": "code",
      "source": [
        "RocCurveDisplay(fpr=fpr,tpr=tpr,roc_auc=auc).plot();"
      ],
      "metadata": {
        "id": "R2Y8mnHLSFLa"
      },
      "id": "R2Y8mnHLSFLa",
      "execution_count": null,
      "outputs": []
    },
    {
      "cell_type": "code",
      "source": [
        "with plt.xkcd():\n",
        "    plt.figure(dpi=130)\n",
        "    plt.plot(fpr,tpr)\n",
        "    plt.legend(['AUC \\n$1 - ${:.3E}'.format(1-auc)])\n",
        "    plt.ylabel('True Postive Rate')\n",
        "    plt.xlabel('False Postive Rate')\n",
        "    plt.show()"
      ],
      "metadata": {
        "id": "P0AC_dhtTwHn"
      },
      "id": "P0AC_dhtTwHn",
      "execution_count": null,
      "outputs": []
    }
  ],
  "metadata": {
    "kernelspec": {
      "display_name": "Python 3 (ipykernel)",
      "language": "python",
      "name": "python3"
    },
    "language_info": {
      "codemirror_mode": {
        "name": "ipython",
        "version": 3
      },
      "file_extension": ".py",
      "mimetype": "text/x-python",
      "name": "python",
      "nbconvert_exporter": "python",
      "pygments_lexer": "ipython3",
      "version": "3.8.5"
    },
    "colab": {
      "name": "11-ML Breast Cancer.ipynb",
      "provenance": [],
      "include_colab_link": true
    }
  },
  "nbformat": 4,
  "nbformat_minor": 5
}