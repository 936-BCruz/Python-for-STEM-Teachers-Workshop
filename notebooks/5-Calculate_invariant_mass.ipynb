{
  "nbformat": 4,
  "nbformat_minor": 0,
  "metadata": {
    "colab": {
      "name": "Calculate-invariant-mass.ipynb",
      "provenance": [],
      "collapsed_sections": [],
      "include_colab_link": true
    },
    "kernelspec": {
      "display_name": "Python 3",
      "language": "python",
      "name": "python3"
    },
    "language_info": {
      "codemirror_mode": {
        "name": "ipython",
        "version": 3
      },
      "file_extension": ".py",
      "mimetype": "text/x-python",
      "name": "python",
      "nbconvert_exporter": "python",
      "pygments_lexer": "ipython3",
      "version": "3.8.2"
    }
  },
  "cells": [
    {
      "cell_type": "markdown",
      "metadata": {
        "id": "view-in-github",
        "colab_type": "text"
      },
      "source": [
        "<a href=\"https://colab.research.google.com/github/GuillermoFidalgo/Python-for-STEM-Teachers-Workshop/blob/master/notebooks/5-Calculate_invariant_mass.ipynb\" target=\"_parent\"><img src=\"https://colab.research.google.com/assets/colab-badge.svg\" alt=\"Open In Colab\"/></a>"
      ]
    },
    {
      "cell_type": "markdown",
      "metadata": {
        "colab_type": "text",
        "id": "8bN1-2XQ2oU5"
      },
      "source": [
        "# Calculating the invariant mass"
      ]
    },
    {
      "cell_type": "markdown",
      "metadata": {
        "colab_type": "text",
        "id": "-Pf4C3lu2oU-"
      },
      "source": [
        "In this example the calculation of the __invariant mass__ with the CMS open data is learned. The invariant mass is an important concept for particle physicists to find out new particles.\n",
        "\n",
        "The following CSV files include already calculated values for invariant masses:\n",
        "    - dielectron.csv\n",
        "    - DoubleMuRun2011A.csv\n",
        "    - Jpsimumu_Run2011A.csv\n",
        "    - Ymumu_Run2011A.csv\n",
        "    \n",
        "For example with the files _Zmumu_\\__Run2011A.csv_ and _Zee_\\__Run2011A.csv_ it is easy to calculate the values of the invariant masses. Let's start the calculation by importing the needed Python modules and getting the data. In this example we will use the file _Zmumu_\\__Run2011A.csv_ which includes collision events selected from the primary dataset [1] with the specific selection criteria [2].\n",
        "\n",
        "<br>\n",
        "<br>\n",
        "[1]  CMS collaboration (2016). DoubleMu primary dataset in AOD format from RunA of 2011 (/DoubleMu/Run2011A-12Oct2013-v1/AOD). CERN Open Data Portal. DOI: [10.7483/OPENDATA.CMS.RZ34.QR6N](http://doi.org/10.7483/OPENDATA.CMS.RZ34.QR6N).\n",
        "<br>\n",
        "[2] Thomas McCauley (2016). Zmumu. Jupyter Notebook file. https://github.com/tpmccauley/cmsopendata-jupyter/blob/hst-0.1/Zmumu.ipynb."
      ]
    },
    {
      "cell_type": "markdown",
      "metadata": {
        "colab_type": "text",
        "id": "zzw8Wg9z2oVC"
      },
      "source": [
        "### Getting the data"
      ]
    },
    {
      "cell_type": "code",
      "metadata": {
        "colab_type": "code",
        "id": "WoFI53DC2oVG",
        "colab": {}
      },
      "source": [
        "# Import the needed modules. Pandas is for the data-analysis and numpy for scientific calculation.\n",
        "# Name these to \"pd\" and \"np\".\n",
        "import pandas as pd\n",
        "import numpy as np\n",
        "import matplotlib.pyplot as plt\n",
        "\n",
        "# Create a new DataFrame structure from the file \"Zmumu_Run2011A.csv\". Name it as \"dataset\".\n",
        "dataset = pd.read_csv('https://raw.githubusercontent.com/GuillermoFidalgo/Python-for-STEM-Teachers-Workshop/master/data/Zmumu_Run2011A.csv')"
      ],
      "execution_count": null,
      "outputs": []
    },
    {
      "cell_type": "markdown",
      "metadata": {
        "colab_type": "text",
        "id": "4uAP1IHW2oVS"
      },
      "source": [
        "We can check the content that we saved to the variable _dataset_ by printing the 5 first rows with the following code:"
      ]
    },
    {
      "cell_type": "code",
      "metadata": {
        "colab_type": "code",
        "id": "d4h3rRXM2oVV",
        "colab": {}
      },
      "source": [
        "dataset.head()"
      ],
      "execution_count": null,
      "outputs": []
    },
    {
      "cell_type": "markdown",
      "metadata": {
        "colab_type": "text",
        "id": "wBz1VCY82oVh"
      },
      "source": [
        "### Performing the calculation"
      ]
    },
    {
      "cell_type": "markdown",
      "metadata": {
        "colab_type": "text",
        "id": "T7d8vKqH2oVk"
      },
      "source": [
        "Let's use the following expression for the invariant mass $M$ in the calculation:\n",
        "\n",
        "$$M = \\sqrt{2p_{T1}p_{T2}(\\cosh(\\eta_1-\\eta_2)-\\cos(\\phi_1-\\phi_2))}.$$\n",
        "\n",
        "In the expression $p_T$ is the component of the momentum which is perpendicular to the beam axis, $\\eta$ is the pseudorapidity (angle) and $\\phi$ the azimuthal angle.\n",
        "\n",
        "In the calculation below we will use the _numpy_ module which was named as _np_ in the first code cell. With _numpy_ it is possible to use mathematical commands like _sqrt_ and _cosh_ by calling first the name of the module (_np_) and then the command separated by a dot. So for example the square root could be called by writing _np.sqrt( )_.\n",
        "\n",
        "The _pt1_, _pt2_, _eta1_, _eta2_, _phi1_ and _phi2_ refer to the columns of the data. In the code it has to be told from where the values will be taken. So for example if you want to get the column _pt1_, you have to write _dataset.pt1_ in the code.\n",
        "\n",
        "Now we are ready to calculate the values of the invariant masses for the different events. _Numpy_ will automatically calculate the values for all of the events when we give the calculation in the following form. So the equation given is calculated for all of the rows."
      ]
    },
    {
      "cell_type": "code",
      "metadata": {
        "colab_type": "code",
        "id": "glWFORLY2oVp",
        "colab": {}
      },
      "source": [
        "invariant_mass = np.sqrt(2*dataset.pt1*dataset.pt2*(np.cosh(dataset.eta1-dataset.eta2) - np.cos(dataset.phi1-dataset.phi2)))"
      ],
      "execution_count": null,
      "outputs": []
    },
    {
      "cell_type": "markdown",
      "metadata": {
        "colab_type": "text",
        "id": "ip2G7ce02oVx"
      },
      "source": [
        "After the calculation we can check which values were saved in the variable _invariant_\\__mass_ by printing the content of the variable:"
      ]
    },
    {
      "cell_type": "code",
      "metadata": {
        "colab_type": "code",
        "id": "UszNQcos2oV0",
        "colab": {}
      },
      "source": [
        "print(invariant_mass)"
      ],
      "execution_count": null,
      "outputs": []
    },
    {
      "cell_type": "markdown",
      "metadata": {
        "colab_type": "text",
        "id": "aSwCMnaZ2oV9"
      },
      "source": [
        "If you wish to add calculated values as a new column to your data set see an example [here](https://github.com/cms-opendata-education/cms-jupyter-materials-english/blob/master/Introduction-to-jupyter/Add-column-to-dataframe.ipynb)."
      ]
    },
    {
      "cell_type": "code",
      "metadata": {
        "colab_type": "code",
        "id": "Ujrpcvff4vUn",
        "colab": {}
      },
      "source": [
        "# Plot the histogram with the function hist() of the matplotlib.pyplot module:\n",
        "# (http://matplotlib.org/api/pyplot_api.html?highlight=matplotlib.pyplot.hist#matplotlib.pyplot.hist).\n",
        "# 'Bins' determines the number of the bins used.\n",
        "plt.hist(invariant_mass, bins=500)\n",
        "\n",
        "# Name the axises and give the title.\n",
        "plt.xlabel('Invariant mass [GeV]')\n",
        "plt.ylabel('Number of events')\n",
        "plt.title('The histogram of the invariant masses of two muons \\n') # \\n creates a new line for making the title look better\n",
        "\n",
        "# Show the plot.\n",
        "plt.show()"
      ],
      "execution_count": null,
      "outputs": []
    }
  ]
}