{
  "nbformat": 4,
  "nbformat_minor": 0,
  "metadata": {
    "kernelspec": {
      "display_name": "Python 3",
      "language": "python",
      "name": "python3"
    },
    "language_info": {
      "codemirror_mode": {
        "name": "ipython",
        "version": 3
      },
      "file_extension": ".py",
      "mimetype": "text/x-python",
      "name": "python",
      "nbconvert_exporter": "python",
      "pygments_lexer": "ipython3",
      "version": "3.8.5"
    },
    "colab": {
      "name": "Pandas Excercise with UPRM data .ipynb",
      "provenance": [],
      "collapsed_sections": [],
      "toc_visible": true,
      "include_colab_link": true
    }
  },
  "cells": [
    {
      "cell_type": "markdown",
      "metadata": {
        "id": "view-in-github",
        "colab_type": "text"
      },
      "source": [
        "<a href=\"https://colab.research.google.com/github/GuillermoFidalgo/Python-for-STEM-Teachers-Workshop/blob/master/notebooks/8-Pandas_Excercise_with_UPRM_data_.ipynb\" target=\"_parent\"><img src=\"https://colab.research.google.com/assets/colab-badge.svg\" alt=\"Open In Colab\"/></a>"
      ]
    },
    {
      "cell_type": "markdown",
      "metadata": {
        "id": "pUdWu7ILGhNn"
      },
      "source": [
        "# Introduction\r\n",
        "\r\n",
        "\r\n"
      ]
    },
    {
      "cell_type": "markdown",
      "metadata": {
        "id": "xvaH3XV4PXBj"
      },
      "source": [
        "# Importing Libraries \r\n",
        "\r\n"
      ]
    },
    {
      "cell_type": "markdown",
      "metadata": {
        "id": "VvbAd7QxMVEk"
      },
      "source": [
        "This only needs to be run once!!\r\n",
        "\r\n",
        "Pandas is a Python library used for data manipulation and analysis of numerical tables and time series. Since we will be working with tabulated data we can take advantage of Pandas' extensive modularity and variety of methods to work with tables.\r\n",
        "\r\n"
      ]
    },
    {
      "cell_type": "code",
      "metadata": {
        "id": "HGbzUslePXBw"
      },
      "source": [
        "import pandas as pd  # This imports the Pandas Library and gives it a reference name to access pandas and it's methods"
      ],
      "execution_count": 1,
      "outputs": []
    },
    {
      "cell_type": "markdown",
      "metadata": {
        "id": "16ijTDSZPXBx"
      },
      "source": [
        "## Loading in Data\r\n",
        "\r\n",
        "There are 3 main ways to upload and access data in Google Colab:\r\n",
        "\r\n",
        "\r\n",
        "1.   From Google Drive (mounting the drive)\r\n",
        "2.   Directly from your computer\r\n",
        "3.   Store that data somewhere in the internet and specify it's url (**our method**)\r\n",
        "\r\n"
      ]
    },
    {
      "cell_type": "markdown",
      "metadata": {
        "id": "4sXhCkR1xAXO"
      },
      "source": [
        "We are loading a csv file with information about Physics courses that are offered for this semester at UPRM"
      ]
    },
    {
      "cell_type": "markdown",
      "metadata": {
        "id": "hPnJn2yMxit2"
      },
      "source": [
        "### Method 1: Google Drive"
      ]
    },
    {
      "cell_type": "code",
      "metadata": {
        "id": "zk8BijNZSTA2"
      },
      "source": [
        "# Data in a Google Drive\r\n",
        "# from google.colab import drive\r\n",
        "# drive.mount('/content/drive')\r\n",
        "# data_in_drive=\"/content/drive/MyDrive/UPRM/STEM Workshop/Feb 2021/Data/emr_horario1_table_data.csv\"\r\n",
        "\r\n",
        "\r\n",
        "# df=pd.read_csv(data_in_drive,\r\n",
        "#                encoding=\"iso8859\",\r\n",
        "#                na_values=\"-\") \r\n",
        "# df"
      ],
      "execution_count": null,
      "outputs": []
    },
    {
      "cell_type": "markdown",
      "metadata": {
        "id": "b2iZSDjixr8p"
      },
      "source": [
        "### Method 2: Upload from computer"
      ]
    },
    {
      "cell_type": "code",
      "metadata": {
        "id": "CLWiYavXSahS"
      },
      "source": [
        "# Or just upload the data from your computer to the Session\r\n",
        "data = \"emr_horario1_table_data.csv\"\r\n",
        "\r\n",
        "df=pd.read_csv(data,\r\n",
        "               na_values=\"-\") \r\n",
        "df"
      ],
      "execution_count": null,
      "outputs": []
    },
    {
      "cell_type": "markdown",
      "metadata": {
        "id": "HdkCxkPryP54"
      },
      "source": [
        "### Method 3: Load from Internet"
      ]
    },
    {
      "cell_type": "markdown",
      "metadata": {
        "id": "IGt0BRhiPN9c"
      },
      "source": [
        "define where the data is located as a string and store it in a variable. \r\n",
        "for example: \r\n",
        "`data='data_location' (using single or double quotes)`\r\n",
        "\r\n",
        "\r\n",
        "**Important** \r\n",
        "\r\n",
        "Always look at your data beforehand. Be familiar with the structure and what it contains.\r\n",
        "\r\n",
        "Also, in case you want to do this with your students, the easiest way is to have the data stored somewhere on the internet and have a link that your students can access. In our case this would be to store the file in a Github Repository and we will access it from there as follows"
      ]
    },
    {
      "cell_type": "code",
      "metadata": {
        "id": "9dxCbyooPXBy"
      },
      "source": [
        "# Our method (From Internet)\n",
        "data_url=\"https://raw.githubusercontent.com/GuillermoFidalgo/Python-for-STEM-Teachers-Workshop/master/data/emr_horario1_table_data.csv\"\n",
        "\n",
        "\n",
        "#here we load the csv file and specify which row is a header and what is considered as N/A value\n",
        "df=pd.read_csv(data_url,\n",
        "               na_values=\"-\",\n",
        "               encoding=\"utf8\")\n",
        "# normally we don't specify this. To figure out if you need to specify this or not, look at the data.\n",
        "# usual names of encoders are iso8859, utf8 and ascii\n",
        "\n",
        "# For more information about each argument you could hover your cursor over the function until a window appears\n",
        "# you could also put your cursor INSIDE the function and press Ctrl+Shift+Space\n"
      ],
      "execution_count": 2,
      "outputs": []
    },
    {
      "cell_type": "markdown",
      "metadata": {
        "id": "VhPRJuMJPXBy"
      },
      "source": [
        "## Let's look at the first 5 entries of the data"
      ]
    },
    {
      "cell_type": "code",
      "metadata": {
        "id": "ABpg-itbPXBy",
        "colab": {
          "base_uri": "https://localhost:8080/",
          "height": 206
        },
        "outputId": "743450f7-5182-4dc5-95ed-d9cb9e5a4fa3"
      },
      "source": [
        "df.head()"
      ],
      "execution_count": 3,
      "outputs": [
        {
          "output_type": "execute_result",
          "data": {
            "text/html": [
              "<div>\n",
              "<style scoped>\n",
              "    .dataframe tbody tr th:only-of-type {\n",
              "        vertical-align: middle;\n",
              "    }\n",
              "\n",
              "    .dataframe tbody tr th {\n",
              "        vertical-align: top;\n",
              "    }\n",
              "\n",
              "    .dataframe thead th {\n",
              "        text-align: right;\n",
              "    }\n",
              "</style>\n",
              "<table border=\"1\" class=\"dataframe\">\n",
              "  <thead>\n",
              "    <tr style=\"text-align: right;\">\n",
              "      <th></th>\n",
              "      <th>Semester</th>\n",
              "      <th>Course</th>\n",
              "      <th>Course Name</th>\n",
              "      <th>Section</th>\n",
              "      <th>Credits</th>\n",
              "      <th>Capacity</th>\n",
              "      <th>Days</th>\n",
              "      <th>Hours</th>\n",
              "      <th>Room</th>\n",
              "      <th>Professor</th>\n",
              "      <th>Id</th>\n",
              "    </tr>\n",
              "  </thead>\n",
              "  <tbody>\n",
              "    <tr>\n",
              "      <th>0</th>\n",
              "      <td>2020S2</td>\n",
              "      <td>FISI3091</td>\n",
              "      <td>ELEMENTS OF PHYSICS</td>\n",
              "      <td>040</td>\n",
              "      <td>3.0</td>\n",
              "      <td>30.0</td>\n",
              "      <td>M  W  F</td>\n",
              "      <td>10:30 am - 11:20 am</td>\n",
              "      <td>325</td>\n",
              "      <td>Carlos Pabon Ortiz</td>\n",
              "      <td>479673</td>\n",
              "    </tr>\n",
              "    <tr>\n",
              "      <th>1</th>\n",
              "      <td>2020S2</td>\n",
              "      <td>FISI3091</td>\n",
              "      <td>ELEMENTS OF PHYSICS</td>\n",
              "      <td>041</td>\n",
              "      <td>3.0</td>\n",
              "      <td>32.0</td>\n",
              "      <td>M  W  F</td>\n",
              "      <td>10:30 am - 11:20 am</td>\n",
              "      <td>322</td>\n",
              "      <td>Samuel Santana Colon</td>\n",
              "      <td>479676</td>\n",
              "    </tr>\n",
              "    <tr>\n",
              "      <th>2</th>\n",
              "      <td>2020S2</td>\n",
              "      <td>FISI3091</td>\n",
              "      <td>ELEMENTS OF PHYSICS</td>\n",
              "      <td>060</td>\n",
              "      <td>3.0</td>\n",
              "      <td>30.0</td>\n",
              "      <td>M  W  F</td>\n",
              "      <td>12:30 pm - 1:20 pm</td>\n",
              "      <td>325</td>\n",
              "      <td>Carlos Pabon Ortiz</td>\n",
              "      <td>479679</td>\n",
              "    </tr>\n",
              "    <tr>\n",
              "      <th>3</th>\n",
              "      <td>2020S2</td>\n",
              "      <td>FISI3091</td>\n",
              "      <td>ELEMENTS OF PHYSICS</td>\n",
              "      <td>070</td>\n",
              "      <td>3.0</td>\n",
              "      <td>33.0</td>\n",
              "      <td>M  W  F</td>\n",
              "      <td>1:30 pm - 2:20 pm</td>\n",
              "      <td>322</td>\n",
              "      <td>Kevin Vargas Velez</td>\n",
              "      <td>479691</td>\n",
              "    </tr>\n",
              "    <tr>\n",
              "      <th>4</th>\n",
              "      <td>2020S2</td>\n",
              "      <td>FISI3092</td>\n",
              "      <td>Elements Of Physics Lab</td>\n",
              "      <td>026</td>\n",
              "      <td>1.0</td>\n",
              "      <td>22.0</td>\n",
              "      <td>Th</td>\n",
              "      <td>8:30 am - 10:20 am</td>\n",
              "      <td>F220</td>\n",
              "      <td>DIANA LIZA CASTILLO</td>\n",
              "      <td>479701</td>\n",
              "    </tr>\n",
              "  </tbody>\n",
              "</table>\n",
              "</div>"
            ],
            "text/plain": [
              "  Semester    Course  ...             Professor      Id\n",
              "0   2020S2  FISI3091  ...    Carlos Pabon Ortiz  479673\n",
              "1   2020S2  FISI3091  ...  Samuel Santana Colon  479676\n",
              "2   2020S2  FISI3091  ...    Carlos Pabon Ortiz  479679\n",
              "3   2020S2  FISI3091  ...    Kevin Vargas Velez  479691\n",
              "4   2020S2  FISI3092  ...   DIANA LIZA CASTILLO  479701\n",
              "\n",
              "[5 rows x 11 columns]"
            ]
          },
          "metadata": {
            "tags": []
          },
          "execution_count": 3
        }
      ]
    },
    {
      "cell_type": "markdown",
      "metadata": {
        "id": "eltgFLp_PXB0"
      },
      "source": [
        "We don't need the \"Semester\" and the \"?\" columns. Let's filter them out"
      ]
    },
    {
      "cell_type": "code",
      "metadata": {
        "id": "i66zhKKTPXB1",
        "colab": {
          "base_uri": "https://localhost:8080/"
        },
        "outputId": "70136189-a947-4f92-ee8c-baa0a103f295"
      },
      "source": [
        "# This gives us the names of the colums available\n",
        "print(df.columns)\n"
      ],
      "execution_count": 4,
      "outputs": [
        {
          "output_type": "stream",
          "text": [
            "Index(['Semester', 'Course', 'Course Name', 'Section', 'Credits', 'Capacity',\n",
            "       'Days', 'Hours', 'Room', 'Professor', 'Id'],\n",
            "      dtype='object')\n"
          ],
          "name": "stdout"
        }
      ]
    },
    {
      "cell_type": "markdown",
      "metadata": {
        "id": "MsmEIkExzRL-"
      },
      "source": [
        " We want so know some info about the data"
      ]
    },
    {
      "cell_type": "code",
      "metadata": {
        "id": "roSWqaqKzMaf",
        "colab": {
          "base_uri": "https://localhost:8080/"
        },
        "outputId": "9e255080-aaf9-4836-aee6-ff8262ec8ea8"
      },
      "source": [
        "relevant=df[['Course',\"Course Name\",'Section','Credits',\"Professor\"]]\r\n",
        "print(relevant.info())"
      ],
      "execution_count": 5,
      "outputs": [
        {
          "output_type": "stream",
          "text": [
            "<class 'pandas.core.frame.DataFrame'>\n",
            "RangeIndex: 147 entries, 0 to 146\n",
            "Data columns (total 5 columns):\n",
            " #   Column       Non-Null Count  Dtype  \n",
            "---  ------       --------------  -----  \n",
            " 0   Course       147 non-null    object \n",
            " 1   Course Name  147 non-null    object \n",
            " 2   Section      147 non-null    object \n",
            " 3   Credits      137 non-null    float64\n",
            " 4   Professor    147 non-null    object \n",
            "dtypes: float64(1), object(4)\n",
            "memory usage: 5.9+ KB\n",
            "None\n"
          ],
          "name": "stdout"
        }
      ]
    },
    {
      "cell_type": "markdown",
      "metadata": {
        "id": "cojVKvhhPXB1"
      },
      "source": [
        "Pandas can automatically convert the data in each column inteligently by looking at the entries in each column. (In our case from `Object` to `String`"
      ]
    },
    {
      "cell_type": "code",
      "metadata": {
        "id": "ThWKp4sBPXB2",
        "colab": {
          "base_uri": "https://localhost:8080/"
        },
        "outputId": "6b9e33de-fbbd-4c3b-a1f4-7a21f12b2365"
      },
      "source": [
        "relevant=relevant.convert_dtypes() #This converts the data\n",
        "\n",
        "# Now we can verify and see the information that our dataframe contains\n",
        "print(relevant.info())\n"
      ],
      "execution_count": 6,
      "outputs": [
        {
          "output_type": "stream",
          "text": [
            "<class 'pandas.core.frame.DataFrame'>\n",
            "RangeIndex: 147 entries, 0 to 146\n",
            "Data columns (total 5 columns):\n",
            " #   Column       Non-Null Count  Dtype \n",
            "---  ------       --------------  ----- \n",
            " 0   Course       147 non-null    string\n",
            " 1   Course Name  147 non-null    string\n",
            " 2   Section      147 non-null    string\n",
            " 3   Credits      137 non-null    Int64 \n",
            " 4   Professor    147 non-null    string\n",
            "dtypes: Int64(1), string(4)\n",
            "memory usage: 6.0 KB\n",
            "None\n"
          ],
          "name": "stdout"
        }
      ]
    },
    {
      "cell_type": "markdown",
      "metadata": {
        "id": "sJaCxL1tPXB2"
      },
      "source": [
        "Now that we have the appropiate format we can choose the columns we want to look at, say \"Professor\" and \"Credits\". And we can also filter the incomplete entries by using the `dropna()` method "
      ]
    },
    {
      "cell_type": "code",
      "metadata": {
        "scrolled": false,
        "id": "TcqBcOrNPXB3",
        "colab": {
          "base_uri": "https://localhost:8080/"
        },
        "outputId": "4d046826-1d5d-44a3-f0b7-54d0c30867a8"
      },
      "source": [
        "prf_and_cred=relevant[[\"Professor\",\"Credits\"]].dropna()\n",
        "prf_and_cred.count() #This shows the amount of entries left"
      ],
      "execution_count": 7,
      "outputs": [
        {
          "output_type": "execute_result",
          "data": {
            "text/plain": [
              "Professor    137\n",
              "Credits      137\n",
              "dtype: int64"
            ]
          },
          "metadata": {
            "tags": []
          },
          "execution_count": 7
        }
      ]
    },
    {
      "cell_type": "markdown",
      "metadata": {
        "id": "0jhd4VMaPXB3"
      },
      "source": [
        "Let's look at the data we have left"
      ]
    },
    {
      "cell_type": "code",
      "metadata": {
        "id": "VBYkyUDOPXB4",
        "colab": {
          "base_uri": "https://localhost:8080/",
          "height": 424
        },
        "outputId": "a2a145b1-a73c-4170-cc26-435872bf740d"
      },
      "source": [
        "prf_and_cred"
      ],
      "execution_count": 8,
      "outputs": [
        {
          "output_type": "execute_result",
          "data": {
            "text/html": [
              "<div>\n",
              "<style scoped>\n",
              "    .dataframe tbody tr th:only-of-type {\n",
              "        vertical-align: middle;\n",
              "    }\n",
              "\n",
              "    .dataframe tbody tr th {\n",
              "        vertical-align: top;\n",
              "    }\n",
              "\n",
              "    .dataframe thead th {\n",
              "        text-align: right;\n",
              "    }\n",
              "</style>\n",
              "<table border=\"1\" class=\"dataframe\">\n",
              "  <thead>\n",
              "    <tr style=\"text-align: right;\">\n",
              "      <th></th>\n",
              "      <th>Professor</th>\n",
              "      <th>Credits</th>\n",
              "    </tr>\n",
              "  </thead>\n",
              "  <tbody>\n",
              "    <tr>\n",
              "      <th>0</th>\n",
              "      <td>Carlos Pabon Ortiz</td>\n",
              "      <td>3</td>\n",
              "    </tr>\n",
              "    <tr>\n",
              "      <th>1</th>\n",
              "      <td>Samuel Santana Colon</td>\n",
              "      <td>3</td>\n",
              "    </tr>\n",
              "    <tr>\n",
              "      <th>2</th>\n",
              "      <td>Carlos Pabon Ortiz</td>\n",
              "      <td>3</td>\n",
              "    </tr>\n",
              "    <tr>\n",
              "      <th>3</th>\n",
              "      <td>Kevin Vargas Velez</td>\n",
              "      <td>3</td>\n",
              "    </tr>\n",
              "    <tr>\n",
              "      <th>4</th>\n",
              "      <td>DIANA LIZA CASTILLO</td>\n",
              "      <td>1</td>\n",
              "    </tr>\n",
              "    <tr>\n",
              "      <th>...</th>\n",
              "      <td>...</td>\n",
              "      <td>...</td>\n",
              "    </tr>\n",
              "    <tr>\n",
              "      <th>136</th>\n",
              "      <td>Erick Roura Davila</td>\n",
              "      <td>1</td>\n",
              "    </tr>\n",
              "    <tr>\n",
              "      <th>137</th>\n",
              "      <td>Samuel Santana Colon</td>\n",
              "      <td>1</td>\n",
              "    </tr>\n",
              "    <tr>\n",
              "      <th>138</th>\n",
              "      <td>Erick Roura Davila</td>\n",
              "      <td>3</td>\n",
              "    </tr>\n",
              "    <tr>\n",
              "      <th>139</th>\n",
              "      <td>Rafael Ramos</td>\n",
              "      <td>3</td>\n",
              "    </tr>\n",
              "    <tr>\n",
              "      <th>140</th>\n",
              "      <td>Henri Radovan</td>\n",
              "      <td>3</td>\n",
              "    </tr>\n",
              "  </tbody>\n",
              "</table>\n",
              "<p>137 rows × 2 columns</p>\n",
              "</div>"
            ],
            "text/plain": [
              "                Professor  Credits\n",
              "0      Carlos Pabon Ortiz        3\n",
              "1    Samuel Santana Colon        3\n",
              "2      Carlos Pabon Ortiz        3\n",
              "3      Kevin Vargas Velez        3\n",
              "4     DIANA LIZA CASTILLO        1\n",
              "..                    ...      ...\n",
              "136    Erick Roura Davila        1\n",
              "137  Samuel Santana Colon        1\n",
              "138    Erick Roura Davila        3\n",
              "139          Rafael Ramos        3\n",
              "140         Henri Radovan        3\n",
              "\n",
              "[137 rows x 2 columns]"
            ]
          },
          "metadata": {
            "tags": []
          },
          "execution_count": 8
        }
      ]
    },
    {
      "cell_type": "markdown",
      "metadata": {
        "id": "rqqBR9EbPXB4"
      },
      "source": [
        "# Formatting"
      ]
    },
    {
      "cell_type": "markdown",
      "metadata": {
        "id": "MSU6Nz-_PXB4"
      },
      "source": [
        "We want to know a few things:\n",
        "- How many professors we have\n",
        "- How many sections (groups) are they teaching\n",
        "- How many credits they have"
      ]
    },
    {
      "cell_type": "markdown",
      "metadata": {
        "id": "3dHxZkICPXB4"
      },
      "source": [
        "First we could sort the lists alfabetically (but counting all of those by hand is a bit tedious)"
      ]
    },
    {
      "cell_type": "code",
      "metadata": {
        "colab": {
          "base_uri": "https://localhost:8080/",
          "height": 424
        },
        "id": "ibYA5WNgeDC5",
        "outputId": "d0f43e4e-5896-4c55-a60b-ed359877053d"
      },
      "source": [
        "sorted=prf_and_cred.sort_values(by=\"Professor\")\r\n",
        "sorted"
      ],
      "execution_count": 9,
      "outputs": [
        {
          "output_type": "execute_result",
          "data": {
            "text/html": [
              "<div>\n",
              "<style scoped>\n",
              "    .dataframe tbody tr th:only-of-type {\n",
              "        vertical-align: middle;\n",
              "    }\n",
              "\n",
              "    .dataframe tbody tr th {\n",
              "        vertical-align: top;\n",
              "    }\n",
              "\n",
              "    .dataframe thead th {\n",
              "        text-align: right;\n",
              "    }\n",
              "</style>\n",
              "<table border=\"1\" class=\"dataframe\">\n",
              "  <thead>\n",
              "    <tr style=\"text-align: right;\">\n",
              "      <th></th>\n",
              "      <th>Professor</th>\n",
              "      <th>Credits</th>\n",
              "    </tr>\n",
              "  </thead>\n",
              "  <tbody>\n",
              "    <tr>\n",
              "      <th>117</th>\n",
              "      <td>ALEXIS         AGUIRRE         NARVAEZ</td>\n",
              "      <td>1</td>\n",
              "    </tr>\n",
              "    <tr>\n",
              "      <th>102</th>\n",
              "      <td>ALEXIS         AGUIRRE         NARVAEZ</td>\n",
              "      <td>1</td>\n",
              "    </tr>\n",
              "    <tr>\n",
              "      <th>110</th>\n",
              "      <td>ALEXIS         AGUIRRE         NARVAEZ</td>\n",
              "      <td>1</td>\n",
              "    </tr>\n",
              "    <tr>\n",
              "      <th>115</th>\n",
              "      <td>ALVARO GUERRERO LAOS</td>\n",
              "      <td>1</td>\n",
              "    </tr>\n",
              "    <tr>\n",
              "      <th>116</th>\n",
              "      <td>ALVARO GUERRERO LAOS</td>\n",
              "      <td>1</td>\n",
              "    </tr>\n",
              "    <tr>\n",
              "      <th>...</th>\n",
              "      <td>...</td>\n",
              "      <td>...</td>\n",
              "    </tr>\n",
              "    <tr>\n",
              "      <th>94</th>\n",
              "      <td>THALIA         QUINTANA        JARAMILLO</td>\n",
              "      <td>1</td>\n",
              "    </tr>\n",
              "    <tr>\n",
              "      <th>90</th>\n",
              "      <td>THALIA         QUINTANA        JARAMILLO</td>\n",
              "      <td>1</td>\n",
              "    </tr>\n",
              "    <tr>\n",
              "      <th>77</th>\n",
              "      <td>Yong Jihn Kim</td>\n",
              "      <td>4</td>\n",
              "    </tr>\n",
              "    <tr>\n",
              "      <th>67</th>\n",
              "      <td>Yong Jihn Kim</td>\n",
              "      <td>4</td>\n",
              "    </tr>\n",
              "    <tr>\n",
              "      <th>70</th>\n",
              "      <td>Yong Jihn Kim</td>\n",
              "      <td>4</td>\n",
              "    </tr>\n",
              "  </tbody>\n",
              "</table>\n",
              "<p>137 rows × 2 columns</p>\n",
              "</div>"
            ],
            "text/plain": [
              "                                    Professor  Credits\n",
              "117    ALEXIS         AGUIRRE         NARVAEZ        1\n",
              "102    ALEXIS         AGUIRRE         NARVAEZ        1\n",
              "110    ALEXIS         AGUIRRE         NARVAEZ        1\n",
              "115                      ALVARO GUERRERO LAOS        1\n",
              "116                      ALVARO GUERRERO LAOS        1\n",
              "..                                        ...      ...\n",
              "94   THALIA         QUINTANA        JARAMILLO        1\n",
              "90   THALIA         QUINTANA        JARAMILLO        1\n",
              "77                              Yong Jihn Kim        4\n",
              "67                              Yong Jihn Kim        4\n",
              "70                              Yong Jihn Kim        4\n",
              "\n",
              "[137 rows x 2 columns]"
            ]
          },
          "metadata": {
            "tags": []
          },
          "execution_count": 9
        }
      ]
    },
    {
      "cell_type": "markdown",
      "metadata": {
        "id": "5mrwD8TAPXB5"
      },
      "source": [
        "A smart way to count the amount of professors available is to count them by their unique name.\n",
        "Let's extract the information from the list of names and count them "
      ]
    },
    {
      "cell_type": "code",
      "metadata": {
        "id": "Xf0y8I0FPXB5"
      },
      "source": [
        "\n",
        "\n",
        "Cred=sorted[\"Credits\"]\n",
        "Prof=sorted[\"Professor\"]\n",
        "\n",
        "\n",
        "# Non sorted\n",
        "# Cred=prf_and_cred[\"Credits\"]\n",
        "\n",
        "# Prof=prf_and_cred[\"Professor\"]\n"
      ],
      "execution_count": 10,
      "outputs": []
    },
    {
      "cell_type": "markdown",
      "metadata": {
        "id": "Il3-yevsPXB5"
      },
      "source": [
        "## How many professors do we have ?"
      ]
    },
    {
      "cell_type": "code",
      "metadata": {
        "id": "sko2cLxUPXB6",
        "colab": {
          "base_uri": "https://localhost:8080/"
        },
        "outputId": "f0c13eda-dd3d-4e03-8e8a-250d4986fd76"
      },
      "source": [
        "Prof.unique()"
      ],
      "execution_count": 11,
      "outputs": [
        {
          "output_type": "execute_result",
          "data": {
            "text/plain": [
              "<StringArray>\n",
              "[   'ALEXIS         AGUIRRE         NARVAEZ',\n",
              "                      'ALVARO GUERRERO LAOS',\n",
              "                      'Alnaldo Zapata Velez',\n",
              "                'Armando Rua De La Asuncion',\n",
              "    'CRISTHIAN      SUAREZ          BARBOSA',\n",
              "                        'Carlos Pabon Ortiz',\n",
              "            'Cesar Augusto Pollack Chinchay',\n",
              "                   'DANILO ARTURO RODRIGUEZ',\n",
              "                       'DIANA LIZA CASTILLO',\n",
              "   'DIEGO          PACHERREZ       GALLARDO',\n",
              "                 'DIEGO GUTIERREZ VILLAREAL',\n",
              "                   'Dilsom Sanchez Quintero',\n",
              "                        'Edgar Albelo Ortiz',\n",
              "                        'Erick Roura Davila',\n",
              "                  'Frank W. Mendoza Centeno',\n",
              "                      'German Vazquez Perez',\n",
              " 'HAROLD         GUERRERO        DE LA CRUZ',\n",
              "                   'Hector Jimenez Gonzalez',\n",
              "                       'Hector Mendez Mella',\n",
              "                             'Henri Radovan',\n",
              "    'JAVIER         RUIDIAZ         BUELVAS',\n",
              "   'JESUS          ORTEGA          CHAGUEZA',\n",
              "                       'Joel De Jesus Matos',\n",
              "               'Juan Eduardo Ramirez Vargas',\n",
              "                     'Julian Salinas Aviles',\n",
              "                               'Junqiang Lu',\n",
              "                       'KEVIN CASTRO ANGULO',\n",
              "                     'KEVIN GARCIA GALLARDO',\n",
              "                        'Kevin Vargas Velez',\n",
              "     'MAURICIO       MATTA           SECLEN',\n",
              "                    'Manuel A Lozano Arroyo',\n",
              "                      'Moises Orengo Aviles',\n",
              "                        'NEFTALI YEPES LARA',\n",
              "              'Neida M. Santacruz Sarmiento',\n",
              "                      'Pablo J Marrero Soto',\n",
              "                              'Rafael Ramos',\n",
              "                      'Raul Portuondo Duany',\n",
              "                      'Samuel Santana Colon',\n",
              "                            'Sergiy Lysenko',\n",
              "                              'Sudhir Malik',\n",
              "  'THALIA         QUINTANA        JARAMILLO',\n",
              "                             'Yong Jihn Kim']\n",
              "Length: 42, dtype: string"
            ]
          },
          "metadata": {
            "tags": []
          },
          "execution_count": 11
        }
      ]
    },
    {
      "cell_type": "markdown",
      "metadata": {
        "id": "vtx5UDmDPXB6"
      },
      "source": [
        "## How many sections do they teach?"
      ]
    },
    {
      "cell_type": "markdown",
      "metadata": {
        "id": "couC0PNOPXB6"
      },
      "source": [
        "Remember what we have so far. `Prof` is a series of names for each section offered."
      ]
    },
    {
      "cell_type": "code",
      "metadata": {
        "id": "S9xN7NuJPXB7",
        "colab": {
          "base_uri": "https://localhost:8080/"
        },
        "outputId": "74c4b10b-49b5-43d2-9df7-4ba0b4b815a4"
      },
      "source": [
        "Prof"
      ],
      "execution_count": 12,
      "outputs": [
        {
          "output_type": "execute_result",
          "data": {
            "text/plain": [
              "117      ALEXIS         AGUIRRE         NARVAEZ\n",
              "102      ALEXIS         AGUIRRE         NARVAEZ\n",
              "110      ALEXIS         AGUIRRE         NARVAEZ\n",
              "115                        ALVARO GUERRERO LAOS\n",
              "116                        ALVARO GUERRERO LAOS\n",
              "                         ...                   \n",
              "94     THALIA         QUINTANA        JARAMILLO\n",
              "90     THALIA         QUINTANA        JARAMILLO\n",
              "77                                Yong Jihn Kim\n",
              "67                                Yong Jihn Kim\n",
              "70                                Yong Jihn Kim\n",
              "Name: Professor, Length: 137, dtype: string"
            ]
          },
          "metadata": {
            "tags": []
          },
          "execution_count": 12
        }
      ]
    },
    {
      "cell_type": "markdown",
      "metadata": {
        "id": "MYiEAvrjPXB7"
      },
      "source": [
        "For this we have many options, but the simplest and fastest one we have is via a method called `value_counts()`. This will return the amount of times the professor's name appears in the list."
      ]
    },
    {
      "cell_type": "code",
      "metadata": {
        "id": "Td5xc-igPXB7",
        "colab": {
          "base_uri": "https://localhost:8080/"
        },
        "outputId": "ccabc7b8-2923-420d-9008-1892b408b6c8"
      },
      "source": [
        "Prof.value_counts()"
      ],
      "execution_count": 13,
      "outputs": [
        {
          "output_type": "execute_result",
          "data": {
            "text/plain": [
              "Erick Roura Davila                           6\n",
              "Samuel Santana Colon                         5\n",
              "Kevin Vargas Velez                           5\n",
              "Cesar Augusto Pollack Chinchay               5\n",
              "Neida M. Santacruz Sarmiento                 5\n",
              "DIANA LIZA CASTILLO                          4\n",
              "Dilsom Sanchez Quintero                      4\n",
              "Junqiang Lu                                  4\n",
              "DIEGO          PACHERREZ       GALLARDO      4\n",
              "Edgar Albelo Ortiz                           4\n",
              "Frank W. Mendoza Centeno                     4\n",
              "CRISTHIAN      SUAREZ          BARBOSA       4\n",
              "DANILO ARTURO RODRIGUEZ                      4\n",
              "Joel De Jesus Matos                          4\n",
              "NEFTALI YEPES LARA                           3\n",
              "ALVARO GUERRERO LAOS                         3\n",
              "Henri Radovan                                3\n",
              "Julian Salinas Aviles                        3\n",
              "Pablo J Marrero Soto                         3\n",
              "Moises Orengo Aviles                         3\n",
              "JAVIER         RUIDIAZ         BUELVAS       3\n",
              "DIEGO GUTIERREZ VILLAREAL                    3\n",
              "MAURICIO       MATTA           SECLEN        3\n",
              "THALIA         QUINTANA        JARAMILLO     3\n",
              "German Vazquez Perez                         3\n",
              "ALEXIS         AGUIRRE         NARVAEZ       3\n",
              "KEVIN GARCIA GALLARDO                        3\n",
              "Yong Jihn Kim                                3\n",
              "KEVIN CASTRO ANGULO                          3\n",
              "HAROLD         GUERRERO        DE LA CRUZ    3\n",
              "Alnaldo Zapata Velez                         3\n",
              "JESUS          ORTEGA          CHAGUEZA      3\n",
              "Carlos Pabon Ortiz                           3\n",
              "Juan Eduardo Ramirez Vargas                  3\n",
              "Manuel A Lozano Arroyo                       3\n",
              "Raul Portuondo Duany                         3\n",
              "Hector Jimenez Gonzalez                      2\n",
              "Hector Mendez Mella                          2\n",
              "Rafael Ramos                                 2\n",
              "Sudhir Malik                                 1\n",
              "Sergiy Lysenko                               1\n",
              "Armando Rua De La Asuncion                   1\n",
              "Name: Professor, dtype: Int64"
            ]
          },
          "metadata": {
            "tags": []
          },
          "execution_count": 13
        }
      ]
    },
    {
      "cell_type": "markdown",
      "metadata": {
        "id": "RgRXVCfVPXB8"
      },
      "source": [
        "This is great!\n",
        "But we can use a plot to show this information in a graphical way"
      ]
    },
    {
      "cell_type": "markdown",
      "metadata": {
        "id": "ysBqOI0GPXB8"
      },
      "source": [
        "### Making a plot \n",
        "We will use Matplotlib's pyplot library for plots"
      ]
    },
    {
      "cell_type": "code",
      "metadata": {
        "id": "MeXkxBDlPXB8"
      },
      "source": [
        "import matplotlib.pyplot as plt"
      ],
      "execution_count": 14,
      "outputs": []
    },
    {
      "cell_type": "markdown",
      "metadata": {
        "id": "bPp8o2CnPXB8"
      },
      "source": [
        "We first need to extract the information in `Prof.value_counts()` somehow. \n",
        "\n",
        "One way is to use `Prof.value_counts().index` to get the names of the professors and use `Prof.value_counts().loc[\"Professor Name\"]` (or `Prof.value_counts().iloc[some number]`) to get the amount of sections.\n",
        "\n",
        "Here is an example"
      ]
    },
    {
      "cell_type": "code",
      "metadata": {
        "id": "9laP0QpUPXB8",
        "colab": {
          "base_uri": "https://localhost:8080/"
        },
        "outputId": "bf1cd506-b299-423a-94d4-3c7184da0447"
      },
      "source": [
        "R=0 #R indicates the row number in Prof.value_counts() function\n",
        "print(\"Amount of sections for\", Prof.value_counts().index[R], \":\", Prof.value_counts().iloc[R]) \n"
      ],
      "execution_count": 15,
      "outputs": [
        {
          "output_type": "stream",
          "text": [
            "Amount of sections for Erick Roura Davila : 6\n"
          ],
          "name": "stdout"
        }
      ]
    },
    {
      "cell_type": "markdown",
      "metadata": {
        "id": "MBGm0B7dPXB9"
      },
      "source": [
        "Let's store this informaiton into two variable called `Names` and `count`."
      ]
    },
    {
      "cell_type": "code",
      "metadata": {
        "id": "g0O1l58_PXB9",
        "colab": {
          "base_uri": "https://localhost:8080/"
        },
        "outputId": "39bc47f0-cf89-4695-8c3a-22b95064211f"
      },
      "source": [
        "Names=Prof.value_counts().index\n",
        "Count=[i for i in Prof.value_counts()]\n",
        "\n",
        "print(Names,\"\\n\",Count)"
      ],
      "execution_count": 16,
      "outputs": [
        {
          "output_type": "stream",
          "text": [
            "Index(['Erick Roura Davila', 'Samuel Santana Colon', 'Kevin Vargas Velez',\n",
            "       'Cesar Augusto Pollack Chinchay', 'Neida M. Santacruz Sarmiento',\n",
            "       'DIANA LIZA CASTILLO', 'Dilsom Sanchez Quintero', 'Junqiang Lu',\n",
            "       'DIEGO          PACHERREZ       GALLARDO', 'Edgar Albelo Ortiz',\n",
            "       'Frank W. Mendoza Centeno', 'CRISTHIAN      SUAREZ          BARBOSA',\n",
            "       'DANILO ARTURO RODRIGUEZ', 'Joel De Jesus Matos', 'NEFTALI YEPES LARA',\n",
            "       'ALVARO GUERRERO LAOS', 'Henri Radovan', 'Julian Salinas Aviles',\n",
            "       'Pablo J Marrero Soto', 'Moises Orengo Aviles',\n",
            "       'JAVIER         RUIDIAZ         BUELVAS', 'DIEGO GUTIERREZ VILLAREAL',\n",
            "       'MAURICIO       MATTA           SECLEN',\n",
            "       'THALIA         QUINTANA        JARAMILLO', 'German Vazquez Perez',\n",
            "       'ALEXIS         AGUIRRE         NARVAEZ', 'KEVIN GARCIA GALLARDO',\n",
            "       'Yong Jihn Kim', 'KEVIN CASTRO ANGULO',\n",
            "       'HAROLD         GUERRERO        DE LA CRUZ', 'Alnaldo Zapata Velez',\n",
            "       'JESUS          ORTEGA          CHAGUEZA', 'Carlos Pabon Ortiz',\n",
            "       'Juan Eduardo Ramirez Vargas', 'Manuel A Lozano Arroyo',\n",
            "       'Raul Portuondo Duany', 'Hector Jimenez Gonzalez',\n",
            "       'Hector Mendez Mella', 'Rafael Ramos', 'Sudhir Malik', 'Sergiy Lysenko',\n",
            "       'Armando Rua De La Asuncion'],\n",
            "      dtype='object') \n",
            " [6, 5, 5, 5, 5, 4, 4, 4, 4, 4, 4, 4, 4, 4, 3, 3, 3, 3, 3, 3, 3, 3, 3, 3, 3, 3, 3, 3, 3, 3, 3, 3, 3, 3, 3, 3, 2, 2, 2, 1, 1, 1]\n"
          ],
          "name": "stdout"
        }
      ]
    },
    {
      "cell_type": "markdown",
      "metadata": {
        "id": "moR_tKd9UQA2"
      },
      "source": [
        "Let's plot Names vs Amount of sections"
      ]
    },
    {
      "cell_type": "code",
      "metadata": {
        "scrolled": false,
        "id": "mwvOCyqoPXB9",
        "colab": {
          "base_uri": "https://localhost:8080/",
          "height": 894
        },
        "outputId": "4a94492f-4241-4f3f-c9ec-0c1edb8cb4d0"
      },
      "source": [
        "plt.figure(figsize=(12,12))\n",
        "plt.barh(Names,Count)\n",
        "plt.xlabel(\"Sections\")\n",
        "plt.grid(axis='x')\n",
        "plt.tight_layout()\n",
        "plt.title(\"Amount of Sections\",fontsize=20)\n",
        "plt.show()"
      ],
      "execution_count": 17,
      "outputs": [
        {
          "output_type": "display_data",
          "data": {
            "image/png": "[encoded data removed]",
            "text/plain": [
              "<Figure size 864x864 with 1 Axes>"
            ]
          },
          "metadata": {
            "tags": [],
            "needs_background": "light"
          }
        }
      ]
    },
    {
      "cell_type": "markdown",
      "metadata": {
        "id": "xJN7LVPyPXB-"
      },
      "source": [
        "Great! we have our plot, but it's kinda dull. Let's use the seaborn library to make the plot look extra nice"
      ]
    },
    {
      "cell_type": "code",
      "metadata": {
        "id": "jmQ0WXblPXB-"
      },
      "source": [
        "import seaborn as sns"
      ],
      "execution_count": 18,
      "outputs": []
    },
    {
      "cell_type": "code",
      "metadata": {
        "id": "Zym3xnKCPXB-",
        "colab": {
          "base_uri": "https://localhost:8080/",
          "height": 903
        },
        "outputId": "796f082d-a8f5-48b9-8711-b2d92bbced83"
      },
      "source": [
        "plt.figure(figsize=(10,12))\n",
        "sns.countplot(y=Prof)\n",
        "plt.xticks(fontsize=15)\n",
        "plt.yticks(fontsize=12)\n",
        "plt.tight_layout()\n",
        "plt.title(\"Amount of sections\",fontsize=20)\n",
        "plt.ylabel(\"Professor\",fontsize=20)\n",
        "plt.xlabel(\"Count\",fontsize=20)\n",
        "plt.show()"
      ],
      "execution_count": 19,
      "outputs": [
        {
          "output_type": "display_data",
          "data": {
            "image/png": "[encoded data removed]",
            "text/plain": [
              "<Figure size 720x864 with 1 Axes>"
            ]
          },
          "metadata": {
            "tags": [],
            "needs_background": "light"
          }
        }
      ]
    },
    {
      "cell_type": "markdown",
      "metadata": {
        "id": "dcegSfs8PXB-"
      },
      "source": [
        "## How many credits do they have?"
      ]
    },
    {
      "cell_type": "markdown",
      "metadata": {
        "id": "soMZHg-NPXB_"
      },
      "source": [
        "For this we can use a combination of methods from pandas. \n",
        "\n",
        "We will use the `groupby()` method and the `get_group()` method to find the amount of credits each professor has.\n",
        "\n",
        "\n",
        "Here's an example"
      ]
    },
    {
      "cell_type": "code",
      "metadata": {
        "id": "DO4RtTwLPXB_",
        "colab": {
          "base_uri": "https://localhost:8080/"
        },
        "outputId": "8ce88b0a-8630-4e65-d29f-482f84dafac9"
      },
      "source": [
        "R=3 #R indicates the row number in Prof.value_counts() function\r\n",
        "print(\"Professor:\", Prof.value_counts().index[R])\r\n",
        "prf_and_cred.groupby(by=\"Professor\").get_group(Prof.value_counts().index[R]).sum()\r\n",
        "# Play with this last line to understand what is being done"
      ],
      "execution_count": 20,
      "outputs": [
        {
          "output_type": "stream",
          "text": [
            "Professor: Cesar Augusto Pollack Chinchay\n"
          ],
          "name": "stdout"
        },
        {
          "output_type": "execute_result",
          "data": {
            "text/plain": [
              "Credits    15\n",
              "dtype: int64"
            ]
          },
          "metadata": {
            "tags": []
          },
          "execution_count": 20
        }
      ]
    },
    {
      "cell_type": "markdown",
      "metadata": {
        "id": "E2xeu0iMPXB_"
      },
      "source": [
        "What is then the amount of credits for all of the professors?\n",
        "Easy!\n",
        "\n",
        "Just take the grouped object and sum up all the credits (**see below**)"
      ]
    },
    {
      "cell_type": "code",
      "metadata": {
        "scrolled": false,
        "id": "HSIH1xQ8PXB_",
        "colab": {
          "base_uri": "https://localhost:8080/",
          "height": 1000
        },
        "outputId": "af73cd53-ae85-425a-c881-ea324010c2b7"
      },
      "source": [
        "prf_and_cred.groupby(by=\"Professor\").sum()\n"
      ],
      "execution_count": 21,
      "outputs": [
        {
          "output_type": "execute_result",
          "data": {
            "text/html": [
              "<div>\n",
              "<style scoped>\n",
              "    .dataframe tbody tr th:only-of-type {\n",
              "        vertical-align: middle;\n",
              "    }\n",
              "\n",
              "    .dataframe tbody tr th {\n",
              "        vertical-align: top;\n",
              "    }\n",
              "\n",
              "    .dataframe thead th {\n",
              "        text-align: right;\n",
              "    }\n",
              "</style>\n",
              "<table border=\"1\" class=\"dataframe\">\n",
              "  <thead>\n",
              "    <tr style=\"text-align: right;\">\n",
              "      <th></th>\n",
              "      <th>Credits</th>\n",
              "    </tr>\n",
              "    <tr>\n",
              "      <th>Professor</th>\n",
              "      <th></th>\n",
              "    </tr>\n",
              "  </thead>\n",
              "  <tbody>\n",
              "    <tr>\n",
              "      <th>ALEXIS         AGUIRRE         NARVAEZ</th>\n",
              "      <td>3</td>\n",
              "    </tr>\n",
              "    <tr>\n",
              "      <th>ALVARO GUERRERO LAOS</th>\n",
              "      <td>3</td>\n",
              "    </tr>\n",
              "    <tr>\n",
              "      <th>Alnaldo Zapata Velez</th>\n",
              "      <td>3</td>\n",
              "    </tr>\n",
              "    <tr>\n",
              "      <th>Armando Rua De La Asuncion</th>\n",
              "      <td>2</td>\n",
              "    </tr>\n",
              "    <tr>\n",
              "      <th>CRISTHIAN      SUAREZ          BARBOSA</th>\n",
              "      <td>4</td>\n",
              "    </tr>\n",
              "    <tr>\n",
              "      <th>Carlos Pabon Ortiz</th>\n",
              "      <td>9</td>\n",
              "    </tr>\n",
              "    <tr>\n",
              "      <th>Cesar Augusto Pollack Chinchay</th>\n",
              "      <td>15</td>\n",
              "    </tr>\n",
              "    <tr>\n",
              "      <th>DANILO ARTURO RODRIGUEZ</th>\n",
              "      <td>4</td>\n",
              "    </tr>\n",
              "    <tr>\n",
              "      <th>DIANA LIZA CASTILLO</th>\n",
              "      <td>4</td>\n",
              "    </tr>\n",
              "    <tr>\n",
              "      <th>DIEGO          PACHERREZ       GALLARDO</th>\n",
              "      <td>4</td>\n",
              "    </tr>\n",
              "    <tr>\n",
              "      <th>DIEGO GUTIERREZ VILLAREAL</th>\n",
              "      <td>3</td>\n",
              "    </tr>\n",
              "    <tr>\n",
              "      <th>Dilsom Sanchez Quintero</th>\n",
              "      <td>14</td>\n",
              "    </tr>\n",
              "    <tr>\n",
              "      <th>Edgar Albelo Ortiz</th>\n",
              "      <td>4</td>\n",
              "    </tr>\n",
              "    <tr>\n",
              "      <th>Erick Roura Davila</th>\n",
              "      <td>17</td>\n",
              "    </tr>\n",
              "    <tr>\n",
              "      <th>Frank W. Mendoza Centeno</th>\n",
              "      <td>15</td>\n",
              "    </tr>\n",
              "    <tr>\n",
              "      <th>German Vazquez Perez</th>\n",
              "      <td>3</td>\n",
              "    </tr>\n",
              "    <tr>\n",
              "      <th>HAROLD         GUERRERO        DE LA CRUZ</th>\n",
              "      <td>3</td>\n",
              "    </tr>\n",
              "    <tr>\n",
              "      <th>Hector Jimenez Gonzalez</th>\n",
              "      <td>6</td>\n",
              "    </tr>\n",
              "    <tr>\n",
              "      <th>Hector Mendez Mella</th>\n",
              "      <td>5</td>\n",
              "    </tr>\n",
              "    <tr>\n",
              "      <th>Henri Radovan</th>\n",
              "      <td>11</td>\n",
              "    </tr>\n",
              "    <tr>\n",
              "      <th>JAVIER         RUIDIAZ         BUELVAS</th>\n",
              "      <td>3</td>\n",
              "    </tr>\n",
              "    <tr>\n",
              "      <th>JESUS          ORTEGA          CHAGUEZA</th>\n",
              "      <td>3</td>\n",
              "    </tr>\n",
              "    <tr>\n",
              "      <th>Joel De Jesus Matos</th>\n",
              "      <td>16</td>\n",
              "    </tr>\n",
              "    <tr>\n",
              "      <th>Juan Eduardo Ramirez Vargas</th>\n",
              "      <td>12</td>\n",
              "    </tr>\n",
              "    <tr>\n",
              "      <th>Julian Salinas Aviles</th>\n",
              "      <td>3</td>\n",
              "    </tr>\n",
              "    <tr>\n",
              "      <th>Junqiang Lu</th>\n",
              "      <td>15</td>\n",
              "    </tr>\n",
              "    <tr>\n",
              "      <th>KEVIN CASTRO ANGULO</th>\n",
              "      <td>3</td>\n",
              "    </tr>\n",
              "    <tr>\n",
              "      <th>KEVIN GARCIA GALLARDO</th>\n",
              "      <td>3</td>\n",
              "    </tr>\n",
              "    <tr>\n",
              "      <th>Kevin Vargas Velez</th>\n",
              "      <td>15</td>\n",
              "    </tr>\n",
              "    <tr>\n",
              "      <th>MAURICIO       MATTA           SECLEN</th>\n",
              "      <td>3</td>\n",
              "    </tr>\n",
              "    <tr>\n",
              "      <th>Manuel A Lozano Arroyo</th>\n",
              "      <td>3</td>\n",
              "    </tr>\n",
              "    <tr>\n",
              "      <th>Moises Orengo Aviles</th>\n",
              "      <td>12</td>\n",
              "    </tr>\n",
              "    <tr>\n",
              "      <th>NEFTALI YEPES LARA</th>\n",
              "      <td>3</td>\n",
              "    </tr>\n",
              "    <tr>\n",
              "      <th>Neida M. Santacruz Sarmiento</th>\n",
              "      <td>16</td>\n",
              "    </tr>\n",
              "    <tr>\n",
              "      <th>Pablo J Marrero Soto</th>\n",
              "      <td>9</td>\n",
              "    </tr>\n",
              "    <tr>\n",
              "      <th>Rafael Ramos</th>\n",
              "      <td>6</td>\n",
              "    </tr>\n",
              "    <tr>\n",
              "      <th>Raul Portuondo Duany</th>\n",
              "      <td>12</td>\n",
              "    </tr>\n",
              "    <tr>\n",
              "      <th>Samuel Santana Colon</th>\n",
              "      <td>15</td>\n",
              "    </tr>\n",
              "    <tr>\n",
              "      <th>Sergiy Lysenko</th>\n",
              "      <td>4</td>\n",
              "    </tr>\n",
              "    <tr>\n",
              "      <th>Sudhir Malik</th>\n",
              "      <td>4</td>\n",
              "    </tr>\n",
              "    <tr>\n",
              "      <th>THALIA         QUINTANA        JARAMILLO</th>\n",
              "      <td>3</td>\n",
              "    </tr>\n",
              "    <tr>\n",
              "      <th>Yong Jihn Kim</th>\n",
              "      <td>12</td>\n",
              "    </tr>\n",
              "  </tbody>\n",
              "</table>\n",
              "</div>"
            ],
            "text/plain": [
              "                                           Credits\n",
              "Professor                                         \n",
              "ALEXIS         AGUIRRE         NARVAEZ           3\n",
              "ALVARO GUERRERO LAOS                             3\n",
              "Alnaldo Zapata Velez                             3\n",
              "Armando Rua De La Asuncion                       2\n",
              "CRISTHIAN      SUAREZ          BARBOSA           4\n",
              "Carlos Pabon Ortiz                               9\n",
              "Cesar Augusto Pollack Chinchay                  15\n",
              "DANILO ARTURO RODRIGUEZ                          4\n",
              "DIANA LIZA CASTILLO                              4\n",
              "DIEGO          PACHERREZ       GALLARDO          4\n",
              "DIEGO GUTIERREZ VILLAREAL                        3\n",
              "Dilsom Sanchez Quintero                         14\n",
              "Edgar Albelo Ortiz                               4\n",
              "Erick Roura Davila                              17\n",
              "Frank W. Mendoza Centeno                        15\n",
              "German Vazquez Perez                             3\n",
              "HAROLD         GUERRERO        DE LA CRUZ        3\n",
              "Hector Jimenez Gonzalez                          6\n",
              "Hector Mendez Mella                              5\n",
              "Henri Radovan                                   11\n",
              "JAVIER         RUIDIAZ         BUELVAS           3\n",
              "JESUS          ORTEGA          CHAGUEZA          3\n",
              "Joel De Jesus Matos                             16\n",
              "Juan Eduardo Ramirez Vargas                     12\n",
              "Julian Salinas Aviles                            3\n",
              "Junqiang Lu                                     15\n",
              "KEVIN CASTRO ANGULO                              3\n",
              "KEVIN GARCIA GALLARDO                            3\n",
              "Kevin Vargas Velez                              15\n",
              "MAURICIO       MATTA           SECLEN            3\n",
              "Manuel A Lozano Arroyo                           3\n",
              "Moises Orengo Aviles                            12\n",
              "NEFTALI YEPES LARA                               3\n",
              "Neida M. Santacruz Sarmiento                    16\n",
              "Pablo J Marrero Soto                             9\n",
              "Rafael Ramos                                     6\n",
              "Raul Portuondo Duany                            12\n",
              "Samuel Santana Colon                            15\n",
              "Sergiy Lysenko                                   4\n",
              "Sudhir Malik                                     4\n",
              "THALIA         QUINTANA        JARAMILLO         3\n",
              "Yong Jihn Kim                                   12"
            ]
          },
          "metadata": {
            "tags": []
          },
          "execution_count": 21
        }
      ]
    },
    {
      "cell_type": "markdown",
      "metadata": {
        "id": "x6Lj-EF6PXCA"
      },
      "source": [
        "Let's save it in a variable for less typing"
      ]
    },
    {
      "cell_type": "code",
      "metadata": {
        "id": "5w1GxoWpPXCA"
      },
      "source": [
        "cred_data=prf_and_cred.groupby(by=\"Professor\").sum().Credits\n"
      ],
      "execution_count": 22,
      "outputs": []
    },
    {
      "cell_type": "code",
      "metadata": {
        "id": "oxlJf50NPXCA",
        "colab": {
          "base_uri": "https://localhost:8080/"
        },
        "outputId": "20632623-6cb9-4942-cb41-9a7b28272a1e"
      },
      "source": [
        "cred_data"
      ],
      "execution_count": 23,
      "outputs": [
        {
          "output_type": "execute_result",
          "data": {
            "text/plain": [
              "Professor\n",
              "ALEXIS         AGUIRRE         NARVAEZ        3\n",
              "ALVARO GUERRERO LAOS                          3\n",
              "Alnaldo Zapata Velez                          3\n",
              "Armando Rua De La Asuncion                    2\n",
              "CRISTHIAN      SUAREZ          BARBOSA        4\n",
              "Carlos Pabon Ortiz                            9\n",
              "Cesar Augusto Pollack Chinchay               15\n",
              "DANILO ARTURO RODRIGUEZ                       4\n",
              "DIANA LIZA CASTILLO                           4\n",
              "DIEGO          PACHERREZ       GALLARDO       4\n",
              "DIEGO GUTIERREZ VILLAREAL                     3\n",
              "Dilsom Sanchez Quintero                      14\n",
              "Edgar Albelo Ortiz                            4\n",
              "Erick Roura Davila                           17\n",
              "Frank W. Mendoza Centeno                     15\n",
              "German Vazquez Perez                          3\n",
              "HAROLD         GUERRERO        DE LA CRUZ     3\n",
              "Hector Jimenez Gonzalez                       6\n",
              "Hector Mendez Mella                           5\n",
              "Henri Radovan                                11\n",
              "JAVIER         RUIDIAZ         BUELVAS        3\n",
              "JESUS          ORTEGA          CHAGUEZA       3\n",
              "Joel De Jesus Matos                          16\n",
              "Juan Eduardo Ramirez Vargas                  12\n",
              "Julian Salinas Aviles                         3\n",
              "Junqiang Lu                                  15\n",
              "KEVIN CASTRO ANGULO                           3\n",
              "KEVIN GARCIA GALLARDO                         3\n",
              "Kevin Vargas Velez                           15\n",
              "MAURICIO       MATTA           SECLEN         3\n",
              "Manuel A Lozano Arroyo                        3\n",
              "Moises Orengo Aviles                         12\n",
              "NEFTALI YEPES LARA                            3\n",
              "Neida M. Santacruz Sarmiento                 16\n",
              "Pablo J Marrero Soto                          9\n",
              "Rafael Ramos                                  6\n",
              "Raul Portuondo Duany                         12\n",
              "Samuel Santana Colon                         15\n",
              "Sergiy Lysenko                                4\n",
              "Sudhir Malik                                  4\n",
              "THALIA         QUINTANA        JARAMILLO      3\n",
              "Yong Jihn Kim                                12\n",
              "Name: Credits, dtype: Int64"
            ]
          },
          "metadata": {
            "tags": []
          },
          "execution_count": 23
        }
      ]
    },
    {
      "cell_type": "markdown",
      "metadata": {
        "id": "Zt-0AH0wPXCA"
      },
      "source": [
        "### Bar plot of Professors and Credits"
      ]
    },
    {
      "cell_type": "code",
      "metadata": {
        "scrolled": false,
        "id": "EFkz1RcmPXCB",
        "colab": {
          "base_uri": "https://localhost:8080/",
          "height": 873
        },
        "outputId": "3aefe7d9-f46c-4110-e788-68d898dcc82b"
      },
      "source": [
        "plt.figure(figsize=(10,12))\n",
        "plt.grid()\n",
        "sns.barplot(x=cred_data,y=cred_data.index)\n",
        "plt.xticks(ticks=range(0,max(cred_data)+1),fontsize=10)\n",
        "plt.title(\"Amount of credits\",fontsize=15)\n",
        "plt.tight_layout()\n",
        "plt.show()"
      ],
      "execution_count": 24,
      "outputs": [
        {
          "output_type": "display_data",
          "data": {
            "image/png": "[encoded data removed]",
            "text/plain": [
              "<Figure size 720x864 with 1 Axes>"
            ]
          },
          "metadata": {
            "tags": [],
            "needs_background": "light"
          }
        }
      ]
    }
  ]
}