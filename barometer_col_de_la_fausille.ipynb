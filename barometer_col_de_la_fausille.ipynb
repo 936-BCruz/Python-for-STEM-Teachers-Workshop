{
  "nbformat": 4,
  "nbformat_minor": 0,
  "metadata": {
    "kernelspec": {
      "display_name": "Python 3",
      "language": "python",
      "name": "python3"
    },
    "language_info": {
      "codemirror_mode": {
        "name": "ipython",
        "version": 3
      },
      "file_extension": ".py",
      "mimetype": "text/x-python",
      "name": "python",
      "nbconvert_exporter": "python",
      "pygments_lexer": "ipython3",
      "version": "3.6.5"
    },
    "colab": {
      "name": "barometer_col_de_la_fausille.ipynb",
      "provenance": [],
      "collapsed_sections": [],
      "include_colab_link": true
    }
  },
  "cells": [
    {
      "cell_type": "markdown",
      "metadata": {
        "id": "view-in-github",
        "colab_type": "text"
      },
      "source": [
        "<a href=\"https://colab.research.google.com/github/GuillermoFidalgo/Python-for-STEM-Teachers-Workshop/blob/master/barometer_col_de_la_fausille.ipynb\" target=\"_parent\"><img src=\"https://colab.research.google.com/assets/colab-badge.svg\" alt=\"Open In Colab\"/></a>"
      ]
    },
    {
      "cell_type": "markdown",
      "metadata": {
        "id": "VPLk0mYizwe5",
        "colab_type": "text"
      },
      "source": [
        "# Measuring atmospheric pressure"
      ]
    },
    {
      "cell_type": "markdown",
      "metadata": {
        "id": "3F1aBitqzwfA",
        "colab_type": "text"
      },
      "source": [
        "In this exercise we used a Sony XPeria phone's sensors with the [PhyPhox](https://phyphox.org/) application to measure ambient air pressure on a sunny summer day in southern France. We begin our descent from the Jura mountains at Col de la Fausille and end down at a parking lot at CERN's Meyrin site in Switzerland."
      ]
    },
    {
      "cell_type": "code",
      "metadata": {
        "id": "BZeWXY1ezwfF",
        "colab_type": "code",
        "colab": {}
      },
      "source": [
        "# Let's load the relevant python modules.\n",
        "\n",
        "import pandas as pd\n",
        "import matplotlib.pyplot as plt\n",
        "import numpy as np\n",
        "\n",
        "%matplotlib inline"
      ],
      "execution_count": 0,
      "outputs": []
    },
    {
      "cell_type": "code",
      "metadata": {
        "id": "guMV6ZgkzwfT",
        "colab_type": "code",
        "colab": {}
      },
      "source": [
        "# Load the relevant data.\n",
        "\n",
        "baro = pd.read_csv(\"barometri_fausille.csv\")"
      ],
      "execution_count": 0,
      "outputs": []
    },
    {
      "cell_type": "code",
      "metadata": {
        "id": "v094r9owzwfb",
        "colab_type": "code",
        "outputId": "1c668ec5-fe23-4693-e4c4-bf1ba12c872c",
        "colab": {
          "base_uri": "https://localhost:8080/",
          "height": 204
        }
      },
      "source": [
        "# Take a look at the data.\n",
        "\n",
        "baro.head()"
      ],
      "execution_count": 0,
      "outputs": [
        {
          "output_type": "execute_result",
          "data": {
            "text/html": [
              "<div>\n",
              "<style scoped>\n",
              "    .dataframe tbody tr th:only-of-type {\n",
              "        vertical-align: middle;\n",
              "    }\n",
              "\n",
              "    .dataframe tbody tr th {\n",
              "        vertical-align: top;\n",
              "    }\n",
              "\n",
              "    .dataframe thead th {\n",
              "        text-align: right;\n",
              "    }\n",
              "</style>\n",
              "<table border=\"1\" class=\"dataframe\">\n",
              "  <thead>\n",
              "    <tr style=\"text-align: right;\">\n",
              "      <th></th>\n",
              "      <th>Time (s)</th>\n",
              "      <th>Pressure (hPa)</th>\n",
              "    </tr>\n",
              "  </thead>\n",
              "  <tbody>\n",
              "    <tr>\n",
              "      <th>0</th>\n",
              "      <td>0.000000</td>\n",
              "      <td>872.580444</td>\n",
              "    </tr>\n",
              "    <tr>\n",
              "      <th>1</th>\n",
              "      <td>0.017395</td>\n",
              "      <td>872.660400</td>\n",
              "    </tr>\n",
              "    <tr>\n",
              "      <th>2</th>\n",
              "      <td>0.050964</td>\n",
              "      <td>872.870239</td>\n",
              "    </tr>\n",
              "    <tr>\n",
              "      <th>3</th>\n",
              "      <td>0.084503</td>\n",
              "      <td>873.020142</td>\n",
              "    </tr>\n",
              "    <tr>\n",
              "      <th>4</th>\n",
              "      <td>0.118103</td>\n",
              "      <td>873.110107</td>\n",
              "    </tr>\n",
              "  </tbody>\n",
              "</table>\n",
              "</div>"
            ],
            "text/plain": [
              "   Time (s)  Pressure (hPa)\n",
              "0  0.000000      872.580444\n",
              "1  0.017395      872.660400\n",
              "2  0.050964      872.870239\n",
              "3  0.084503      873.020142\n",
              "4  0.118103      873.110107"
            ]
          },
          "metadata": {
            "tags": []
          },
          "execution_count": 5
        }
      ]
    },
    {
      "cell_type": "code",
      "metadata": {
        "id": "LeXW85x-zwfi",
        "colab_type": "code",
        "colab": {}
      },
      "source": [
        "# Since the data has only time and pressure, we'll calculate the height difference from known formulas\n",
        "# and add the values in the dataframe.\n",
        "\n",
        "maxp = max(baro[\"Pressure (hPa)\"])\n",
        "dp = list(maxp-baro[\"Pressure (hPa)\"].copy())\n",
        "baro[\"Height (m)\"] = np.ones(len(baro))\n",
        "\n",
        "# Since we know our destination is elevated about 440 m from the sea level:\n",
        "\n",
        "for i in range(0, len(dp)):\n",
        "    baro[\"Height (m)\"][i] = dp[i]*(10/1.2) + 440"
      ],
      "execution_count": 0,
      "outputs": []
    },
    {
      "cell_type": "code",
      "metadata": {
        "id": "Dj49XNCqzwfp",
        "colab_type": "code",
        "outputId": "e3e34473-5327-40d8-869b-bed7c8646eb2",
        "colab": {
          "base_uri": "https://localhost:8080/",
          "height": 394
        }
      },
      "source": [
        "# Here's the plot vs. time. Can you tell where our car stood still?\n",
        "\n",
        "fig, ax1 = plt.subplots()\n",
        "\n",
        "fig.set_figwidth(20)\n",
        "fig.set_figheight(5)\n",
        "\n",
        "eka, = plt.plot(baro[\"Time (s)\"],baro[\"Pressure (hPa)\"], c = 'r', label = 'Pressure')\n",
        "plt.title(\"Air pressure on the way down from Col de la Fausille \\n\", fontsize = 15)\n",
        "plt.xlabel(\"Time (s)\", fontsize = 15)\n",
        "plt.ylabel(\"Pressure (hPa) \\n\", fontsize = 15)\n",
        "\n",
        "ax2 = ax1.twinx()\n",
        "ax2.set_ylabel('Height (m) \\n', fontsize = 15)\n",
        "\n",
        "toka, = plt.plot(baro[\"Time (s)\"], baro[\"Height (m)\"], c = 'b', label = 'Height')\n",
        "\n",
        "axes=fig.gca()\n",
        "axes.set_ylim(0,1500)\n",
        "\n",
        "plt.legend([eka, toka],['Pressure', 'Height'], loc = 'lower right')\n",
        "plt.show()"
      ],
      "execution_count": 0,
      "outputs": [
        {
          "output_type": "display_data",
          "data": {
            "image/png": "[encoded data removed]",
            "text/plain": [
              "<Figure size 1440x360 with 2 Axes>"
            ]
          },
          "metadata": {
            "tags": []
          }
        }
      ]
    },
    {
      "cell_type": "code",
      "metadata": {
        "id": "Xba0EncHzwf0",
        "colab_type": "code",
        "colab": {}
      },
      "source": [
        "# Since time isn't physically very interesting here, let's try the height instead.\n",
        "\n",
        "plt.figure(figsize = (20,5))\n",
        "\n",
        "plt.plot(baro[\"Height (m)\"], baro[\"Pressure (hPa)\"])\n",
        "plt.title(\"Air pressure \\n\", fontsize = 15)\n",
        "plt.xlabel(\"Height (m)\", fontsize = 15)\n",
        "plt.ylabel(\"Pressure (hPa) \\n\", fontsize = 15)\n",
        "\n",
        "plt.show()"
      ],
      "execution_count": 0,
      "outputs": []
    }
  ]
}